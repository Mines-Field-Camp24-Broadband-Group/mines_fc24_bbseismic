{
 "cells": [
  {
   "cell_type": "code",
   "execution_count": 131,
   "id": "8bfcf321-d78b-4cbc-ae19-a2749fe77700",
   "metadata": {},
   "outputs": [],
   "source": [
    "import os\n",
    "import datetime\n",
    "from obspy import read\n",
    "import difflib"
   ]
  },
  {
   "cell_type": "code",
   "execution_count": 49,
   "id": "ea82b6a8-4652-4a7e-a4cc-1763660fa3f8",
   "metadata": {},
   "outputs": [],
   "source": [
    "def makeDateString(original):\n",
    "    year = original.year\n",
    "    month = original.month\n",
    "    day = original.day\n",
    "\n",
    "    time = str(original.time)[0:2] + str(original.time)[3:5] + str(original.time)[6:8]\n",
    "\n",
    "    new = str(year) + str(month) + str(day) + 'T' + time + 'Z'\n",
    "    return new\n",
    "    "
   ]
  },
  {
   "cell_type": "code",
   "execution_count": 52,
   "id": "e0ff9bdb-a70b-4100-9347-8c14c92961fd",
   "metadata": {},
   "outputs": [],
   "source": [
    "def renameFile(original):\n",
    "\n",
    "    st = read(original)\n",
    "    network = st[0].stats.network\n",
    "    station = st[0].stats.station\n",
    "    location = st[0].stats.location\n",
    "    channel = st[0].stats.channel\n",
    "    starttime = makeDateString(st[0].stats.starttime)\n",
    "    endtime = makeDateString(st[0].stats.endtime)\n",
    "\n",
    "    new = network + '.' + station + '..' + channel + '__' + starttime + '__' + endtime + '.miniseed'\n",
    "    \n",
    "    os.rename(original, new)\n"
   ]
  },
  {
   "cell_type": "code",
   "execution_count": 45,
   "id": "1078beac-cfda-4bd3-85c5-dcdc593367ad",
   "metadata": {},
   "outputs": [],
   "source": [
    "def renameFolder(folderPath):\n",
    "    files = os.listdir(folderPath)\n",
    "    for file in files:\n",
    "        renameFile(folderPath + '/' + file)\n",
    "        "
   ]
  },
  {
   "cell_type": "code",
   "execution_count": 59,
   "id": "7fbc5e31-d73e-44f7-ac2e-f4a2da44afb4",
   "metadata": {},
   "outputs": [],
   "source": [
    "folderpath = 'BB03'\n",
    "\n",
    "renameFolder(folderpath)"
   ]
  },
  {
   "cell_type": "code",
   "execution_count": 132,
   "id": "58d9f846-fa78-4589-b3ba-f8f85d81e78d",
   "metadata": {},
   "outputs": [],
   "source": [
    "def makeAlgFile(folderpath, filename):\n",
    "    \n",
    "    files = os.listdir(folderpath)\n",
    "\n",
    "    f = open(filename, \"w\")\n",
    "    \n",
    "\n",
    "    for file in files[0:int(len(files)/3)]: #for the component 1 files make a new line with file name\n",
    "        fileLine = file\n",
    "        filecomps = 1\n",
    "        \n",
    "        for comp in files: #for each file in file list run a comparisson finding the 2 and Z components\n",
    "\n",
    "            if filecomps <2:\n",
    "         \n",
    "                cases=[(comp, (file[0:11]+'2'+file[12:]))] #first do the 2 component\n",
    "    \n",
    "                for a,b in cases:        \n",
    "                    count = 0\n",
    "                    for i,s in enumerate(difflib.ndiff(a, b)):\n",
    "                        count += 1\n",
    "                        if count == 12:\n",
    "                            print(\".\" + s + \".\")\n",
    "                            if s[0]==' ': \n",
    "                                fileLine= fileLine +(\" \" + b)\n",
    "                                filecomps = 2\n",
    "                            \n",
    "            if filecomps < 3:\n",
    "                cases=[(comp, (file[0:11]+'Z'+file[12:])) ]\n",
    "                for a,b in cases:        \n",
    "                    count = 0\n",
    "                    for i,s in enumerate(difflib.ndiff(a, b)):\n",
    "                        count += 1\n",
    "                        if count == 12:\n",
    "                            print(\".\" + s + \".\")\n",
    "                            if s[0]==' ': \n",
    "                                fileLine= fileLine +(\" \" + b)\n",
    "                                filecomps = 3\n",
    "                            \n",
    "        fileLine = fileLine + ('\\n')  \n",
    "        f.write(fileLine)\n",
    "    f.close()\n",
    "        \n",
    "        \n",
    "    "
   ]
  },
  {
   "cell_type": "code",
   "execution_count": 133,
   "id": "b408a484-f9e5-4bbd-b359-1eaec3228671",
   "metadata": {},
   "outputs": [
    {
     "name": "stdout",
     "output_type": "stream",
     "text": [
      ".- 1.\n",
      ".- 1.\n",
      ".- 1.\n",
      ".- 1.\n",
      ".- 1.\n",
      ".- 1.\n",
      ".  2.\n",
      ".- 2.\n",
      ".- 2.\n",
      ".- 2.\n",
      ".  Z.\n",
      ".- 1.\n",
      ".- 1.\n",
      ".- 1.\n",
      ".- 1.\n",
      ".- 1.\n",
      ".- 1.\n",
      ".  2.\n",
      ".- 2.\n",
      ".- 2.\n",
      ".- 2.\n",
      ".  Z.\n",
      ".- 1.\n",
      ".- 1.\n",
      ".- 1.\n",
      ".- 1.\n",
      ".- 1.\n",
      ".- 1.\n",
      ".  2.\n",
      ".- 2.\n",
      ".- 2.\n",
      ".- 2.\n",
      ".  Z.\n"
     ]
    }
   ],
   "source": [
    "makeAlgFile('BB01', 'BB01forAlg.txt')"
   ]
  }
 ],
 "metadata": {
  "kernelspec": {
   "display_name": "Python 3 (ipykernel)",
   "language": "python",
   "name": "python3"
  },
  "language_info": {
   "codemirror_mode": {
    "name": "ipython",
    "version": 3
   },
   "file_extension": ".py",
   "mimetype": "text/x-python",
   "name": "python",
   "nbconvert_exporter": "python",
   "pygments_lexer": "ipython3",
   "version": "3.12.3"
  }
 },
 "nbformat": 4,
 "nbformat_minor": 5
}
