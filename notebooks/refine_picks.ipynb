{
 "cells": [
  {
   "cell_type": "code",
   "execution_count": 105,
   "id": "0b7399bf-4c7f-4662-a367-1452b41c0203",
   "metadata": {},
   "outputs": [],
   "source": [
    "from datetime import datetime\n",
    "from datetime import timedelta\n",
    "import pandas as pd"
   ]
  },
  {
   "cell_type": "code",
   "execution_count": 106,
   "id": "52284906-a9c9-497a-bea7-8db2d4e0af1c",
   "metadata": {},
   "outputs": [],
   "source": [
    "def refine_picks(originalName, secondsBetween):\n",
    "    f = pd.read_csv(originalName+'.out', sep=' ', header=None)\n",
    "\n",
    "    #first change all times to strings\n",
    "    date_str = '%Y-%m-%dT%H:%M:%S.%f'\n",
    "    \n",
    "    for row in range(len(f.iloc[:][0])):\n",
    "        f.loc[row,3] = datetime.strptime(f.iloc[row][3], date_str)\n",
    "\n",
    "    x = secondsBetween\n",
    "    \n",
    "    df = pd.DataFrame(data={'array': [], 'station': [], 'wave type': [], 'datetime':[]})\n",
    "    Pflag = False\n",
    "    for row in range(len(f[0][:])):\n",
    "        # first find a P wave\n",
    "        if f.iloc[row][2] == 'P': \n",
    "            # then make P flag True to check next one\n",
    "            Pflag = True\n",
    "        if f.iloc[row][2] == 'S' and Pflag == True:\n",
    "            # if there is an S wave following a P wave, check time difference\n",
    "            difference = abs((f.iloc[row-1][3] - f.iloc[row][3]))#.total_seconds())\n",
    "            print(f.iloc[row-1][3] - f.iloc[row][3])\n",
    "            print(difference)\n",
    "            if difference <= timedelta(seconds=x):\n",
    "                # add p wave to dataframe\n",
    "                df.loc[len(df.index)] = [f.iloc[row-1][0], f.iloc[row-1][1], f.iloc[row-1][2], f.iloc[row-1][3]]\n",
    "                # add s wave to dataframe\n",
    "                df.loc[len(df.index)] = [f.iloc[row][0], f.iloc[row][1], f.iloc[row][2], f.iloc[row][3]]\n",
    "        if f.iloc[row][2] == 'S':\n",
    "            Pflag = False\n",
    "    df.to_csv(originalName + '_refined.txt')"
   ]
  },
  {
   "cell_type": "code",
   "execution_count": 113,
   "id": "4bbadc90-6650-433e-92d8-e5d30a9c5014",
   "metadata": {},
   "outputs": [
    {
     "name": "stdout",
     "output_type": "stream",
     "text": [
      "5:33:19.800000\n",
      "5:33:19.800000\n",
      "3:30:37.300000\n",
      "3:30:37.300000\n",
      "2:47:04.700000\n",
      "2:47:04.700000\n"
     ]
    }
   ],
   "source": [
    "refine_picks('HAYD_2022_05_19', 5)"
   ]
  }
 ],
 "metadata": {
  "kernelspec": {
   "display_name": "Python 3 (ipykernel)",
   "language": "python",
   "name": "python3"
  },
  "language_info": {
   "codemirror_mode": {
    "name": "ipython",
    "version": 3
   },
   "file_extension": ".py",
   "mimetype": "text/x-python",
   "name": "python",
   "nbconvert_exporter": "python",
   "pygments_lexer": "ipython3",
   "version": "3.9.19"
  }
 },
 "nbformat": 4,
 "nbformat_minor": 5
}
