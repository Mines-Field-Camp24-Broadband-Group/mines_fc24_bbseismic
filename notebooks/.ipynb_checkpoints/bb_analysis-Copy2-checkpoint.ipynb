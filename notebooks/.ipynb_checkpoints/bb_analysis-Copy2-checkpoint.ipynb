{
 "cells": [
  {
   "cell_type": "markdown",
   "id": "3bad7d87-ea4c-4a9e-bae4-29b55ed48e56",
   "metadata": {},
   "source": [
    "# Processing and Analyzing Broadband Seismometer Data\n",
    "\n",
    "Nathan Bigelow \\\n",
    "nathanbigelow@mines.edu\n",
    "\n",
    "## Important Notes For Data Analysis:\n",
    "\n",
    "### - File notations (e.g. 'HH1'):\n",
    "- First letter: Band Code\n",
    "- Second letter: Instrument Code\n",
    "- Third letter: component direction\n",
    "\n",
    "### - BB01\n",
    "- 9 files total: 3 traces (138,142,144) for each of the 3 component traces (x,y,z), denoted as (EH1,EH2,EHZ)\n",
    "- 138: starts 5/17 @ 16:18 to 16:22\n",
    "- 142: starts 5/21 @ 00:22 to 00:23\n",
    "- 144: starts 5/23 @ 16:30 to 16:30\n",
    "\n",
    "### - BB02\n",
    "- 9 files total: 3 for each component (1,2,Z) and 3 for each channel (HH,LH,VM)\n",
    "- 138: starts 5/17 @ 02:03 to 03:53\n",
    "\n",
    "### - BB03\n",
    "- 9 files total: 3 for each component (1,2,Z) and 3 for each channel (HH,LH,VM)\n",
    "- 138: starts 5/17 @ 16:49 to 17:41\n",
    "\n",
    "## Project Deliverables\n",
    "- example of how arrival detection code is used\n",
    "- list of detected events (small, local scale)\n",
    "- get differences in P and S arrivals for each event detected\n",
    "- plot map of source radii from each station that detected a given event - possibly get directionality\n",
    "- analyze other nearby BB seismometer stations (e.g. Hayden)\n"
   ]
  },
  {
   "cell_type": "code",
   "execution_count": 1,
   "id": "218425a8-c246-4948-a79c-9b217b475320",
   "metadata": {},
   "outputs": [],
   "source": [
    "from pyrocko import io, trace, pile"
   ]
  },
  {
   "cell_type": "code",
   "execution_count": 1,
   "id": "2f2978ec-842d-448f-99d4-53f1b76b487a",
   "metadata": {
    "collapsed": true,
    "jupyter": {
     "outputs_hidden": true
    },
    "tags": []
   },
   "outputs": [
    {
     "name": "stderr",
     "output_type": "stream",
     "text": [
      "qt.qpa.fonts: Populating font family aliases took 289 ms. Replace uses of missing font family \".AppleSystemUIFont\" with one that exists to avoid this cost. \n"
     ]
    },
    {
     "ename": "TypeError",
     "evalue": "setLeft(self, pos: int): argument 1 has unexpected type 'float'",
     "output_type": "error",
     "traceback": [
      "\u001b[0;31m---------------------------------------------------------------------------\u001b[0m",
      "\u001b[0;31mTypeError\u001b[0m                                 Traceback (most recent call last)",
      "File \u001b[0;32m~/mambaforge/envs/gpgn-318/lib/python3.11/site-packages/pyrocko/gui/util.py:948\u001b[0m, in \u001b[0;36mColorbarSlider.paintEvent\u001b[0;34m(self, e)\u001b[0m\n\u001b[1;32m    942\u001b[0m \u001b[38;5;28mself\u001b[39m\u001b[38;5;241m.\u001b[39m_set_window(p\u001b[38;5;241m.\u001b[39mwindow())\n\u001b[1;32m    944\u001b[0m p\u001b[38;5;241m.\u001b[39mdrawImage(\n\u001b[1;32m    945\u001b[0m     p\u001b[38;5;241m.\u001b[39mwindow(),\n\u001b[1;32m    946\u001b[0m     get_colormap_qimage(\u001b[38;5;28mself\u001b[39m\u001b[38;5;241m.\u001b[39mcmap_name, \u001b[38;5;28mself\u001b[39m\u001b[38;5;241m.\u001b[39mclip_min, \u001b[38;5;28mself\u001b[39m\u001b[38;5;241m.\u001b[39mclip_max))\n\u001b[0;32m--> 948\u001b[0m left_line \u001b[38;5;241m=\u001b[39m \u001b[38;5;28;43mself\u001b[39;49m\u001b[38;5;241;43m.\u001b[39;49m\u001b[43m_get_left_line\u001b[49m\u001b[43m(\u001b[49m\u001b[43m)\u001b[49m\n\u001b[1;32m    949\u001b[0m right_line \u001b[38;5;241m=\u001b[39m \u001b[38;5;28mself\u001b[39m\u001b[38;5;241m.\u001b[39m_get_right_line()\n\u001b[1;32m    951\u001b[0m pen \u001b[38;5;241m=\u001b[39m qg\u001b[38;5;241m.\u001b[39mQPen()\n",
      "File \u001b[0;32m~/mambaforge/envs/gpgn-318/lib/python3.11/site-packages/pyrocko/gui/util.py:824\u001b[0m, in \u001b[0;36mColorbarSlider._get_left_line\u001b[0;34m(self)\u001b[0m\n\u001b[1;32m    823\u001b[0m \u001b[38;5;28;01mdef\u001b[39;00m \u001b[38;5;21m_get_left_line\u001b[39m(\u001b[38;5;28mself\u001b[39m):\n\u001b[0;32m--> 824\u001b[0m     rect \u001b[38;5;241m=\u001b[39m \u001b[38;5;28;43mself\u001b[39;49m\u001b[38;5;241;43m.\u001b[39;49m\u001b[43m_get_active_rect\u001b[49m\u001b[43m(\u001b[49m\u001b[43m)\u001b[49m\n\u001b[1;32m    825\u001b[0m     \u001b[38;5;28;01mif\u001b[39;00m \u001b[38;5;129;01mnot\u001b[39;00m rect:\n\u001b[1;32m    826\u001b[0m         \u001b[38;5;28;01mreturn\u001b[39;00m\n",
      "File \u001b[0;32m~/mambaforge/envs/gpgn-318/lib/python3.11/site-packages/pyrocko/gui/util.py:840\u001b[0m, in \u001b[0;36mColorbarSlider._get_active_rect\u001b[0;34m(self)\u001b[0m\n\u001b[1;32m    838\u001b[0m rect \u001b[38;5;241m=\u001b[39m qc\u001b[38;5;241m.\u001b[39mQRect(\u001b[38;5;28mself\u001b[39m\u001b[38;5;241m.\u001b[39m_window)\n\u001b[1;32m    839\u001b[0m width \u001b[38;5;241m=\u001b[39m rect\u001b[38;5;241m.\u001b[39mwidth()\n\u001b[0;32m--> 840\u001b[0m \u001b[43mrect\u001b[49m\u001b[38;5;241;43m.\u001b[39;49m\u001b[43msetLeft\u001b[49m\u001b[43m(\u001b[49m\u001b[43mwidth\u001b[49m\u001b[43m \u001b[49m\u001b[38;5;241;43m*\u001b[39;49m\u001b[43m \u001b[49m\u001b[38;5;28;43mself\u001b[39;49m\u001b[38;5;241;43m.\u001b[39;49m\u001b[43mclip_min\u001b[49m\u001b[43m)\u001b[49m\n\u001b[1;32m    841\u001b[0m rect\u001b[38;5;241m.\u001b[39msetRight(width \u001b[38;5;241m*\u001b[39m \u001b[38;5;28mself\u001b[39m\u001b[38;5;241m.\u001b[39mclip_max)\n\u001b[1;32m    842\u001b[0m \u001b[38;5;28;01mreturn\u001b[39;00m rect\n",
      "\u001b[0;31mTypeError\u001b[0m: setLeft(self, pos: int): argument 1 has unexpected type 'float'"
     ]
    },
    {
     "name": "stderr",
     "output_type": "stream",
     "text": [
      "QBackingStore::endPaint() called with active painter; did you forget to destroy it or call QPainter::end() on it?\n",
      "QPainter::begin: A paint device can only be painted by one painter at a time.\n",
      "QPainter::setCompositionMode: Painter not active\n",
      "QBackingStore::endPaint() called with active painter; did you forget to destroy it or call QPainter::end() on it?\n",
      "QPainter::begin: A paint device can only be painted by one painter at a time.\n",
      "QPainter::setCompositionMode: Painter not active\n",
      "QBackingStore::endPaint() called with active painter; did you forget to destroy it or call QPainter::end() on it?\n",
      "QPainter::begin: A paint device can only be painted by one painter at a time.\n",
      "QPainter::setCompositionMode: Painter not active\n",
      "QBackingStore::endPaint() called with active painter; did you forget to destroy it or call QPainter::end() on it?\n",
      "QPainter::begin: A paint device can only be painted by one painter at a time.\n",
      "QPainter::setCompositionMode: Painter not active\n",
      "QBackingStore::endPaint() called with active painter; did you forget to destroy it or call QPainter::end() on it?\n",
      "QPainter::begin: A paint device can only be painted by one painter at a time.\n",
      "QPainter::setCompositionMode: Painter not active\n",
      "QBackingStore::endPaint() called with active painter; did you forget to destroy it or call QPainter::end() on it?\n",
      "QPainter::begin: A paint device can only be painted by one painter at a time.\n",
      "QPainter::setCompositionMode: Painter not active\n",
      "QBackingStore::endPaint() called with active painter; did you forget to destroy it or call QPainter::end() on it?\n",
      "QPainter::begin: A paint device can only be painted by one painter at a time.\n",
      "QPainter::setCompositionMode: Painter not active\n",
      "QBackingStore::endPaint() called with active painter; did you forget to destroy it or call QPainter::end() on it?\n",
      "QPainter::begin: A paint device can only be painted by one painter at a time.\n",
      "QPainter::setCompositionMode: Painter not active\n",
      "QBackingStore::endPaint() called with active painter; did you forget to destroy it or call QPainter::end() on it?\n",
      "QPainter::begin: A paint device can only be painted by one painter at a time.\n",
      "QPainter::setCompositionMode: Painter not active\n",
      "QBackingStore::endPaint() called with active painter; did you forget to destroy it or call QPainter::end() on it?\n",
      "QPainter::begin: A paint device can only be painted by one painter at a time.\n",
      "QPainter::setCompositionMode: Painter not active\n",
      "QBackingStore::endPaint() called with active painter; did you forget to destroy it or call QPainter::end() on it?\n",
      "QPainter::begin: A paint device can only be painted by one painter at a time.\n",
      "QPainter::setCompositionMode: Painter not active\n",
      "QBackingStore::endPaint() called with active painter; did you forget to destroy it or call QPainter::end() on it?\n",
      "QPainter::begin: A paint device can only be painted by one painter at a time.\n",
      "QPainter::setCompositionMode: Painter not active\n",
      "QBackingStore::endPaint() called with active painter; did you forget to destroy it or call QPainter::end() on it?\n",
      "QPainter::begin: A paint device can only be painted by one painter at a time.\n",
      "QPainter::setCompositionMode: Painter not active\n",
      "QBackingStore::endPaint() called with active painter; did you forget to destroy it or call QPainter::end() on it?\n",
      "QPainter::begin: A paint device can only be painted by one painter at a time.\n",
      "QPainter::setCompositionMode: Painter not active\n",
      "QBackingStore::endPaint() called with active painter; did you forget to destroy it or call QPainter::end() on it?\n",
      "QPainter::begin: A paint device can only be painted by one painter at a time.\n",
      "QPainter::setCompositionMode: Painter not active\n",
      "QBackingStore::endPaint() called with active painter; did you forget to destroy it or call QPainter::end() on it?\n",
      "QPainter::begin: A paint device can only be painted by one painter at a time.\n",
      "QPainter::setCompositionMode: Painter not active\n",
      "QBackingStore::endPaint() called with active painter; did you forget to destroy it or call QPainter::end() on it?\n",
      "QPainter::begin: A paint device can only be painted by one painter at a time.\n",
      "QPainter::setCompositionMode: Painter not active\n",
      "QBackingStore::endPaint() called with active painter; did you forget to destroy it or call QPainter::end() on it?\n",
      "QPainter::begin: A paint device can only be painted by one painter at a time.\n",
      "QPainter::setCompositionMode: Painter not active\n",
      "QBackingStore::endPaint() called with active painter; did you forget to destroy it or call QPainter::end() on it?\n",
      "QPainter::begin: A paint device can only be painted by one painter at a time.\n",
      "QPainter::setCompositionMode: Painter not active\n",
      "QBackingStore::endPaint() called with active painter; did you forget to destroy it or call QPainter::end() on it?\n",
      "QPainter::begin: A paint device can only be painted by one painter at a time.\n",
      "QPainter::setCompositionMode: Painter not active\n",
      "QBackingStore::endPaint() called with active painter; did you forget to destroy it or call QPainter::end() on it?\n",
      "QPainter::begin: A paint device can only be painted by one painter at a time.\n",
      "QPainter::setCompositionMode: Painter not active\n",
      "QBackingStore::endPaint() called with active painter; did you forget to destroy it or call QPainter::end() on it?\n",
      "QPainter::begin: A paint device can only be painted by one painter at a time.\n",
      "QPainter::setCompositionMode: Painter not active\n",
      "QBackingStore::endPaint() called with active painter; did you forget to destroy it or call QPainter::end() on it?\n",
      "QPainter::begin: A paint device can only be painted by one painter at a time.\n",
      "QPainter::setCompositionMode: Painter not active\n",
      "QBackingStore::endPaint() called with active painter; did you forget to destroy it or call QPainter::end() on it?\n",
      "QPainter::begin: A paint device can only be painted by one painter at a time.\n",
      "QPainter::setCompositionMode: Painter not active\n",
      "QBackingStore::endPaint() called with active painter; did you forget to destroy it or call QPainter::end() on it?\n",
      "QPainter::begin: A paint device can only be painted by one painter at a time.\n",
      "QPainter::setCompositionMode: Painter not active\n",
      "QBackingStore::endPaint() called with active painter; did you forget to destroy it or call QPainter::end() on it?\n",
      "QPainter::begin: A paint device can only be painted by one painter at a time.\n",
      "QPainter::setCompositionMode: Painter not active\n",
      "QBackingStore::endPaint() called with active painter; did you forget to destroy it or call QPainter::end() on it?\n",
      "QPainter::begin: A paint device can only be painted by one painter at a time.\n",
      "QPainter::setCompositionMode: Painter not active\n",
      "QBackingStore::endPaint() called with active painter; did you forget to destroy it or call QPainter::end() on it?\n",
      "QPainter::begin: A paint device can only be painted by one painter at a time.\n",
      "QPainter::setCompositionMode: Painter not active\n",
      "QBackingStore::endPaint() called with active painter; did you forget to destroy it or call QPainter::end() on it?\n",
      "QPainter::begin: A paint device can only be painted by one painter at a time.\n",
      "QPainter::setCompositionMode: Painter not active\n",
      "QBackingStore::endPaint() called with active painter; did you forget to destroy it or call QPainter::end() on it?\n",
      "QPainter::begin: A paint device can only be painted by one painter at a time.\n",
      "QPainter::setCompositionMode: Painter not active\n",
      "QBackingStore::endPaint() called with active painter; did you forget to destroy it or call QPainter::end() on it?\n",
      "QPainter::begin: A paint device can only be painted by one painter at a time.\n",
      "QPainter::setCompositionMode: Painter not active\n",
      "QBackingStore::endPaint() called with active painter; did you forget to destroy it or call QPainter::end() on it?\n",
      "QPainter::begin: A paint device can only be painted by one painter at a time.\n",
      "QPainter::setCompositionMode: Painter not active\n",
      "QBackingStore::endPaint() called with active painter; did you forget to destroy it or call QPainter::end() on it?\n",
      "QPainter::begin: A paint device can only be painted by one painter at a time.\n",
      "QPainter::setCompositionMode: Painter not active\n",
      "QBackingStore::endPaint() called with active painter; did you forget to destroy it or call QPainter::end() on it?\n",
      "QPainter::begin: A paint device can only be painted by one painter at a time.\n",
      "QPainter::setCompositionMode: Painter not active\n",
      "QBackingStore::endPaint() called with active painter; did you forget to destroy it or call QPainter::end() on it?\n",
      "QPainter::begin: A paint device can only be painted by one painter at a time.\n",
      "QPainter::setCompositionMode: Painter not active\n",
      "QBackingStore::endPaint() called with active painter; did you forget to destroy it or call QPainter::end() on it?\n",
      "QPainter::begin: A paint device can only be painted by one painter at a time.\n",
      "QPainter::setCompositionMode: Painter not active\n",
      "QBackingStore::endPaint() called with active painter; did you forget to destroy it or call QPainter::end() on it?\n",
      "QPainter::begin: A paint device can only be painted by one painter at a time.\n",
      "QPainter::setCompositionMode: Painter not active\n",
      "QBackingStore::endPaint() called with active painter; did you forget to destroy it or call QPainter::end() on it?\n",
      "QPainter::begin: A paint device can only be painted by one painter at a time.\n",
      "QPainter::setCompositionMode: Painter not active\n",
      "QBackingStore::endPaint() called with active painter; did you forget to destroy it or call QPainter::end() on it?\n",
      "QPainter::begin: A paint device can only be painted by one painter at a time.\n",
      "QPainter::setCompositionMode: Painter not active\n",
      "QBackingStore::endPaint() called with active painter; did you forget to destroy it or call QPainter::end() on it?\n",
      "QPainter::begin: A paint device can only be painted by one painter at a time.\n",
      "QPainter::setCompositionMode: Painter not active\n",
      "QBackingStore::endPaint() called with active painter; did you forget to destroy it or call QPainter::end() on it?\n",
      "QPainter::begin: A paint device can only be painted by one painter at a time.\n",
      "QPainter::setCompositionMode: Painter not active\n",
      "QBackingStore::endPaint() called with active painter; did you forget to destroy it or call QPainter::end() on it?\n",
      "QPainter::begin: A paint device can only be painted by one painter at a time.\n",
      "QPainter::setCompositionMode: Painter not active\n",
      "QBackingStore::endPaint() called with active painter; did you forget to destroy it or call QPainter::end() on it?\n",
      "QPainter::begin: A paint device can only be painted by one painter at a time.\n",
      "QPainter::setCompositionMode: Painter not active\n",
      "QBackingStore::endPaint() called with active painter; did you forget to destroy it or call QPainter::end() on it?\n",
      "QPainter::begin: A paint device can only be painted by one painter at a time.\n",
      "QPainter::setCompositionMode: Painter not active\n",
      "QBackingStore::endPaint() called with active painter; did you forget to destroy it or call QPainter::end() on it?\n",
      "QPainter::begin: A paint device can only be painted by one painter at a time.\n",
      "QPainter::setCompositionMode: Painter not active\n",
      "QBackingStore::endPaint() called with active painter; did you forget to destroy it or call QPainter::end() on it?\n",
      "QPainter::begin: A paint device can only be painted by one painter at a time.\n",
      "QPainter::setCompositionMode: Painter not active\n",
      "QBackingStore::endPaint() called with active painter; did you forget to destroy it or call QPainter::end() on it?\n",
      "QPainter::begin: A paint device can only be painted by one painter at a time.\n",
      "QPainter::setCompositionMode: Painter not active\n",
      "QBackingStore::endPaint() called with active painter; did you forget to destroy it or call QPainter::end() on it?\n",
      "QPainter::begin: A paint device can only be painted by one painter at a time.\n",
      "QPainter::setCompositionMode: Painter not active\n",
      "QBackingStore::endPaint() called with active painter; did you forget to destroy it or call QPainter::end() on it?\n",
      "QPainter::begin: A paint device can only be painted by one painter at a time.\n",
      "QPainter::setCompositionMode: Painter not active\n",
      "QBackingStore::endPaint() called with active painter; did you forget to destroy it or call QPainter::end() on it?\n",
      "QPainter::begin: A paint device can only be painted by one painter at a time.\n",
      "QPainter::setCompositionMode: Painter not active\n",
      "QBackingStore::endPaint() called with active painter; did you forget to destroy it or call QPainter::end() on it?\n",
      "QPainter::begin: A paint device can only be painted by one painter at a time.\n",
      "QPainter::setCompositionMode: Painter not active\n",
      "QBackingStore::endPaint() called with active painter; did you forget to destroy it or call QPainter::end() on it?\n",
      "QPainter::begin: A paint device can only be painted by one painter at a time.\n",
      "QPainter::setCompositionMode: Painter not active\n",
      "QBackingStore::endPaint() called with active painter; did you forget to destroy it or call QPainter::end() on it?\n",
      "QPainter::begin: A paint device can only be painted by one painter at a time.\n",
      "QPainter::setCompositionMode: Painter not active\n",
      "QBackingStore::endPaint() called with active painter; did you forget to destroy it or call QPainter::end() on it?\n",
      "QPainter::begin: A paint device can only be painted by one painter at a time.\n",
      "QPainter::setCompositionMode: Painter not active\n",
      "QBackingStore::endPaint() called with active painter; did you forget to destroy it or call QPainter::end() on it?\n",
      "QPainter::begin: A paint device can only be painted by one painter at a time.\n",
      "QPainter::setCompositionMode: Painter not active\n",
      "QBackingStore::endPaint() called with active painter; did you forget to destroy it or call QPainter::end() on it?\n",
      "QPainter::begin: A paint device can only be painted by one painter at a time.\n",
      "QPainter::setCompositionMode: Painter not active\n",
      "QBackingStore::endPaint() called with active painter; did you forget to destroy it or call QPainter::end() on it?\n",
      "QPainter::begin: A paint device can only be painted by one painter at a time.\n",
      "QPainter::setCompositionMode: Painter not active\n",
      "QBackingStore::endPaint() called with active painter; did you forget to destroy it or call QPainter::end() on it?\n",
      "QPainter::begin: A paint device can only be painted by one painter at a time.\n",
      "QPainter::setCompositionMode: Painter not active\n",
      "QBackingStore::endPaint() called with active painter; did you forget to destroy it or call QPainter::end() on it?\n",
      "QPainter::begin: A paint device can only be painted by one painter at a time.\n",
      "QPainter::setCompositionMode: Painter not active\n",
      "QBackingStore::endPaint() called with active painter; did you forget to destroy it or call QPainter::end() on it?\n",
      "QPainter::begin: A paint device can only be painted by one painter at a time.\n",
      "QPainter::setCompositionMode: Painter not active\n",
      "QBackingStore::endPaint() called with active painter; did you forget to destroy it or call QPainter::end() on it?\n",
      "QPainter::begin: A paint device can only be painted by one painter at a time.\n",
      "QPainter::setCompositionMode: Painter not active\n",
      "QBackingStore::endPaint() called with active painter; did you forget to destroy it or call QPainter::end() on it?\n",
      "QPainter::begin: A paint device can only be painted by one painter at a time.\n",
      "QPainter::setCompositionMode: Painter not active\n",
      "QBackingStore::endPaint() called with active painter; did you forget to destroy it or call QPainter::end() on it?\n",
      "QPainter::begin: A paint device can only be painted by one painter at a time.\n",
      "QPainter::setCompositionMode: Painter not active\n",
      "QBackingStore::endPaint() called with active painter; did you forget to destroy it or call QPainter::end() on it?\n",
      "QPainter::begin: A paint device can only be painted by one painter at a time.\n",
      "QPainter::setCompositionMode: Painter not active\n",
      "QBackingStore::endPaint() called with active painter; did you forget to destroy it or call QPainter::end() on it?\n",
      "QPainter::begin: A paint device can only be painted by one painter at a time.\n",
      "QPainter::setCompositionMode: Painter not active\n"
     ]
    },
    {
     "ename": "TypeError",
     "evalue": "setLeft(self, pos: int): argument 1 has unexpected type 'float'",
     "output_type": "error",
     "traceback": [
      "\u001b[0;31m---------------------------------------------------------------------------\u001b[0m",
      "\u001b[0;31mTypeError\u001b[0m                                 Traceback (most recent call last)",
      "File \u001b[0;32m~/mambaforge/envs/gpgn-318/lib/python3.11/site-packages/pyrocko/gui/util.py:948\u001b[0m, in \u001b[0;36mColorbarSlider.paintEvent\u001b[0;34m(self, e)\u001b[0m\n\u001b[1;32m    942\u001b[0m \u001b[38;5;28mself\u001b[39m\u001b[38;5;241m.\u001b[39m_set_window(p\u001b[38;5;241m.\u001b[39mwindow())\n\u001b[1;32m    944\u001b[0m p\u001b[38;5;241m.\u001b[39mdrawImage(\n\u001b[1;32m    945\u001b[0m     p\u001b[38;5;241m.\u001b[39mwindow(),\n\u001b[1;32m    946\u001b[0m     get_colormap_qimage(\u001b[38;5;28mself\u001b[39m\u001b[38;5;241m.\u001b[39mcmap_name, \u001b[38;5;28mself\u001b[39m\u001b[38;5;241m.\u001b[39mclip_min, \u001b[38;5;28mself\u001b[39m\u001b[38;5;241m.\u001b[39mclip_max))\n\u001b[0;32m--> 948\u001b[0m left_line \u001b[38;5;241m=\u001b[39m \u001b[38;5;28;43mself\u001b[39;49m\u001b[38;5;241;43m.\u001b[39;49m\u001b[43m_get_left_line\u001b[49m\u001b[43m(\u001b[49m\u001b[43m)\u001b[49m\n\u001b[1;32m    949\u001b[0m right_line \u001b[38;5;241m=\u001b[39m \u001b[38;5;28mself\u001b[39m\u001b[38;5;241m.\u001b[39m_get_right_line()\n\u001b[1;32m    951\u001b[0m pen \u001b[38;5;241m=\u001b[39m qg\u001b[38;5;241m.\u001b[39mQPen()\n",
      "File \u001b[0;32m~/mambaforge/envs/gpgn-318/lib/python3.11/site-packages/pyrocko/gui/util.py:824\u001b[0m, in \u001b[0;36mColorbarSlider._get_left_line\u001b[0;34m(self)\u001b[0m\n\u001b[1;32m    823\u001b[0m \u001b[38;5;28;01mdef\u001b[39;00m \u001b[38;5;21m_get_left_line\u001b[39m(\u001b[38;5;28mself\u001b[39m):\n\u001b[0;32m--> 824\u001b[0m     rect \u001b[38;5;241m=\u001b[39m \u001b[38;5;28;43mself\u001b[39;49m\u001b[38;5;241;43m.\u001b[39;49m\u001b[43m_get_active_rect\u001b[49m\u001b[43m(\u001b[49m\u001b[43m)\u001b[49m\n\u001b[1;32m    825\u001b[0m     \u001b[38;5;28;01mif\u001b[39;00m \u001b[38;5;129;01mnot\u001b[39;00m rect:\n\u001b[1;32m    826\u001b[0m         \u001b[38;5;28;01mreturn\u001b[39;00m\n",
      "File \u001b[0;32m~/mambaforge/envs/gpgn-318/lib/python3.11/site-packages/pyrocko/gui/util.py:840\u001b[0m, in \u001b[0;36mColorbarSlider._get_active_rect\u001b[0;34m(self)\u001b[0m\n\u001b[1;32m    838\u001b[0m rect \u001b[38;5;241m=\u001b[39m qc\u001b[38;5;241m.\u001b[39mQRect(\u001b[38;5;28mself\u001b[39m\u001b[38;5;241m.\u001b[39m_window)\n\u001b[1;32m    839\u001b[0m width \u001b[38;5;241m=\u001b[39m rect\u001b[38;5;241m.\u001b[39mwidth()\n\u001b[0;32m--> 840\u001b[0m \u001b[43mrect\u001b[49m\u001b[38;5;241;43m.\u001b[39;49m\u001b[43msetLeft\u001b[49m\u001b[43m(\u001b[49m\u001b[43mwidth\u001b[49m\u001b[43m \u001b[49m\u001b[38;5;241;43m*\u001b[39;49m\u001b[43m \u001b[49m\u001b[38;5;28;43mself\u001b[39;49m\u001b[38;5;241;43m.\u001b[39;49m\u001b[43mclip_min\u001b[49m\u001b[43m)\u001b[49m\n\u001b[1;32m    841\u001b[0m rect\u001b[38;5;241m.\u001b[39msetRight(width \u001b[38;5;241m*\u001b[39m \u001b[38;5;28mself\u001b[39m\u001b[38;5;241m.\u001b[39mclip_max)\n\u001b[1;32m    842\u001b[0m \u001b[38;5;28;01mreturn\u001b[39;00m rect\n",
      "\u001b[0;31mTypeError\u001b[0m: setLeft(self, pos: int): argument 1 has unexpected type 'float'"
     ]
    },
    {
     "name": "stderr",
     "output_type": "stream",
     "text": [
      "QBackingStore::endPaint() called with active painter; did you forget to destroy it or call QPainter::end() on it?\n"
     ]
    },
    {
     "ename": "TypeError",
     "evalue": "setLeft(self, pos: int): argument 1 has unexpected type 'float'",
     "output_type": "error",
     "traceback": [
      "\u001b[0;31m---------------------------------------------------------------------------\u001b[0m",
      "\u001b[0;31mTypeError\u001b[0m                                 Traceback (most recent call last)",
      "File \u001b[0;32m~/mambaforge/envs/gpgn-318/lib/python3.11/site-packages/pyrocko/gui/util.py:898\u001b[0m, in \u001b[0;36mColorbarSlider.mouseMoveEvent\u001b[0;34m(self, event)\u001b[0m\n\u001b[1;32m    896\u001b[0m \u001b[38;5;28;01mdef\u001b[39;00m \u001b[38;5;21mmouseMoveEvent\u001b[39m(\u001b[38;5;28mself\u001b[39m, event):\n\u001b[1;32m    897\u001b[0m     \u001b[38;5;124m'\u001b[39m\u001b[38;5;124m'\u001b[39m\n\u001b[0;32m--> 898\u001b[0m     act_rect \u001b[38;5;241m=\u001b[39m \u001b[38;5;28;43mself\u001b[39;49m\u001b[38;5;241;43m.\u001b[39;49m\u001b[43m_get_active_rect\u001b[49m\u001b[43m(\u001b[49m\u001b[43m)\u001b[49m\n\u001b[1;32m    900\u001b[0m     \u001b[38;5;28;01mif\u001b[39;00m \u001b[38;5;129;01mnot\u001b[39;00m \u001b[38;5;28mself\u001b[39m\u001b[38;5;241m.\u001b[39m_component_grabbed:\n\u001b[1;32m    901\u001b[0m         dist_left \u001b[38;5;241m=\u001b[39m \u001b[38;5;28mabs\u001b[39m(event\u001b[38;5;241m.\u001b[39mpos()\u001b[38;5;241m.\u001b[39mx() \u001b[38;5;241m-\u001b[39m act_rect\u001b[38;5;241m.\u001b[39mleft())\n",
      "File \u001b[0;32m~/mambaforge/envs/gpgn-318/lib/python3.11/site-packages/pyrocko/gui/util.py:840\u001b[0m, in \u001b[0;36mColorbarSlider._get_active_rect\u001b[0;34m(self)\u001b[0m\n\u001b[1;32m    838\u001b[0m rect \u001b[38;5;241m=\u001b[39m qc\u001b[38;5;241m.\u001b[39mQRect(\u001b[38;5;28mself\u001b[39m\u001b[38;5;241m.\u001b[39m_window)\n\u001b[1;32m    839\u001b[0m width \u001b[38;5;241m=\u001b[39m rect\u001b[38;5;241m.\u001b[39mwidth()\n\u001b[0;32m--> 840\u001b[0m \u001b[43mrect\u001b[49m\u001b[38;5;241;43m.\u001b[39;49m\u001b[43msetLeft\u001b[49m\u001b[43m(\u001b[49m\u001b[43mwidth\u001b[49m\u001b[43m \u001b[49m\u001b[38;5;241;43m*\u001b[39;49m\u001b[43m \u001b[49m\u001b[38;5;28;43mself\u001b[39;49m\u001b[38;5;241;43m.\u001b[39;49m\u001b[43mclip_min\u001b[49m\u001b[43m)\u001b[49m\n\u001b[1;32m    841\u001b[0m rect\u001b[38;5;241m.\u001b[39msetRight(width \u001b[38;5;241m*\u001b[39m \u001b[38;5;28mself\u001b[39m\u001b[38;5;241m.\u001b[39mclip_max)\n\u001b[1;32m    842\u001b[0m \u001b[38;5;28;01mreturn\u001b[39;00m rect\n",
      "\u001b[0;31mTypeError\u001b[0m: setLeft(self, pos: int): argument 1 has unexpected type 'float'"
     ]
    },
    {
     "name": "stderr",
     "output_type": "stream",
     "text": [
      "QPainter::begin: A paint device can only be painted by one painter at a time.\n",
      "QPainter::setCompositionMode: Painter not active\n"
     ]
    },
    {
     "ename": "TypeError",
     "evalue": "setLeft(self, pos: int): argument 1 has unexpected type 'float'",
     "output_type": "error",
     "traceback": [
      "\u001b[0;31m---------------------------------------------------------------------------\u001b[0m",
      "\u001b[0;31mTypeError\u001b[0m                                 Traceback (most recent call last)",
      "File \u001b[0;32m~/mambaforge/envs/gpgn-318/lib/python3.11/site-packages/pyrocko/gui/util.py:948\u001b[0m, in \u001b[0;36mColorbarSlider.paintEvent\u001b[0;34m(self, e)\u001b[0m\n\u001b[1;32m    942\u001b[0m \u001b[38;5;28mself\u001b[39m\u001b[38;5;241m.\u001b[39m_set_window(p\u001b[38;5;241m.\u001b[39mwindow())\n\u001b[1;32m    944\u001b[0m p\u001b[38;5;241m.\u001b[39mdrawImage(\n\u001b[1;32m    945\u001b[0m     p\u001b[38;5;241m.\u001b[39mwindow(),\n\u001b[1;32m    946\u001b[0m     get_colormap_qimage(\u001b[38;5;28mself\u001b[39m\u001b[38;5;241m.\u001b[39mcmap_name, \u001b[38;5;28mself\u001b[39m\u001b[38;5;241m.\u001b[39mclip_min, \u001b[38;5;28mself\u001b[39m\u001b[38;5;241m.\u001b[39mclip_max))\n\u001b[0;32m--> 948\u001b[0m left_line \u001b[38;5;241m=\u001b[39m \u001b[38;5;28;43mself\u001b[39;49m\u001b[38;5;241;43m.\u001b[39;49m\u001b[43m_get_left_line\u001b[49m\u001b[43m(\u001b[49m\u001b[43m)\u001b[49m\n\u001b[1;32m    949\u001b[0m right_line \u001b[38;5;241m=\u001b[39m \u001b[38;5;28mself\u001b[39m\u001b[38;5;241m.\u001b[39m_get_right_line()\n\u001b[1;32m    951\u001b[0m pen \u001b[38;5;241m=\u001b[39m qg\u001b[38;5;241m.\u001b[39mQPen()\n",
      "File \u001b[0;32m~/mambaforge/envs/gpgn-318/lib/python3.11/site-packages/pyrocko/gui/util.py:824\u001b[0m, in \u001b[0;36mColorbarSlider._get_left_line\u001b[0;34m(self)\u001b[0m\n\u001b[1;32m    823\u001b[0m \u001b[38;5;28;01mdef\u001b[39;00m \u001b[38;5;21m_get_left_line\u001b[39m(\u001b[38;5;28mself\u001b[39m):\n\u001b[0;32m--> 824\u001b[0m     rect \u001b[38;5;241m=\u001b[39m \u001b[38;5;28;43mself\u001b[39;49m\u001b[38;5;241;43m.\u001b[39;49m\u001b[43m_get_active_rect\u001b[49m\u001b[43m(\u001b[49m\u001b[43m)\u001b[49m\n\u001b[1;32m    825\u001b[0m     \u001b[38;5;28;01mif\u001b[39;00m \u001b[38;5;129;01mnot\u001b[39;00m rect:\n\u001b[1;32m    826\u001b[0m         \u001b[38;5;28;01mreturn\u001b[39;00m\n",
      "File \u001b[0;32m~/mambaforge/envs/gpgn-318/lib/python3.11/site-packages/pyrocko/gui/util.py:840\u001b[0m, in \u001b[0;36mColorbarSlider._get_active_rect\u001b[0;34m(self)\u001b[0m\n\u001b[1;32m    838\u001b[0m rect \u001b[38;5;241m=\u001b[39m qc\u001b[38;5;241m.\u001b[39mQRect(\u001b[38;5;28mself\u001b[39m\u001b[38;5;241m.\u001b[39m_window)\n\u001b[1;32m    839\u001b[0m width \u001b[38;5;241m=\u001b[39m rect\u001b[38;5;241m.\u001b[39mwidth()\n\u001b[0;32m--> 840\u001b[0m \u001b[43mrect\u001b[49m\u001b[38;5;241;43m.\u001b[39;49m\u001b[43msetLeft\u001b[49m\u001b[43m(\u001b[49m\u001b[43mwidth\u001b[49m\u001b[43m \u001b[49m\u001b[38;5;241;43m*\u001b[39;49m\u001b[43m \u001b[49m\u001b[38;5;28;43mself\u001b[39;49m\u001b[38;5;241;43m.\u001b[39;49m\u001b[43mclip_min\u001b[49m\u001b[43m)\u001b[49m\n\u001b[1;32m    841\u001b[0m rect\u001b[38;5;241m.\u001b[39msetRight(width \u001b[38;5;241m*\u001b[39m \u001b[38;5;28mself\u001b[39m\u001b[38;5;241m.\u001b[39mclip_max)\n\u001b[1;32m    842\u001b[0m \u001b[38;5;28;01mreturn\u001b[39;00m rect\n",
      "\u001b[0;31mTypeError\u001b[0m: setLeft(self, pos: int): argument 1 has unexpected type 'float'"
     ]
    },
    {
     "name": "stderr",
     "output_type": "stream",
     "text": [
      "QBackingStore::endPaint() called with active painter; did you forget to destroy it or call QPainter::end() on it?\n",
      "QPainter::begin: A paint device can only be painted by one painter at a time.\n",
      "QPainter::setCompositionMode: Painter not active\n",
      "QBackingStore::endPaint() called with active painter; did you forget to destroy it or call QPainter::end() on it?\n",
      "QPainter::begin: A paint device can only be painted by one painter at a time.\n",
      "QPainter::setCompositionMode: Painter not active\n"
     ]
    },
    {
     "ename": "TypeError",
     "evalue": "setLeft(self, pos: int): argument 1 has unexpected type 'float'",
     "output_type": "error",
     "traceback": [
      "\u001b[0;31m---------------------------------------------------------------------------\u001b[0m",
      "\u001b[0;31mTypeError\u001b[0m                                 Traceback (most recent call last)",
      "File \u001b[0;32m~/mambaforge/envs/gpgn-318/lib/python3.11/site-packages/pyrocko/gui/util.py:948\u001b[0m, in \u001b[0;36mColorbarSlider.paintEvent\u001b[0;34m(self, e)\u001b[0m\n\u001b[1;32m    942\u001b[0m \u001b[38;5;28mself\u001b[39m\u001b[38;5;241m.\u001b[39m_set_window(p\u001b[38;5;241m.\u001b[39mwindow())\n\u001b[1;32m    944\u001b[0m p\u001b[38;5;241m.\u001b[39mdrawImage(\n\u001b[1;32m    945\u001b[0m     p\u001b[38;5;241m.\u001b[39mwindow(),\n\u001b[1;32m    946\u001b[0m     get_colormap_qimage(\u001b[38;5;28mself\u001b[39m\u001b[38;5;241m.\u001b[39mcmap_name, \u001b[38;5;28mself\u001b[39m\u001b[38;5;241m.\u001b[39mclip_min, \u001b[38;5;28mself\u001b[39m\u001b[38;5;241m.\u001b[39mclip_max))\n\u001b[0;32m--> 948\u001b[0m left_line \u001b[38;5;241m=\u001b[39m \u001b[38;5;28;43mself\u001b[39;49m\u001b[38;5;241;43m.\u001b[39;49m\u001b[43m_get_left_line\u001b[49m\u001b[43m(\u001b[49m\u001b[43m)\u001b[49m\n\u001b[1;32m    949\u001b[0m right_line \u001b[38;5;241m=\u001b[39m \u001b[38;5;28mself\u001b[39m\u001b[38;5;241m.\u001b[39m_get_right_line()\n\u001b[1;32m    951\u001b[0m pen \u001b[38;5;241m=\u001b[39m qg\u001b[38;5;241m.\u001b[39mQPen()\n",
      "File \u001b[0;32m~/mambaforge/envs/gpgn-318/lib/python3.11/site-packages/pyrocko/gui/util.py:824\u001b[0m, in \u001b[0;36mColorbarSlider._get_left_line\u001b[0;34m(self)\u001b[0m\n\u001b[1;32m    823\u001b[0m \u001b[38;5;28;01mdef\u001b[39;00m \u001b[38;5;21m_get_left_line\u001b[39m(\u001b[38;5;28mself\u001b[39m):\n\u001b[0;32m--> 824\u001b[0m     rect \u001b[38;5;241m=\u001b[39m \u001b[38;5;28;43mself\u001b[39;49m\u001b[38;5;241;43m.\u001b[39;49m\u001b[43m_get_active_rect\u001b[49m\u001b[43m(\u001b[49m\u001b[43m)\u001b[49m\n\u001b[1;32m    825\u001b[0m     \u001b[38;5;28;01mif\u001b[39;00m \u001b[38;5;129;01mnot\u001b[39;00m rect:\n\u001b[1;32m    826\u001b[0m         \u001b[38;5;28;01mreturn\u001b[39;00m\n",
      "File \u001b[0;32m~/mambaforge/envs/gpgn-318/lib/python3.11/site-packages/pyrocko/gui/util.py:840\u001b[0m, in \u001b[0;36mColorbarSlider._get_active_rect\u001b[0;34m(self)\u001b[0m\n\u001b[1;32m    838\u001b[0m rect \u001b[38;5;241m=\u001b[39m qc\u001b[38;5;241m.\u001b[39mQRect(\u001b[38;5;28mself\u001b[39m\u001b[38;5;241m.\u001b[39m_window)\n\u001b[1;32m    839\u001b[0m width \u001b[38;5;241m=\u001b[39m rect\u001b[38;5;241m.\u001b[39mwidth()\n\u001b[0;32m--> 840\u001b[0m \u001b[43mrect\u001b[49m\u001b[38;5;241;43m.\u001b[39;49m\u001b[43msetLeft\u001b[49m\u001b[43m(\u001b[49m\u001b[43mwidth\u001b[49m\u001b[43m \u001b[49m\u001b[38;5;241;43m*\u001b[39;49m\u001b[43m \u001b[49m\u001b[38;5;28;43mself\u001b[39;49m\u001b[38;5;241;43m.\u001b[39;49m\u001b[43mclip_min\u001b[49m\u001b[43m)\u001b[49m\n\u001b[1;32m    841\u001b[0m rect\u001b[38;5;241m.\u001b[39msetRight(width \u001b[38;5;241m*\u001b[39m \u001b[38;5;28mself\u001b[39m\u001b[38;5;241m.\u001b[39mclip_max)\n\u001b[1;32m    842\u001b[0m \u001b[38;5;28;01mreturn\u001b[39;00m rect\n",
      "\u001b[0;31mTypeError\u001b[0m: setLeft(self, pos: int): argument 1 has unexpected type 'float'"
     ]
    },
    {
     "name": "stderr",
     "output_type": "stream",
     "text": [
      "QBackingStore::endPaint() called with active painter; did you forget to destroy it or call QPainter::end() on it?\n",
      "QPainter::begin: A paint device can only be painted by one painter at a time.\n",
      "QPainter::setCompositionMode: Painter not active\n",
      "QBackingStore::endPaint() called with active painter; did you forget to destroy it or call QPainter::end() on it?\n",
      "QPainter::begin: A paint device can only be painted by one painter at a time.\n",
      "QPainter::setCompositionMode: Painter not active\n",
      "QBackingStore::endPaint() called with active painter; did you forget to destroy it or call QPainter::end() on it?\n",
      "QPainter::begin: A paint device can only be painted by one painter at a time.\n",
      "QPainter::setCompositionMode: Painter not active\n",
      "QBackingStore::endPaint() called with active painter; did you forget to destroy it or call QPainter::end() on it?\n",
      "QPainter::begin: A paint device can only be painted by one painter at a time.\n",
      "QPainter::setCompositionMode: Painter not active\n",
      "QBackingStore::endPaint() called with active painter; did you forget to destroy it or call QPainter::end() on it?\n",
      "QPainter::begin: A paint device can only be painted by one painter at a time.\n",
      "QPainter::setCompositionMode: Painter not active\n",
      "QBackingStore::endPaint() called with active painter; did you forget to destroy it or call QPainter::end() on it?\n",
      "QPainter::begin: A paint device can only be painted by one painter at a time.\n",
      "QPainter::setCompositionMode: Painter not active\n",
      "QBackingStore::endPaint() called with active painter; did you forget to destroy it or call QPainter::end() on it?\n",
      "QPainter::begin: A paint device can only be painted by one painter at a time.\n",
      "QPainter::setCompositionMode: Painter not active\n",
      "QBackingStore::endPaint() called with active painter; did you forget to destroy it or call QPainter::end() on it?\n",
      "QPainter::begin: A paint device can only be painted by one painter at a time.\n",
      "QPainter::setCompositionMode: Painter not active\n",
      "QBackingStore::endPaint() called with active painter; did you forget to destroy it or call QPainter::end() on it?\n",
      "QPainter::begin: A paint device can only be painted by one painter at a time.\n",
      "QPainter::setCompositionMode: Painter not active\n",
      "QBackingStore::endPaint() called with active painter; did you forget to destroy it or call QPainter::end() on it?\n",
      "QPainter::begin: A paint device can only be painted by one painter at a time.\n",
      "QPainter::setCompositionMode: Painter not active\n",
      "QBackingStore::endPaint() called with active painter; did you forget to destroy it or call QPainter::end() on it?\n",
      "QPainter::begin: A paint device can only be painted by one painter at a time.\n",
      "QPainter::setCompositionMode: Painter not active\n",
      "QBackingStore::endPaint() called with active painter; did you forget to destroy it or call QPainter::end() on it?\n",
      "QPainter::begin: A paint device can only be painted by one painter at a time.\n",
      "QPainter::setCompositionMode: Painter not active\n",
      "QBackingStore::endPaint() called with active painter; did you forget to destroy it or call QPainter::end() on it?\n",
      "QPainter::begin: A paint device can only be painted by one painter at a time.\n",
      "QPainter::setCompositionMode: Painter not active\n",
      "QBackingStore::endPaint() called with active painter; did you forget to destroy it or call QPainter::end() on it?\n",
      "QPainter::begin: A paint device can only be painted by one painter at a time.\n",
      "QPainter::setCompositionMode: Painter not active\n",
      "QBackingStore::endPaint() called with active painter; did you forget to destroy it or call QPainter::end() on it?\n",
      "QPainter::begin: A paint device can only be painted by one painter at a time.\n",
      "QPainter::setCompositionMode: Painter not active\n",
      "QBackingStore::endPaint() called with active painter; did you forget to destroy it or call QPainter::end() on it?\n",
      "QPainter::begin: A paint device can only be painted by one painter at a time.\n",
      "QPainter::setCompositionMode: Painter not active\n",
      "QBackingStore::endPaint() called with active painter; did you forget to destroy it or call QPainter::end() on it?\n",
      "QPainter::begin: A paint device can only be painted by one painter at a time.\n",
      "QPainter::setCompositionMode: Painter not active\n",
      "QBackingStore::endPaint() called with active painter; did you forget to destroy it or call QPainter::end() on it?\n",
      "QPainter::begin: A paint device can only be painted by one painter at a time.\n",
      "QPainter::setCompositionMode: Painter not active\n",
      "QBackingStore::endPaint() called with active painter; did you forget to destroy it or call QPainter::end() on it?\n",
      "QPainter::begin: A paint device can only be painted by one painter at a time.\n",
      "QPainter::setCompositionMode: Painter not active\n",
      "QBackingStore::endPaint() called with active painter; did you forget to destroy it or call QPainter::end() on it?\n",
      "QPainter::begin: A paint device can only be painted by one painter at a time.\n",
      "QPainter::setCompositionMode: Painter not active\n",
      "QBackingStore::endPaint() called with active painter; did you forget to destroy it or call QPainter::end() on it?\n",
      "QPainter::begin: A paint device can only be painted by one painter at a time.\n",
      "QPainter::setCompositionMode: Painter not active\n",
      "QBackingStore::endPaint() called with active painter; did you forget to destroy it or call QPainter::end() on it?\n",
      "QPainter::begin: A paint device can only be painted by one painter at a time.\n",
      "QPainter::setCompositionMode: Painter not active\n",
      "QBackingStore::endPaint() called with active painter; did you forget to destroy it or call QPainter::end() on it?\n",
      "QPainter::begin: A paint device can only be painted by one painter at a time.\n",
      "QPainter::setCompositionMode: Painter not active\n",
      "QBackingStore::endPaint() called with active painter; did you forget to destroy it or call QPainter::end() on it?\n",
      "QPainter::begin: A paint device can only be painted by one painter at a time.\n",
      "QPainter::setCompositionMode: Painter not active\n",
      "QBackingStore::endPaint() called with active painter; did you forget to destroy it or call QPainter::end() on it?\n",
      "QPainter::begin: A paint device can only be painted by one painter at a time.\n",
      "QPainter::setCompositionMode: Painter not active\n",
      "QBackingStore::endPaint() called with active painter; did you forget to destroy it or call QPainter::end() on it?\n",
      "QPainter::begin: A paint device can only be painted by one painter at a time.\n",
      "QPainter::setCompositionMode: Painter not active\n",
      "QBackingStore::endPaint() called with active painter; did you forget to destroy it or call QPainter::end() on it?\n",
      "QPainter::begin: A paint device can only be painted by one painter at a time.\n",
      "QPainter::setCompositionMode: Painter not active\n",
      "QBackingStore::endPaint() called with active painter; did you forget to destroy it or call QPainter::end() on it?\n",
      "QPainter::begin: A paint device can only be painted by one painter at a time.\n",
      "QPainter::setCompositionMode: Painter not active\n",
      "QBackingStore::endPaint() called with active painter; did you forget to destroy it or call QPainter::end() on it?\n",
      "QPainter::begin: A paint device can only be painted by one painter at a time.\n",
      "QPainter::setCompositionMode: Painter not active\n",
      "QBackingStore::endPaint() called with active painter; did you forget to destroy it or call QPainter::end() on it?\n",
      "QPainter::begin: A paint device can only be painted by one painter at a time.\n",
      "QPainter::setCompositionMode: Painter not active\n",
      "QBackingStore::endPaint() called with active painter; did you forget to destroy it or call QPainter::end() on it?\n",
      "QPainter::begin: A paint device can only be painted by one painter at a time.\n",
      "QPainter::setCompositionMode: Painter not active\n",
      "QBackingStore::endPaint() called with active painter; did you forget to destroy it or call QPainter::end() on it?\n",
      "QPainter::begin: A paint device can only be painted by one painter at a time.\n",
      "QPainter::setCompositionMode: Painter not active\n",
      "QBackingStore::endPaint() called with active painter; did you forget to destroy it or call QPainter::end() on it?\n",
      "QPainter::begin: A paint device can only be painted by one painter at a time.\n",
      "QPainter::setCompositionMode: Painter not active\n",
      "QBackingStore::endPaint() called with active painter; did you forget to destroy it or call QPainter::end() on it?\n",
      "QPainter::begin: A paint device can only be painted by one painter at a time.\n",
      "QPainter::setCompositionMode: Painter not active\n",
      "QBackingStore::endPaint() called with active painter; did you forget to destroy it or call QPainter::end() on it?\n",
      "QPainter::begin: A paint device can only be painted by one painter at a time.\n",
      "QPainter::setCompositionMode: Painter not active\n",
      "QBackingStore::endPaint() called with active painter; did you forget to destroy it or call QPainter::end() on it?\n",
      "QPainter::begin: A paint device can only be painted by one painter at a time.\n",
      "QPainter::setCompositionMode: Painter not active\n",
      "QBackingStore::endPaint() called with active painter; did you forget to destroy it or call QPainter::end() on it?\n",
      "QPainter::begin: A paint device can only be painted by one painter at a time.\n",
      "QPainter::setCompositionMode: Painter not active\n",
      "QBackingStore::endPaint() called with active painter; did you forget to destroy it or call QPainter::end() on it?\n",
      "QPainter::begin: A paint device can only be painted by one painter at a time.\n",
      "QPainter::setCompositionMode: Painter not active\n",
      "QBackingStore::endPaint() called with active painter; did you forget to destroy it or call QPainter::end() on it?\n",
      "QPainter::begin: A paint device can only be painted by one painter at a time.\n",
      "QPainter::setCompositionMode: Painter not active\n",
      "QBackingStore::endPaint() called with active painter; did you forget to destroy it or call QPainter::end() on it?\n",
      "QPainter::begin: A paint device can only be painted by one painter at a time.\n",
      "QPainter::setCompositionMode: Painter not active\n",
      "QBackingStore::endPaint() called with active painter; did you forget to destroy it or call QPainter::end() on it?\n",
      "QPainter::begin: A paint device can only be painted by one painter at a time.\n",
      "QPainter::setCompositionMode: Painter not active\n",
      "QBackingStore::endPaint() called with active painter; did you forget to destroy it or call QPainter::end() on it?\n",
      "QPainter::begin: A paint device can only be painted by one painter at a time.\n",
      "QPainter::setCompositionMode: Painter not active\n",
      "QBackingStore::endPaint() called with active painter; did you forget to destroy it or call QPainter::end() on it?\n",
      "QPainter::begin: A paint device can only be painted by one painter at a time.\n",
      "QPainter::setCompositionMode: Painter not active\n",
      "QBackingStore::endPaint() called with active painter; did you forget to destroy it or call QPainter::end() on it?\n",
      "QPainter::begin: A paint device can only be painted by one painter at a time.\n",
      "QPainter::setCompositionMode: Painter not active\n",
      "QBackingStore::endPaint() called with active painter; did you forget to destroy it or call QPainter::end() on it?\n",
      "QPainter::begin: A paint device can only be painted by one painter at a time.\n",
      "QPainter::setCompositionMode: Painter not active\n",
      "QBackingStore::endPaint() called with active painter; did you forget to destroy it or call QPainter::end() on it?\n",
      "QPainter::begin: A paint device can only be painted by one painter at a time.\n",
      "QPainter::setCompositionMode: Painter not active\n",
      "QBackingStore::endPaint() called with active painter; did you forget to destroy it or call QPainter::end() on it?\n",
      "QPainter::begin: A paint device can only be painted by one painter at a time.\n",
      "QPainter::setCompositionMode: Painter not active\n",
      "QBackingStore::endPaint() called with active painter; did you forget to destroy it or call QPainter::end() on it?\n",
      "QPainter::begin: A paint device can only be painted by one painter at a time.\n",
      "QPainter::setCompositionMode: Painter not active\n",
      "QBackingStore::endPaint() called with active painter; did you forget to destroy it or call QPainter::end() on it?\n",
      "QPainter::begin: A paint device can only be painted by one painter at a time.\n",
      "QPainter::setCompositionMode: Painter not active\n",
      "QBackingStore::endPaint() called with active painter; did you forget to destroy it or call QPainter::end() on it?\n",
      "QPainter::begin: A paint device can only be painted by one painter at a time.\n",
      "QPainter::setCompositionMode: Painter not active\n",
      "QBackingStore::endPaint() called with active painter; did you forget to destroy it or call QPainter::end() on it?\n",
      "QPainter::begin: A paint device can only be painted by one painter at a time.\n",
      "QPainter::setCompositionMode: Painter not active\n",
      "QBackingStore::endPaint() called with active painter; did you forget to destroy it or call QPainter::end() on it?\n",
      "QPainter::begin: A paint device can only be painted by one painter at a time.\n",
      "QPainter::setCompositionMode: Painter not active\n",
      "QBackingStore::endPaint() called with active painter; did you forget to destroy it or call QPainter::end() on it?\n",
      "QPainter::begin: A paint device can only be painted by one painter at a time.\n",
      "QPainter::setCompositionMode: Painter not active\n",
      "QBackingStore::endPaint() called with active painter; did you forget to destroy it or call QPainter::end() on it?\n",
      "QPainter::begin: A paint device can only be painted by one painter at a time.\n",
      "QPainter::setCompositionMode: Painter not active\n",
      "QBackingStore::endPaint() called with active painter; did you forget to destroy it or call QPainter::end() on it?\n",
      "QPainter::begin: A paint device can only be painted by one painter at a time.\n",
      "QPainter::setCompositionMode: Painter not active\n",
      "QBackingStore::endPaint() called with active painter; did you forget to destroy it or call QPainter::end() on it?\n",
      "QPainter::begin: A paint device can only be painted by one painter at a time.\n",
      "QPainter::setCompositionMode: Painter not active\n",
      "QBackingStore::endPaint() called with active painter; did you forget to destroy it or call QPainter::end() on it?\n",
      "QPainter::begin: A paint device can only be painted by one painter at a time.\n",
      "QPainter::setCompositionMode: Painter not active\n",
      "QBackingStore::endPaint() called with active painter; did you forget to destroy it or call QPainter::end() on it?\n",
      "QPainter::begin: A paint device can only be painted by one painter at a time.\n",
      "QPainter::setCompositionMode: Painter not active\n",
      "QBackingStore::endPaint() called with active painter; did you forget to destroy it or call QPainter::end() on it?\n",
      "QPainter::begin: A paint device can only be painted by one painter at a time.\n",
      "QPainter::setCompositionMode: Painter not active\n",
      "QBackingStore::endPaint() called with active painter; did you forget to destroy it or call QPainter::end() on it?\n",
      "QPainter::begin: A paint device can only be painted by one painter at a time.\n",
      "QPainter::setCompositionMode: Painter not active\n",
      "QBackingStore::endPaint() called with active painter; did you forget to destroy it or call QPainter::end() on it?\n",
      "QPainter::begin: A paint device can only be painted by one painter at a time.\n",
      "QPainter::setCompositionMode: Painter not active\n",
      "QBackingStore::endPaint() called with active painter; did you forget to destroy it or call QPainter::end() on it?\n",
      "QPainter::begin: A paint device can only be painted by one painter at a time.\n",
      "QPainter::setCompositionMode: Painter not active\n",
      "QBackingStore::endPaint() called with active painter; did you forget to destroy it or call QPainter::end() on it?\n",
      "QPainter::begin: A paint device can only be painted by one painter at a time.\n",
      "QPainter::setCompositionMode: Painter not active\n",
      "QBackingStore::endPaint() called with active painter; did you forget to destroy it or call QPainter::end() on it?\n",
      "QPainter::begin: A paint device can only be painted by one painter at a time.\n",
      "QPainter::setCompositionMode: Painter not active\n",
      "QBackingStore::endPaint() called with active painter; did you forget to destroy it or call QPainter::end() on it?\n",
      "QPainter::begin: A paint device can only be painted by one painter at a time.\n",
      "QPainter::setCompositionMode: Painter not active\n",
      "QBackingStore::endPaint() called with active painter; did you forget to destroy it or call QPainter::end() on it?\n",
      "QPainter::begin: A paint device can only be painted by one painter at a time.\n",
      "QPainter::setCompositionMode: Painter not active\n",
      "QBackingStore::endPaint() called with active painter; did you forget to destroy it or call QPainter::end() on it?\n",
      "QPainter::begin: A paint device can only be painted by one painter at a time.\n",
      "QPainter::setCompositionMode: Painter not active\n",
      "QBackingStore::endPaint() called with active painter; did you forget to destroy it or call QPainter::end() on it?\n",
      "QPainter::begin: A paint device can only be painted by one painter at a time.\n",
      "QPainter::setCompositionMode: Painter not active\n",
      "QBackingStore::endPaint() called with active painter; did you forget to destroy it or call QPainter::end() on it?\n",
      "QPainter::begin: A paint device can only be painted by one painter at a time.\n",
      "QPainter::setCompositionMode: Painter not active\n",
      "QBackingStore::endPaint() called with active painter; did you forget to destroy it or call QPainter::end() on it?\n",
      "QPainter::begin: A paint device can only be painted by one painter at a time.\n",
      "QPainter::setCompositionMode: Painter not active\n",
      "QBackingStore::endPaint() called with active painter; did you forget to destroy it or call QPainter::end() on it?\n",
      "QPainter::begin: A paint device can only be painted by one painter at a time.\n",
      "QPainter::setCompositionMode: Painter not active\n",
      "QBackingStore::endPaint() called with active painter; did you forget to destroy it or call QPainter::end() on it?\n",
      "QPainter::begin: A paint device can only be painted by one painter at a time.\n",
      "QPainter::setCompositionMode: Painter not active\n",
      "QBackingStore::endPaint() called with active painter; did you forget to destroy it or call QPainter::end() on it?\n",
      "QPainter::begin: A paint device can only be painted by one painter at a time.\n",
      "QPainter::setCompositionMode: Painter not active\n",
      "QBackingStore::endPaint() called with active painter; did you forget to destroy it or call QPainter::end() on it?\n",
      "QPainter::begin: A paint device can only be painted by one painter at a time.\n",
      "QPainter::setCompositionMode: Painter not active\n",
      "QBackingStore::endPaint() called with active painter; did you forget to destroy it or call QPainter::end() on it?\n",
      "QPainter::begin: A paint device can only be painted by one painter at a time.\n",
      "QPainter::setCompositionMode: Painter not active\n",
      "QBackingStore::endPaint() called with active painter; did you forget to destroy it or call QPainter::end() on it?\n",
      "QPainter::begin: A paint device can only be painted by one painter at a time.\n",
      "QPainter::setCompositionMode: Painter not active\n"
     ]
    },
    {
     "ename": "TypeError",
     "evalue": "setLeft(self, pos: int): argument 1 has unexpected type 'float'",
     "output_type": "error",
     "traceback": [
      "\u001b[0;31m---------------------------------------------------------------------------\u001b[0m",
      "\u001b[0;31mTypeError\u001b[0m                                 Traceback (most recent call last)",
      "File \u001b[0;32m~/mambaforge/envs/gpgn-318/lib/python3.11/site-packages/pyrocko/gui/util.py:948\u001b[0m, in \u001b[0;36mColorbarSlider.paintEvent\u001b[0;34m(self, e)\u001b[0m\n\u001b[1;32m    942\u001b[0m \u001b[38;5;28mself\u001b[39m\u001b[38;5;241m.\u001b[39m_set_window(p\u001b[38;5;241m.\u001b[39mwindow())\n\u001b[1;32m    944\u001b[0m p\u001b[38;5;241m.\u001b[39mdrawImage(\n\u001b[1;32m    945\u001b[0m     p\u001b[38;5;241m.\u001b[39mwindow(),\n\u001b[1;32m    946\u001b[0m     get_colormap_qimage(\u001b[38;5;28mself\u001b[39m\u001b[38;5;241m.\u001b[39mcmap_name, \u001b[38;5;28mself\u001b[39m\u001b[38;5;241m.\u001b[39mclip_min, \u001b[38;5;28mself\u001b[39m\u001b[38;5;241m.\u001b[39mclip_max))\n\u001b[0;32m--> 948\u001b[0m left_line \u001b[38;5;241m=\u001b[39m \u001b[38;5;28;43mself\u001b[39;49m\u001b[38;5;241;43m.\u001b[39;49m\u001b[43m_get_left_line\u001b[49m\u001b[43m(\u001b[49m\u001b[43m)\u001b[49m\n\u001b[1;32m    949\u001b[0m right_line \u001b[38;5;241m=\u001b[39m \u001b[38;5;28mself\u001b[39m\u001b[38;5;241m.\u001b[39m_get_right_line()\n\u001b[1;32m    951\u001b[0m pen \u001b[38;5;241m=\u001b[39m qg\u001b[38;5;241m.\u001b[39mQPen()\n",
      "File \u001b[0;32m~/mambaforge/envs/gpgn-318/lib/python3.11/site-packages/pyrocko/gui/util.py:824\u001b[0m, in \u001b[0;36mColorbarSlider._get_left_line\u001b[0;34m(self)\u001b[0m\n\u001b[1;32m    823\u001b[0m \u001b[38;5;28;01mdef\u001b[39;00m \u001b[38;5;21m_get_left_line\u001b[39m(\u001b[38;5;28mself\u001b[39m):\n\u001b[0;32m--> 824\u001b[0m     rect \u001b[38;5;241m=\u001b[39m \u001b[38;5;28;43mself\u001b[39;49m\u001b[38;5;241;43m.\u001b[39;49m\u001b[43m_get_active_rect\u001b[49m\u001b[43m(\u001b[49m\u001b[43m)\u001b[49m\n\u001b[1;32m    825\u001b[0m     \u001b[38;5;28;01mif\u001b[39;00m \u001b[38;5;129;01mnot\u001b[39;00m rect:\n\u001b[1;32m    826\u001b[0m         \u001b[38;5;28;01mreturn\u001b[39;00m\n",
      "File \u001b[0;32m~/mambaforge/envs/gpgn-318/lib/python3.11/site-packages/pyrocko/gui/util.py:840\u001b[0m, in \u001b[0;36mColorbarSlider._get_active_rect\u001b[0;34m(self)\u001b[0m\n\u001b[1;32m    838\u001b[0m rect \u001b[38;5;241m=\u001b[39m qc\u001b[38;5;241m.\u001b[39mQRect(\u001b[38;5;28mself\u001b[39m\u001b[38;5;241m.\u001b[39m_window)\n\u001b[1;32m    839\u001b[0m width \u001b[38;5;241m=\u001b[39m rect\u001b[38;5;241m.\u001b[39mwidth()\n\u001b[0;32m--> 840\u001b[0m \u001b[43mrect\u001b[49m\u001b[38;5;241;43m.\u001b[39;49m\u001b[43msetLeft\u001b[49m\u001b[43m(\u001b[49m\u001b[43mwidth\u001b[49m\u001b[43m \u001b[49m\u001b[38;5;241;43m*\u001b[39;49m\u001b[43m \u001b[49m\u001b[38;5;28;43mself\u001b[39;49m\u001b[38;5;241;43m.\u001b[39;49m\u001b[43mclip_min\u001b[49m\u001b[43m)\u001b[49m\n\u001b[1;32m    841\u001b[0m rect\u001b[38;5;241m.\u001b[39msetRight(width \u001b[38;5;241m*\u001b[39m \u001b[38;5;28mself\u001b[39m\u001b[38;5;241m.\u001b[39mclip_max)\n\u001b[1;32m    842\u001b[0m \u001b[38;5;28;01mreturn\u001b[39;00m rect\n",
      "\u001b[0;31mTypeError\u001b[0m: setLeft(self, pos: int): argument 1 has unexpected type 'float'"
     ]
    },
    {
     "name": "stderr",
     "output_type": "stream",
     "text": [
      "QBackingStore::endPaint() called with active painter; did you forget to destroy it or call QPainter::end() on it?\n"
     ]
    },
    {
     "ename": "TypeError",
     "evalue": "setLeft(self, pos: int): argument 1 has unexpected type 'float'",
     "output_type": "error",
     "traceback": [
      "\u001b[0;31m---------------------------------------------------------------------------\u001b[0m",
      "\u001b[0;31mTypeError\u001b[0m                                 Traceback (most recent call last)",
      "File \u001b[0;32m~/mambaforge/envs/gpgn-318/lib/python3.11/site-packages/pyrocko/gui/util.py:898\u001b[0m, in \u001b[0;36mColorbarSlider.mouseMoveEvent\u001b[0;34m(self, event)\u001b[0m\n\u001b[1;32m    896\u001b[0m \u001b[38;5;28;01mdef\u001b[39;00m \u001b[38;5;21mmouseMoveEvent\u001b[39m(\u001b[38;5;28mself\u001b[39m, event):\n\u001b[1;32m    897\u001b[0m     \u001b[38;5;124m'\u001b[39m\u001b[38;5;124m'\u001b[39m\n\u001b[0;32m--> 898\u001b[0m     act_rect \u001b[38;5;241m=\u001b[39m \u001b[38;5;28;43mself\u001b[39;49m\u001b[38;5;241;43m.\u001b[39;49m\u001b[43m_get_active_rect\u001b[49m\u001b[43m(\u001b[49m\u001b[43m)\u001b[49m\n\u001b[1;32m    900\u001b[0m     \u001b[38;5;28;01mif\u001b[39;00m \u001b[38;5;129;01mnot\u001b[39;00m \u001b[38;5;28mself\u001b[39m\u001b[38;5;241m.\u001b[39m_component_grabbed:\n\u001b[1;32m    901\u001b[0m         dist_left \u001b[38;5;241m=\u001b[39m \u001b[38;5;28mabs\u001b[39m(event\u001b[38;5;241m.\u001b[39mpos()\u001b[38;5;241m.\u001b[39mx() \u001b[38;5;241m-\u001b[39m act_rect\u001b[38;5;241m.\u001b[39mleft())\n",
      "File \u001b[0;32m~/mambaforge/envs/gpgn-318/lib/python3.11/site-packages/pyrocko/gui/util.py:840\u001b[0m, in \u001b[0;36mColorbarSlider._get_active_rect\u001b[0;34m(self)\u001b[0m\n\u001b[1;32m    838\u001b[0m rect \u001b[38;5;241m=\u001b[39m qc\u001b[38;5;241m.\u001b[39mQRect(\u001b[38;5;28mself\u001b[39m\u001b[38;5;241m.\u001b[39m_window)\n\u001b[1;32m    839\u001b[0m width \u001b[38;5;241m=\u001b[39m rect\u001b[38;5;241m.\u001b[39mwidth()\n\u001b[0;32m--> 840\u001b[0m \u001b[43mrect\u001b[49m\u001b[38;5;241;43m.\u001b[39;49m\u001b[43msetLeft\u001b[49m\u001b[43m(\u001b[49m\u001b[43mwidth\u001b[49m\u001b[43m \u001b[49m\u001b[38;5;241;43m*\u001b[39;49m\u001b[43m \u001b[49m\u001b[38;5;28;43mself\u001b[39;49m\u001b[38;5;241;43m.\u001b[39;49m\u001b[43mclip_min\u001b[49m\u001b[43m)\u001b[49m\n\u001b[1;32m    841\u001b[0m rect\u001b[38;5;241m.\u001b[39msetRight(width \u001b[38;5;241m*\u001b[39m \u001b[38;5;28mself\u001b[39m\u001b[38;5;241m.\u001b[39mclip_max)\n\u001b[1;32m    842\u001b[0m \u001b[38;5;28;01mreturn\u001b[39;00m rect\n",
      "\u001b[0;31mTypeError\u001b[0m: setLeft(self, pos: int): argument 1 has unexpected type 'float'"
     ]
    },
    {
     "name": "stderr",
     "output_type": "stream",
     "text": [
      "QPainter::begin: A paint device can only be painted by one painter at a time.\n",
      "QPainter::setCompositionMode: Painter not active\n"
     ]
    },
    {
     "ename": "TypeError",
     "evalue": "setLeft(self, pos: int): argument 1 has unexpected type 'float'",
     "output_type": "error",
     "traceback": [
      "\u001b[0;31m---------------------------------------------------------------------------\u001b[0m",
      "\u001b[0;31mTypeError\u001b[0m                                 Traceback (most recent call last)",
      "File \u001b[0;32m~/mambaforge/envs/gpgn-318/lib/python3.11/site-packages/pyrocko/gui/util.py:948\u001b[0m, in \u001b[0;36mColorbarSlider.paintEvent\u001b[0;34m(self, e)\u001b[0m\n\u001b[1;32m    942\u001b[0m \u001b[38;5;28mself\u001b[39m\u001b[38;5;241m.\u001b[39m_set_window(p\u001b[38;5;241m.\u001b[39mwindow())\n\u001b[1;32m    944\u001b[0m p\u001b[38;5;241m.\u001b[39mdrawImage(\n\u001b[1;32m    945\u001b[0m     p\u001b[38;5;241m.\u001b[39mwindow(),\n\u001b[1;32m    946\u001b[0m     get_colormap_qimage(\u001b[38;5;28mself\u001b[39m\u001b[38;5;241m.\u001b[39mcmap_name, \u001b[38;5;28mself\u001b[39m\u001b[38;5;241m.\u001b[39mclip_min, \u001b[38;5;28mself\u001b[39m\u001b[38;5;241m.\u001b[39mclip_max))\n\u001b[0;32m--> 948\u001b[0m left_line \u001b[38;5;241m=\u001b[39m \u001b[38;5;28;43mself\u001b[39;49m\u001b[38;5;241;43m.\u001b[39;49m\u001b[43m_get_left_line\u001b[49m\u001b[43m(\u001b[49m\u001b[43m)\u001b[49m\n\u001b[1;32m    949\u001b[0m right_line \u001b[38;5;241m=\u001b[39m \u001b[38;5;28mself\u001b[39m\u001b[38;5;241m.\u001b[39m_get_right_line()\n\u001b[1;32m    951\u001b[0m pen \u001b[38;5;241m=\u001b[39m qg\u001b[38;5;241m.\u001b[39mQPen()\n",
      "File \u001b[0;32m~/mambaforge/envs/gpgn-318/lib/python3.11/site-packages/pyrocko/gui/util.py:824\u001b[0m, in \u001b[0;36mColorbarSlider._get_left_line\u001b[0;34m(self)\u001b[0m\n\u001b[1;32m    823\u001b[0m \u001b[38;5;28;01mdef\u001b[39;00m \u001b[38;5;21m_get_left_line\u001b[39m(\u001b[38;5;28mself\u001b[39m):\n\u001b[0;32m--> 824\u001b[0m     rect \u001b[38;5;241m=\u001b[39m \u001b[38;5;28;43mself\u001b[39;49m\u001b[38;5;241;43m.\u001b[39;49m\u001b[43m_get_active_rect\u001b[49m\u001b[43m(\u001b[49m\u001b[43m)\u001b[49m\n\u001b[1;32m    825\u001b[0m     \u001b[38;5;28;01mif\u001b[39;00m \u001b[38;5;129;01mnot\u001b[39;00m rect:\n\u001b[1;32m    826\u001b[0m         \u001b[38;5;28;01mreturn\u001b[39;00m\n",
      "File \u001b[0;32m~/mambaforge/envs/gpgn-318/lib/python3.11/site-packages/pyrocko/gui/util.py:840\u001b[0m, in \u001b[0;36mColorbarSlider._get_active_rect\u001b[0;34m(self)\u001b[0m\n\u001b[1;32m    838\u001b[0m rect \u001b[38;5;241m=\u001b[39m qc\u001b[38;5;241m.\u001b[39mQRect(\u001b[38;5;28mself\u001b[39m\u001b[38;5;241m.\u001b[39m_window)\n\u001b[1;32m    839\u001b[0m width \u001b[38;5;241m=\u001b[39m rect\u001b[38;5;241m.\u001b[39mwidth()\n\u001b[0;32m--> 840\u001b[0m \u001b[43mrect\u001b[49m\u001b[38;5;241;43m.\u001b[39;49m\u001b[43msetLeft\u001b[49m\u001b[43m(\u001b[49m\u001b[43mwidth\u001b[49m\u001b[43m \u001b[49m\u001b[38;5;241;43m*\u001b[39;49m\u001b[43m \u001b[49m\u001b[38;5;28;43mself\u001b[39;49m\u001b[38;5;241;43m.\u001b[39;49m\u001b[43mclip_min\u001b[49m\u001b[43m)\u001b[49m\n\u001b[1;32m    841\u001b[0m rect\u001b[38;5;241m.\u001b[39msetRight(width \u001b[38;5;241m*\u001b[39m \u001b[38;5;28mself\u001b[39m\u001b[38;5;241m.\u001b[39mclip_max)\n\u001b[1;32m    842\u001b[0m \u001b[38;5;28;01mreturn\u001b[39;00m rect\n",
      "\u001b[0;31mTypeError\u001b[0m: setLeft(self, pos: int): argument 1 has unexpected type 'float'"
     ]
    },
    {
     "name": "stderr",
     "output_type": "stream",
     "text": [
      "QBackingStore::endPaint() called with active painter; did you forget to destroy it or call QPainter::end() on it?\n",
      "QPainter::begin: A paint device can only be painted by one painter at a time.\n",
      "QPainter::setCompositionMode: Painter not active\n"
     ]
    },
    {
     "ename": "TypeError",
     "evalue": "setLeft(self, pos: int): argument 1 has unexpected type 'float'",
     "output_type": "error",
     "traceback": [
      "\u001b[0;31m---------------------------------------------------------------------------\u001b[0m",
      "\u001b[0;31mTypeError\u001b[0m                                 Traceback (most recent call last)",
      "File \u001b[0;32m~/mambaforge/envs/gpgn-318/lib/python3.11/site-packages/pyrocko/gui/util.py:948\u001b[0m, in \u001b[0;36mColorbarSlider.paintEvent\u001b[0;34m(self, e)\u001b[0m\n\u001b[1;32m    942\u001b[0m \u001b[38;5;28mself\u001b[39m\u001b[38;5;241m.\u001b[39m_set_window(p\u001b[38;5;241m.\u001b[39mwindow())\n\u001b[1;32m    944\u001b[0m p\u001b[38;5;241m.\u001b[39mdrawImage(\n\u001b[1;32m    945\u001b[0m     p\u001b[38;5;241m.\u001b[39mwindow(),\n\u001b[1;32m    946\u001b[0m     get_colormap_qimage(\u001b[38;5;28mself\u001b[39m\u001b[38;5;241m.\u001b[39mcmap_name, \u001b[38;5;28mself\u001b[39m\u001b[38;5;241m.\u001b[39mclip_min, \u001b[38;5;28mself\u001b[39m\u001b[38;5;241m.\u001b[39mclip_max))\n\u001b[0;32m--> 948\u001b[0m left_line \u001b[38;5;241m=\u001b[39m \u001b[38;5;28;43mself\u001b[39;49m\u001b[38;5;241;43m.\u001b[39;49m\u001b[43m_get_left_line\u001b[49m\u001b[43m(\u001b[49m\u001b[43m)\u001b[49m\n\u001b[1;32m    949\u001b[0m right_line \u001b[38;5;241m=\u001b[39m \u001b[38;5;28mself\u001b[39m\u001b[38;5;241m.\u001b[39m_get_right_line()\n\u001b[1;32m    951\u001b[0m pen \u001b[38;5;241m=\u001b[39m qg\u001b[38;5;241m.\u001b[39mQPen()\n",
      "File \u001b[0;32m~/mambaforge/envs/gpgn-318/lib/python3.11/site-packages/pyrocko/gui/util.py:824\u001b[0m, in \u001b[0;36mColorbarSlider._get_left_line\u001b[0;34m(self)\u001b[0m\n\u001b[1;32m    823\u001b[0m \u001b[38;5;28;01mdef\u001b[39;00m \u001b[38;5;21m_get_left_line\u001b[39m(\u001b[38;5;28mself\u001b[39m):\n\u001b[0;32m--> 824\u001b[0m     rect \u001b[38;5;241m=\u001b[39m \u001b[38;5;28;43mself\u001b[39;49m\u001b[38;5;241;43m.\u001b[39;49m\u001b[43m_get_active_rect\u001b[49m\u001b[43m(\u001b[49m\u001b[43m)\u001b[49m\n\u001b[1;32m    825\u001b[0m     \u001b[38;5;28;01mif\u001b[39;00m \u001b[38;5;129;01mnot\u001b[39;00m rect:\n\u001b[1;32m    826\u001b[0m         \u001b[38;5;28;01mreturn\u001b[39;00m\n",
      "File \u001b[0;32m~/mambaforge/envs/gpgn-318/lib/python3.11/site-packages/pyrocko/gui/util.py:840\u001b[0m, in \u001b[0;36mColorbarSlider._get_active_rect\u001b[0;34m(self)\u001b[0m\n\u001b[1;32m    838\u001b[0m rect \u001b[38;5;241m=\u001b[39m qc\u001b[38;5;241m.\u001b[39mQRect(\u001b[38;5;28mself\u001b[39m\u001b[38;5;241m.\u001b[39m_window)\n\u001b[1;32m    839\u001b[0m width \u001b[38;5;241m=\u001b[39m rect\u001b[38;5;241m.\u001b[39mwidth()\n\u001b[0;32m--> 840\u001b[0m \u001b[43mrect\u001b[49m\u001b[38;5;241;43m.\u001b[39;49m\u001b[43msetLeft\u001b[49m\u001b[43m(\u001b[49m\u001b[43mwidth\u001b[49m\u001b[43m \u001b[49m\u001b[38;5;241;43m*\u001b[39;49m\u001b[43m \u001b[49m\u001b[38;5;28;43mself\u001b[39;49m\u001b[38;5;241;43m.\u001b[39;49m\u001b[43mclip_min\u001b[49m\u001b[43m)\u001b[49m\n\u001b[1;32m    841\u001b[0m rect\u001b[38;5;241m.\u001b[39msetRight(width \u001b[38;5;241m*\u001b[39m \u001b[38;5;28mself\u001b[39m\u001b[38;5;241m.\u001b[39mclip_max)\n\u001b[1;32m    842\u001b[0m \u001b[38;5;28;01mreturn\u001b[39;00m rect\n",
      "\u001b[0;31mTypeError\u001b[0m: setLeft(self, pos: int): argument 1 has unexpected type 'float'"
     ]
    },
    {
     "name": "stderr",
     "output_type": "stream",
     "text": [
      "QBackingStore::endPaint() called with active painter; did you forget to destroy it or call QPainter::end() on it?\n"
     ]
    },
    {
     "ename": "TypeError",
     "evalue": "setLeft(self, pos: int): argument 1 has unexpected type 'float'",
     "output_type": "error",
     "traceback": [
      "\u001b[0;31m---------------------------------------------------------------------------\u001b[0m",
      "\u001b[0;31mTypeError\u001b[0m                                 Traceback (most recent call last)",
      "File \u001b[0;32m~/mambaforge/envs/gpgn-318/lib/python3.11/site-packages/pyrocko/gui/util.py:898\u001b[0m, in \u001b[0;36mColorbarSlider.mouseMoveEvent\u001b[0;34m(self, event)\u001b[0m\n\u001b[1;32m    896\u001b[0m \u001b[38;5;28;01mdef\u001b[39;00m \u001b[38;5;21mmouseMoveEvent\u001b[39m(\u001b[38;5;28mself\u001b[39m, event):\n\u001b[1;32m    897\u001b[0m     \u001b[38;5;124m'\u001b[39m\u001b[38;5;124m'\u001b[39m\n\u001b[0;32m--> 898\u001b[0m     act_rect \u001b[38;5;241m=\u001b[39m \u001b[38;5;28;43mself\u001b[39;49m\u001b[38;5;241;43m.\u001b[39;49m\u001b[43m_get_active_rect\u001b[49m\u001b[43m(\u001b[49m\u001b[43m)\u001b[49m\n\u001b[1;32m    900\u001b[0m     \u001b[38;5;28;01mif\u001b[39;00m \u001b[38;5;129;01mnot\u001b[39;00m \u001b[38;5;28mself\u001b[39m\u001b[38;5;241m.\u001b[39m_component_grabbed:\n\u001b[1;32m    901\u001b[0m         dist_left \u001b[38;5;241m=\u001b[39m \u001b[38;5;28mabs\u001b[39m(event\u001b[38;5;241m.\u001b[39mpos()\u001b[38;5;241m.\u001b[39mx() \u001b[38;5;241m-\u001b[39m act_rect\u001b[38;5;241m.\u001b[39mleft())\n",
      "File \u001b[0;32m~/mambaforge/envs/gpgn-318/lib/python3.11/site-packages/pyrocko/gui/util.py:840\u001b[0m, in \u001b[0;36mColorbarSlider._get_active_rect\u001b[0;34m(self)\u001b[0m\n\u001b[1;32m    838\u001b[0m rect \u001b[38;5;241m=\u001b[39m qc\u001b[38;5;241m.\u001b[39mQRect(\u001b[38;5;28mself\u001b[39m\u001b[38;5;241m.\u001b[39m_window)\n\u001b[1;32m    839\u001b[0m width \u001b[38;5;241m=\u001b[39m rect\u001b[38;5;241m.\u001b[39mwidth()\n\u001b[0;32m--> 840\u001b[0m \u001b[43mrect\u001b[49m\u001b[38;5;241;43m.\u001b[39;49m\u001b[43msetLeft\u001b[49m\u001b[43m(\u001b[49m\u001b[43mwidth\u001b[49m\u001b[43m \u001b[49m\u001b[38;5;241;43m*\u001b[39;49m\u001b[43m \u001b[49m\u001b[38;5;28;43mself\u001b[39;49m\u001b[38;5;241;43m.\u001b[39;49m\u001b[43mclip_min\u001b[49m\u001b[43m)\u001b[49m\n\u001b[1;32m    841\u001b[0m rect\u001b[38;5;241m.\u001b[39msetRight(width \u001b[38;5;241m*\u001b[39m \u001b[38;5;28mself\u001b[39m\u001b[38;5;241m.\u001b[39mclip_max)\n\u001b[1;32m    842\u001b[0m \u001b[38;5;28;01mreturn\u001b[39;00m rect\n",
      "\u001b[0;31mTypeError\u001b[0m: setLeft(self, pos: int): argument 1 has unexpected type 'float'"
     ]
    },
    {
     "name": "stderr",
     "output_type": "stream",
     "text": [
      "QPainter::begin: A paint device can only be painted by one painter at a time.\n",
      "QPainter::setCompositionMode: Painter not active\n"
     ]
    },
    {
     "ename": "TypeError",
     "evalue": "setLeft(self, pos: int): argument 1 has unexpected type 'float'",
     "output_type": "error",
     "traceback": [
      "\u001b[0;31m---------------------------------------------------------------------------\u001b[0m",
      "\u001b[0;31mTypeError\u001b[0m                                 Traceback (most recent call last)",
      "File \u001b[0;32m~/mambaforge/envs/gpgn-318/lib/python3.11/site-packages/pyrocko/gui/util.py:948\u001b[0m, in \u001b[0;36mColorbarSlider.paintEvent\u001b[0;34m(self, e)\u001b[0m\n\u001b[1;32m    942\u001b[0m \u001b[38;5;28mself\u001b[39m\u001b[38;5;241m.\u001b[39m_set_window(p\u001b[38;5;241m.\u001b[39mwindow())\n\u001b[1;32m    944\u001b[0m p\u001b[38;5;241m.\u001b[39mdrawImage(\n\u001b[1;32m    945\u001b[0m     p\u001b[38;5;241m.\u001b[39mwindow(),\n\u001b[1;32m    946\u001b[0m     get_colormap_qimage(\u001b[38;5;28mself\u001b[39m\u001b[38;5;241m.\u001b[39mcmap_name, \u001b[38;5;28mself\u001b[39m\u001b[38;5;241m.\u001b[39mclip_min, \u001b[38;5;28mself\u001b[39m\u001b[38;5;241m.\u001b[39mclip_max))\n\u001b[0;32m--> 948\u001b[0m left_line \u001b[38;5;241m=\u001b[39m \u001b[38;5;28;43mself\u001b[39;49m\u001b[38;5;241;43m.\u001b[39;49m\u001b[43m_get_left_line\u001b[49m\u001b[43m(\u001b[49m\u001b[43m)\u001b[49m\n\u001b[1;32m    949\u001b[0m right_line \u001b[38;5;241m=\u001b[39m \u001b[38;5;28mself\u001b[39m\u001b[38;5;241m.\u001b[39m_get_right_line()\n\u001b[1;32m    951\u001b[0m pen \u001b[38;5;241m=\u001b[39m qg\u001b[38;5;241m.\u001b[39mQPen()\n",
      "File \u001b[0;32m~/mambaforge/envs/gpgn-318/lib/python3.11/site-packages/pyrocko/gui/util.py:824\u001b[0m, in \u001b[0;36mColorbarSlider._get_left_line\u001b[0;34m(self)\u001b[0m\n\u001b[1;32m    823\u001b[0m \u001b[38;5;28;01mdef\u001b[39;00m \u001b[38;5;21m_get_left_line\u001b[39m(\u001b[38;5;28mself\u001b[39m):\n\u001b[0;32m--> 824\u001b[0m     rect \u001b[38;5;241m=\u001b[39m \u001b[38;5;28;43mself\u001b[39;49m\u001b[38;5;241;43m.\u001b[39;49m\u001b[43m_get_active_rect\u001b[49m\u001b[43m(\u001b[49m\u001b[43m)\u001b[49m\n\u001b[1;32m    825\u001b[0m     \u001b[38;5;28;01mif\u001b[39;00m \u001b[38;5;129;01mnot\u001b[39;00m rect:\n\u001b[1;32m    826\u001b[0m         \u001b[38;5;28;01mreturn\u001b[39;00m\n",
      "File \u001b[0;32m~/mambaforge/envs/gpgn-318/lib/python3.11/site-packages/pyrocko/gui/util.py:840\u001b[0m, in \u001b[0;36mColorbarSlider._get_active_rect\u001b[0;34m(self)\u001b[0m\n\u001b[1;32m    838\u001b[0m rect \u001b[38;5;241m=\u001b[39m qc\u001b[38;5;241m.\u001b[39mQRect(\u001b[38;5;28mself\u001b[39m\u001b[38;5;241m.\u001b[39m_window)\n\u001b[1;32m    839\u001b[0m width \u001b[38;5;241m=\u001b[39m rect\u001b[38;5;241m.\u001b[39mwidth()\n\u001b[0;32m--> 840\u001b[0m \u001b[43mrect\u001b[49m\u001b[38;5;241;43m.\u001b[39;49m\u001b[43msetLeft\u001b[49m\u001b[43m(\u001b[49m\u001b[43mwidth\u001b[49m\u001b[43m \u001b[49m\u001b[38;5;241;43m*\u001b[39;49m\u001b[43m \u001b[49m\u001b[38;5;28;43mself\u001b[39;49m\u001b[38;5;241;43m.\u001b[39;49m\u001b[43mclip_min\u001b[49m\u001b[43m)\u001b[49m\n\u001b[1;32m    841\u001b[0m rect\u001b[38;5;241m.\u001b[39msetRight(width \u001b[38;5;241m*\u001b[39m \u001b[38;5;28mself\u001b[39m\u001b[38;5;241m.\u001b[39mclip_max)\n\u001b[1;32m    842\u001b[0m \u001b[38;5;28;01mreturn\u001b[39;00m rect\n",
      "\u001b[0;31mTypeError\u001b[0m: setLeft(self, pos: int): argument 1 has unexpected type 'float'"
     ]
    },
    {
     "name": "stderr",
     "output_type": "stream",
     "text": [
      "QBackingStore::endPaint() called with active painter; did you forget to destroy it or call QPainter::end() on it?\n",
      "QPainter::begin: A paint device can only be painted by one painter at a time.\n",
      "QPainter::setCompositionMode: Painter not active\n"
     ]
    },
    {
     "ename": "TypeError",
     "evalue": "setLeft(self, pos: int): argument 1 has unexpected type 'float'",
     "output_type": "error",
     "traceback": [
      "\u001b[0;31m---------------------------------------------------------------------------\u001b[0m",
      "\u001b[0;31mTypeError\u001b[0m                                 Traceback (most recent call last)",
      "File \u001b[0;32m~/mambaforge/envs/gpgn-318/lib/python3.11/site-packages/pyrocko/gui/util.py:948\u001b[0m, in \u001b[0;36mColorbarSlider.paintEvent\u001b[0;34m(self, e)\u001b[0m\n\u001b[1;32m    942\u001b[0m \u001b[38;5;28mself\u001b[39m\u001b[38;5;241m.\u001b[39m_set_window(p\u001b[38;5;241m.\u001b[39mwindow())\n\u001b[1;32m    944\u001b[0m p\u001b[38;5;241m.\u001b[39mdrawImage(\n\u001b[1;32m    945\u001b[0m     p\u001b[38;5;241m.\u001b[39mwindow(),\n\u001b[1;32m    946\u001b[0m     get_colormap_qimage(\u001b[38;5;28mself\u001b[39m\u001b[38;5;241m.\u001b[39mcmap_name, \u001b[38;5;28mself\u001b[39m\u001b[38;5;241m.\u001b[39mclip_min, \u001b[38;5;28mself\u001b[39m\u001b[38;5;241m.\u001b[39mclip_max))\n\u001b[0;32m--> 948\u001b[0m left_line \u001b[38;5;241m=\u001b[39m \u001b[38;5;28;43mself\u001b[39;49m\u001b[38;5;241;43m.\u001b[39;49m\u001b[43m_get_left_line\u001b[49m\u001b[43m(\u001b[49m\u001b[43m)\u001b[49m\n\u001b[1;32m    949\u001b[0m right_line \u001b[38;5;241m=\u001b[39m \u001b[38;5;28mself\u001b[39m\u001b[38;5;241m.\u001b[39m_get_right_line()\n\u001b[1;32m    951\u001b[0m pen \u001b[38;5;241m=\u001b[39m qg\u001b[38;5;241m.\u001b[39mQPen()\n",
      "File \u001b[0;32m~/mambaforge/envs/gpgn-318/lib/python3.11/site-packages/pyrocko/gui/util.py:824\u001b[0m, in \u001b[0;36mColorbarSlider._get_left_line\u001b[0;34m(self)\u001b[0m\n\u001b[1;32m    823\u001b[0m \u001b[38;5;28;01mdef\u001b[39;00m \u001b[38;5;21m_get_left_line\u001b[39m(\u001b[38;5;28mself\u001b[39m):\n\u001b[0;32m--> 824\u001b[0m     rect \u001b[38;5;241m=\u001b[39m \u001b[38;5;28;43mself\u001b[39;49m\u001b[38;5;241;43m.\u001b[39;49m\u001b[43m_get_active_rect\u001b[49m\u001b[43m(\u001b[49m\u001b[43m)\u001b[49m\n\u001b[1;32m    825\u001b[0m     \u001b[38;5;28;01mif\u001b[39;00m \u001b[38;5;129;01mnot\u001b[39;00m rect:\n\u001b[1;32m    826\u001b[0m         \u001b[38;5;28;01mreturn\u001b[39;00m\n",
      "File \u001b[0;32m~/mambaforge/envs/gpgn-318/lib/python3.11/site-packages/pyrocko/gui/util.py:840\u001b[0m, in \u001b[0;36mColorbarSlider._get_active_rect\u001b[0;34m(self)\u001b[0m\n\u001b[1;32m    838\u001b[0m rect \u001b[38;5;241m=\u001b[39m qc\u001b[38;5;241m.\u001b[39mQRect(\u001b[38;5;28mself\u001b[39m\u001b[38;5;241m.\u001b[39m_window)\n\u001b[1;32m    839\u001b[0m width \u001b[38;5;241m=\u001b[39m rect\u001b[38;5;241m.\u001b[39mwidth()\n\u001b[0;32m--> 840\u001b[0m \u001b[43mrect\u001b[49m\u001b[38;5;241;43m.\u001b[39;49m\u001b[43msetLeft\u001b[49m\u001b[43m(\u001b[49m\u001b[43mwidth\u001b[49m\u001b[43m \u001b[49m\u001b[38;5;241;43m*\u001b[39;49m\u001b[43m \u001b[49m\u001b[38;5;28;43mself\u001b[39;49m\u001b[38;5;241;43m.\u001b[39;49m\u001b[43mclip_min\u001b[49m\u001b[43m)\u001b[49m\n\u001b[1;32m    841\u001b[0m rect\u001b[38;5;241m.\u001b[39msetRight(width \u001b[38;5;241m*\u001b[39m \u001b[38;5;28mself\u001b[39m\u001b[38;5;241m.\u001b[39mclip_max)\n\u001b[1;32m    842\u001b[0m \u001b[38;5;28;01mreturn\u001b[39;00m rect\n",
      "\u001b[0;31mTypeError\u001b[0m: setLeft(self, pos: int): argument 1 has unexpected type 'float'"
     ]
    },
    {
     "name": "stderr",
     "output_type": "stream",
     "text": [
      "QBackingStore::endPaint() called with active painter; did you forget to destroy it or call QPainter::end() on it?\n"
     ]
    },
    {
     "ename": "TypeError",
     "evalue": "setLeft(self, pos: int): argument 1 has unexpected type 'float'",
     "output_type": "error",
     "traceback": [
      "\u001b[0;31m---------------------------------------------------------------------------\u001b[0m",
      "\u001b[0;31mTypeError\u001b[0m                                 Traceback (most recent call last)",
      "File \u001b[0;32m~/mambaforge/envs/gpgn-318/lib/python3.11/site-packages/pyrocko/gui/util.py:898\u001b[0m, in \u001b[0;36mColorbarSlider.mouseMoveEvent\u001b[0;34m(self, event)\u001b[0m\n\u001b[1;32m    896\u001b[0m \u001b[38;5;28;01mdef\u001b[39;00m \u001b[38;5;21mmouseMoveEvent\u001b[39m(\u001b[38;5;28mself\u001b[39m, event):\n\u001b[1;32m    897\u001b[0m     \u001b[38;5;124m'\u001b[39m\u001b[38;5;124m'\u001b[39m\n\u001b[0;32m--> 898\u001b[0m     act_rect \u001b[38;5;241m=\u001b[39m \u001b[38;5;28;43mself\u001b[39;49m\u001b[38;5;241;43m.\u001b[39;49m\u001b[43m_get_active_rect\u001b[49m\u001b[43m(\u001b[49m\u001b[43m)\u001b[49m\n\u001b[1;32m    900\u001b[0m     \u001b[38;5;28;01mif\u001b[39;00m \u001b[38;5;129;01mnot\u001b[39;00m \u001b[38;5;28mself\u001b[39m\u001b[38;5;241m.\u001b[39m_component_grabbed:\n\u001b[1;32m    901\u001b[0m         dist_left \u001b[38;5;241m=\u001b[39m \u001b[38;5;28mabs\u001b[39m(event\u001b[38;5;241m.\u001b[39mpos()\u001b[38;5;241m.\u001b[39mx() \u001b[38;5;241m-\u001b[39m act_rect\u001b[38;5;241m.\u001b[39mleft())\n",
      "File \u001b[0;32m~/mambaforge/envs/gpgn-318/lib/python3.11/site-packages/pyrocko/gui/util.py:840\u001b[0m, in \u001b[0;36mColorbarSlider._get_active_rect\u001b[0;34m(self)\u001b[0m\n\u001b[1;32m    838\u001b[0m rect \u001b[38;5;241m=\u001b[39m qc\u001b[38;5;241m.\u001b[39mQRect(\u001b[38;5;28mself\u001b[39m\u001b[38;5;241m.\u001b[39m_window)\n\u001b[1;32m    839\u001b[0m width \u001b[38;5;241m=\u001b[39m rect\u001b[38;5;241m.\u001b[39mwidth()\n\u001b[0;32m--> 840\u001b[0m \u001b[43mrect\u001b[49m\u001b[38;5;241;43m.\u001b[39;49m\u001b[43msetLeft\u001b[49m\u001b[43m(\u001b[49m\u001b[43mwidth\u001b[49m\u001b[43m \u001b[49m\u001b[38;5;241;43m*\u001b[39;49m\u001b[43m \u001b[49m\u001b[38;5;28;43mself\u001b[39;49m\u001b[38;5;241;43m.\u001b[39;49m\u001b[43mclip_min\u001b[49m\u001b[43m)\u001b[49m\n\u001b[1;32m    841\u001b[0m rect\u001b[38;5;241m.\u001b[39msetRight(width \u001b[38;5;241m*\u001b[39m \u001b[38;5;28mself\u001b[39m\u001b[38;5;241m.\u001b[39mclip_max)\n\u001b[1;32m    842\u001b[0m \u001b[38;5;28;01mreturn\u001b[39;00m rect\n",
      "\u001b[0;31mTypeError\u001b[0m: setLeft(self, pos: int): argument 1 has unexpected type 'float'"
     ]
    },
    {
     "ename": "TypeError",
     "evalue": "setLeft(self, pos: int): argument 1 has unexpected type 'float'",
     "output_type": "error",
     "traceback": [
      "\u001b[0;31m---------------------------------------------------------------------------\u001b[0m",
      "\u001b[0;31mTypeError\u001b[0m                                 Traceback (most recent call last)",
      "File \u001b[0;32m~/mambaforge/envs/gpgn-318/lib/python3.11/site-packages/pyrocko/gui/util.py:898\u001b[0m, in \u001b[0;36mColorbarSlider.mouseMoveEvent\u001b[0;34m(self, event)\u001b[0m\n\u001b[1;32m    896\u001b[0m \u001b[38;5;28;01mdef\u001b[39;00m \u001b[38;5;21mmouseMoveEvent\u001b[39m(\u001b[38;5;28mself\u001b[39m, event):\n\u001b[1;32m    897\u001b[0m     \u001b[38;5;124m'\u001b[39m\u001b[38;5;124m'\u001b[39m\n\u001b[0;32m--> 898\u001b[0m     act_rect \u001b[38;5;241m=\u001b[39m \u001b[38;5;28;43mself\u001b[39;49m\u001b[38;5;241;43m.\u001b[39;49m\u001b[43m_get_active_rect\u001b[49m\u001b[43m(\u001b[49m\u001b[43m)\u001b[49m\n\u001b[1;32m    900\u001b[0m     \u001b[38;5;28;01mif\u001b[39;00m \u001b[38;5;129;01mnot\u001b[39;00m \u001b[38;5;28mself\u001b[39m\u001b[38;5;241m.\u001b[39m_component_grabbed:\n\u001b[1;32m    901\u001b[0m         dist_left \u001b[38;5;241m=\u001b[39m \u001b[38;5;28mabs\u001b[39m(event\u001b[38;5;241m.\u001b[39mpos()\u001b[38;5;241m.\u001b[39mx() \u001b[38;5;241m-\u001b[39m act_rect\u001b[38;5;241m.\u001b[39mleft())\n",
      "File \u001b[0;32m~/mambaforge/envs/gpgn-318/lib/python3.11/site-packages/pyrocko/gui/util.py:840\u001b[0m, in \u001b[0;36mColorbarSlider._get_active_rect\u001b[0;34m(self)\u001b[0m\n\u001b[1;32m    838\u001b[0m rect \u001b[38;5;241m=\u001b[39m qc\u001b[38;5;241m.\u001b[39mQRect(\u001b[38;5;28mself\u001b[39m\u001b[38;5;241m.\u001b[39m_window)\n\u001b[1;32m    839\u001b[0m width \u001b[38;5;241m=\u001b[39m rect\u001b[38;5;241m.\u001b[39mwidth()\n\u001b[0;32m--> 840\u001b[0m \u001b[43mrect\u001b[49m\u001b[38;5;241;43m.\u001b[39;49m\u001b[43msetLeft\u001b[49m\u001b[43m(\u001b[49m\u001b[43mwidth\u001b[49m\u001b[43m \u001b[49m\u001b[38;5;241;43m*\u001b[39;49m\u001b[43m \u001b[49m\u001b[38;5;28;43mself\u001b[39;49m\u001b[38;5;241;43m.\u001b[39;49m\u001b[43mclip_min\u001b[49m\u001b[43m)\u001b[49m\n\u001b[1;32m    841\u001b[0m rect\u001b[38;5;241m.\u001b[39msetRight(width \u001b[38;5;241m*\u001b[39m \u001b[38;5;28mself\u001b[39m\u001b[38;5;241m.\u001b[39mclip_max)\n\u001b[1;32m    842\u001b[0m \u001b[38;5;28;01mreturn\u001b[39;00m rect\n",
      "\u001b[0;31mTypeError\u001b[0m: setLeft(self, pos: int): argument 1 has unexpected type 'float'"
     ]
    },
    {
     "name": "stderr",
     "output_type": "stream",
     "text": [
      "QPainter::begin: A paint device can only be painted by one painter at a time.\n",
      "QPainter::setCompositionMode: Painter not active\n"
     ]
    },
    {
     "ename": "TypeError",
     "evalue": "setLeft(self, pos: int): argument 1 has unexpected type 'float'",
     "output_type": "error",
     "traceback": [
      "\u001b[0;31m---------------------------------------------------------------------------\u001b[0m",
      "\u001b[0;31mTypeError\u001b[0m                                 Traceback (most recent call last)",
      "File \u001b[0;32m~/mambaforge/envs/gpgn-318/lib/python3.11/site-packages/pyrocko/gui/util.py:948\u001b[0m, in \u001b[0;36mColorbarSlider.paintEvent\u001b[0;34m(self, e)\u001b[0m\n\u001b[1;32m    942\u001b[0m \u001b[38;5;28mself\u001b[39m\u001b[38;5;241m.\u001b[39m_set_window(p\u001b[38;5;241m.\u001b[39mwindow())\n\u001b[1;32m    944\u001b[0m p\u001b[38;5;241m.\u001b[39mdrawImage(\n\u001b[1;32m    945\u001b[0m     p\u001b[38;5;241m.\u001b[39mwindow(),\n\u001b[1;32m    946\u001b[0m     get_colormap_qimage(\u001b[38;5;28mself\u001b[39m\u001b[38;5;241m.\u001b[39mcmap_name, \u001b[38;5;28mself\u001b[39m\u001b[38;5;241m.\u001b[39mclip_min, \u001b[38;5;28mself\u001b[39m\u001b[38;5;241m.\u001b[39mclip_max))\n\u001b[0;32m--> 948\u001b[0m left_line \u001b[38;5;241m=\u001b[39m \u001b[38;5;28;43mself\u001b[39;49m\u001b[38;5;241;43m.\u001b[39;49m\u001b[43m_get_left_line\u001b[49m\u001b[43m(\u001b[49m\u001b[43m)\u001b[49m\n\u001b[1;32m    949\u001b[0m right_line \u001b[38;5;241m=\u001b[39m \u001b[38;5;28mself\u001b[39m\u001b[38;5;241m.\u001b[39m_get_right_line()\n\u001b[1;32m    951\u001b[0m pen \u001b[38;5;241m=\u001b[39m qg\u001b[38;5;241m.\u001b[39mQPen()\n",
      "File \u001b[0;32m~/mambaforge/envs/gpgn-318/lib/python3.11/site-packages/pyrocko/gui/util.py:824\u001b[0m, in \u001b[0;36mColorbarSlider._get_left_line\u001b[0;34m(self)\u001b[0m\n\u001b[1;32m    823\u001b[0m \u001b[38;5;28;01mdef\u001b[39;00m \u001b[38;5;21m_get_left_line\u001b[39m(\u001b[38;5;28mself\u001b[39m):\n\u001b[0;32m--> 824\u001b[0m     rect \u001b[38;5;241m=\u001b[39m \u001b[38;5;28;43mself\u001b[39;49m\u001b[38;5;241;43m.\u001b[39;49m\u001b[43m_get_active_rect\u001b[49m\u001b[43m(\u001b[49m\u001b[43m)\u001b[49m\n\u001b[1;32m    825\u001b[0m     \u001b[38;5;28;01mif\u001b[39;00m \u001b[38;5;129;01mnot\u001b[39;00m rect:\n\u001b[1;32m    826\u001b[0m         \u001b[38;5;28;01mreturn\u001b[39;00m\n",
      "File \u001b[0;32m~/mambaforge/envs/gpgn-318/lib/python3.11/site-packages/pyrocko/gui/util.py:840\u001b[0m, in \u001b[0;36mColorbarSlider._get_active_rect\u001b[0;34m(self)\u001b[0m\n\u001b[1;32m    838\u001b[0m rect \u001b[38;5;241m=\u001b[39m qc\u001b[38;5;241m.\u001b[39mQRect(\u001b[38;5;28mself\u001b[39m\u001b[38;5;241m.\u001b[39m_window)\n\u001b[1;32m    839\u001b[0m width \u001b[38;5;241m=\u001b[39m rect\u001b[38;5;241m.\u001b[39mwidth()\n\u001b[0;32m--> 840\u001b[0m \u001b[43mrect\u001b[49m\u001b[38;5;241;43m.\u001b[39;49m\u001b[43msetLeft\u001b[49m\u001b[43m(\u001b[49m\u001b[43mwidth\u001b[49m\u001b[43m \u001b[49m\u001b[38;5;241;43m*\u001b[39;49m\u001b[43m \u001b[49m\u001b[38;5;28;43mself\u001b[39;49m\u001b[38;5;241;43m.\u001b[39;49m\u001b[43mclip_min\u001b[49m\u001b[43m)\u001b[49m\n\u001b[1;32m    841\u001b[0m rect\u001b[38;5;241m.\u001b[39msetRight(width \u001b[38;5;241m*\u001b[39m \u001b[38;5;28mself\u001b[39m\u001b[38;5;241m.\u001b[39mclip_max)\n\u001b[1;32m    842\u001b[0m \u001b[38;5;28;01mreturn\u001b[39;00m rect\n",
      "\u001b[0;31mTypeError\u001b[0m: setLeft(self, pos: int): argument 1 has unexpected type 'float'"
     ]
    },
    {
     "name": "stderr",
     "output_type": "stream",
     "text": [
      "QBackingStore::endPaint() called with active painter; did you forget to destroy it or call QPainter::end() on it?\n",
      "QPainter::begin: A paint device can only be painted by one painter at a time.\n",
      "QPainter::setCompositionMode: Painter not active\n"
     ]
    },
    {
     "ename": "TypeError",
     "evalue": "setLeft(self, pos: int): argument 1 has unexpected type 'float'",
     "output_type": "error",
     "traceback": [
      "\u001b[0;31m---------------------------------------------------------------------------\u001b[0m",
      "\u001b[0;31mTypeError\u001b[0m                                 Traceback (most recent call last)",
      "File \u001b[0;32m~/mambaforge/envs/gpgn-318/lib/python3.11/site-packages/pyrocko/gui/util.py:948\u001b[0m, in \u001b[0;36mColorbarSlider.paintEvent\u001b[0;34m(self, e)\u001b[0m\n\u001b[1;32m    942\u001b[0m \u001b[38;5;28mself\u001b[39m\u001b[38;5;241m.\u001b[39m_set_window(p\u001b[38;5;241m.\u001b[39mwindow())\n\u001b[1;32m    944\u001b[0m p\u001b[38;5;241m.\u001b[39mdrawImage(\n\u001b[1;32m    945\u001b[0m     p\u001b[38;5;241m.\u001b[39mwindow(),\n\u001b[1;32m    946\u001b[0m     get_colormap_qimage(\u001b[38;5;28mself\u001b[39m\u001b[38;5;241m.\u001b[39mcmap_name, \u001b[38;5;28mself\u001b[39m\u001b[38;5;241m.\u001b[39mclip_min, \u001b[38;5;28mself\u001b[39m\u001b[38;5;241m.\u001b[39mclip_max))\n\u001b[0;32m--> 948\u001b[0m left_line \u001b[38;5;241m=\u001b[39m \u001b[38;5;28;43mself\u001b[39;49m\u001b[38;5;241;43m.\u001b[39;49m\u001b[43m_get_left_line\u001b[49m\u001b[43m(\u001b[49m\u001b[43m)\u001b[49m\n\u001b[1;32m    949\u001b[0m right_line \u001b[38;5;241m=\u001b[39m \u001b[38;5;28mself\u001b[39m\u001b[38;5;241m.\u001b[39m_get_right_line()\n\u001b[1;32m    951\u001b[0m pen \u001b[38;5;241m=\u001b[39m qg\u001b[38;5;241m.\u001b[39mQPen()\n",
      "File \u001b[0;32m~/mambaforge/envs/gpgn-318/lib/python3.11/site-packages/pyrocko/gui/util.py:824\u001b[0m, in \u001b[0;36mColorbarSlider._get_left_line\u001b[0;34m(self)\u001b[0m\n\u001b[1;32m    823\u001b[0m \u001b[38;5;28;01mdef\u001b[39;00m \u001b[38;5;21m_get_left_line\u001b[39m(\u001b[38;5;28mself\u001b[39m):\n\u001b[0;32m--> 824\u001b[0m     rect \u001b[38;5;241m=\u001b[39m \u001b[38;5;28;43mself\u001b[39;49m\u001b[38;5;241;43m.\u001b[39;49m\u001b[43m_get_active_rect\u001b[49m\u001b[43m(\u001b[49m\u001b[43m)\u001b[49m\n\u001b[1;32m    825\u001b[0m     \u001b[38;5;28;01mif\u001b[39;00m \u001b[38;5;129;01mnot\u001b[39;00m rect:\n\u001b[1;32m    826\u001b[0m         \u001b[38;5;28;01mreturn\u001b[39;00m\n",
      "File \u001b[0;32m~/mambaforge/envs/gpgn-318/lib/python3.11/site-packages/pyrocko/gui/util.py:840\u001b[0m, in \u001b[0;36mColorbarSlider._get_active_rect\u001b[0;34m(self)\u001b[0m\n\u001b[1;32m    838\u001b[0m rect \u001b[38;5;241m=\u001b[39m qc\u001b[38;5;241m.\u001b[39mQRect(\u001b[38;5;28mself\u001b[39m\u001b[38;5;241m.\u001b[39m_window)\n\u001b[1;32m    839\u001b[0m width \u001b[38;5;241m=\u001b[39m rect\u001b[38;5;241m.\u001b[39mwidth()\n\u001b[0;32m--> 840\u001b[0m \u001b[43mrect\u001b[49m\u001b[38;5;241;43m.\u001b[39;49m\u001b[43msetLeft\u001b[49m\u001b[43m(\u001b[49m\u001b[43mwidth\u001b[49m\u001b[43m \u001b[49m\u001b[38;5;241;43m*\u001b[39;49m\u001b[43m \u001b[49m\u001b[38;5;28;43mself\u001b[39;49m\u001b[38;5;241;43m.\u001b[39;49m\u001b[43mclip_min\u001b[49m\u001b[43m)\u001b[49m\n\u001b[1;32m    841\u001b[0m rect\u001b[38;5;241m.\u001b[39msetRight(width \u001b[38;5;241m*\u001b[39m \u001b[38;5;28mself\u001b[39m\u001b[38;5;241m.\u001b[39mclip_max)\n\u001b[1;32m    842\u001b[0m \u001b[38;5;28;01mreturn\u001b[39;00m rect\n",
      "\u001b[0;31mTypeError\u001b[0m: setLeft(self, pos: int): argument 1 has unexpected type 'float'"
     ]
    },
    {
     "name": "stderr",
     "output_type": "stream",
     "text": [
      "QBackingStore::endPaint() called with active painter; did you forget to destroy it or call QPainter::end() on it?\n"
     ]
    },
    {
     "ename": "TypeError",
     "evalue": "setLeft(self, pos: int): argument 1 has unexpected type 'float'",
     "output_type": "error",
     "traceback": [
      "\u001b[0;31m---------------------------------------------------------------------------\u001b[0m",
      "\u001b[0;31mTypeError\u001b[0m                                 Traceback (most recent call last)",
      "File \u001b[0;32m~/mambaforge/envs/gpgn-318/lib/python3.11/site-packages/pyrocko/gui/util.py:898\u001b[0m, in \u001b[0;36mColorbarSlider.mouseMoveEvent\u001b[0;34m(self, event)\u001b[0m\n\u001b[1;32m    896\u001b[0m \u001b[38;5;28;01mdef\u001b[39;00m \u001b[38;5;21mmouseMoveEvent\u001b[39m(\u001b[38;5;28mself\u001b[39m, event):\n\u001b[1;32m    897\u001b[0m     \u001b[38;5;124m'\u001b[39m\u001b[38;5;124m'\u001b[39m\n\u001b[0;32m--> 898\u001b[0m     act_rect \u001b[38;5;241m=\u001b[39m \u001b[38;5;28;43mself\u001b[39;49m\u001b[38;5;241;43m.\u001b[39;49m\u001b[43m_get_active_rect\u001b[49m\u001b[43m(\u001b[49m\u001b[43m)\u001b[49m\n\u001b[1;32m    900\u001b[0m     \u001b[38;5;28;01mif\u001b[39;00m \u001b[38;5;129;01mnot\u001b[39;00m \u001b[38;5;28mself\u001b[39m\u001b[38;5;241m.\u001b[39m_component_grabbed:\n\u001b[1;32m    901\u001b[0m         dist_left \u001b[38;5;241m=\u001b[39m \u001b[38;5;28mabs\u001b[39m(event\u001b[38;5;241m.\u001b[39mpos()\u001b[38;5;241m.\u001b[39mx() \u001b[38;5;241m-\u001b[39m act_rect\u001b[38;5;241m.\u001b[39mleft())\n",
      "File \u001b[0;32m~/mambaforge/envs/gpgn-318/lib/python3.11/site-packages/pyrocko/gui/util.py:840\u001b[0m, in \u001b[0;36mColorbarSlider._get_active_rect\u001b[0;34m(self)\u001b[0m\n\u001b[1;32m    838\u001b[0m rect \u001b[38;5;241m=\u001b[39m qc\u001b[38;5;241m.\u001b[39mQRect(\u001b[38;5;28mself\u001b[39m\u001b[38;5;241m.\u001b[39m_window)\n\u001b[1;32m    839\u001b[0m width \u001b[38;5;241m=\u001b[39m rect\u001b[38;5;241m.\u001b[39mwidth()\n\u001b[0;32m--> 840\u001b[0m \u001b[43mrect\u001b[49m\u001b[38;5;241;43m.\u001b[39;49m\u001b[43msetLeft\u001b[49m\u001b[43m(\u001b[49m\u001b[43mwidth\u001b[49m\u001b[43m \u001b[49m\u001b[38;5;241;43m*\u001b[39;49m\u001b[43m \u001b[49m\u001b[38;5;28;43mself\u001b[39;49m\u001b[38;5;241;43m.\u001b[39;49m\u001b[43mclip_min\u001b[49m\u001b[43m)\u001b[49m\n\u001b[1;32m    841\u001b[0m rect\u001b[38;5;241m.\u001b[39msetRight(width \u001b[38;5;241m*\u001b[39m \u001b[38;5;28mself\u001b[39m\u001b[38;5;241m.\u001b[39mclip_max)\n\u001b[1;32m    842\u001b[0m \u001b[38;5;28;01mreturn\u001b[39;00m rect\n",
      "\u001b[0;31mTypeError\u001b[0m: setLeft(self, pos: int): argument 1 has unexpected type 'float'"
     ]
    },
    {
     "ename": "TypeError",
     "evalue": "setLeft(self, pos: int): argument 1 has unexpected type 'float'",
     "output_type": "error",
     "traceback": [
      "\u001b[0;31m---------------------------------------------------------------------------\u001b[0m",
      "\u001b[0;31mTypeError\u001b[0m                                 Traceback (most recent call last)",
      "File \u001b[0;32m~/mambaforge/envs/gpgn-318/lib/python3.11/site-packages/pyrocko/gui/util.py:898\u001b[0m, in \u001b[0;36mColorbarSlider.mouseMoveEvent\u001b[0;34m(self, event)\u001b[0m\n\u001b[1;32m    896\u001b[0m \u001b[38;5;28;01mdef\u001b[39;00m \u001b[38;5;21mmouseMoveEvent\u001b[39m(\u001b[38;5;28mself\u001b[39m, event):\n\u001b[1;32m    897\u001b[0m     \u001b[38;5;124m'\u001b[39m\u001b[38;5;124m'\u001b[39m\n\u001b[0;32m--> 898\u001b[0m     act_rect \u001b[38;5;241m=\u001b[39m \u001b[38;5;28;43mself\u001b[39;49m\u001b[38;5;241;43m.\u001b[39;49m\u001b[43m_get_active_rect\u001b[49m\u001b[43m(\u001b[49m\u001b[43m)\u001b[49m\n\u001b[1;32m    900\u001b[0m     \u001b[38;5;28;01mif\u001b[39;00m \u001b[38;5;129;01mnot\u001b[39;00m \u001b[38;5;28mself\u001b[39m\u001b[38;5;241m.\u001b[39m_component_grabbed:\n\u001b[1;32m    901\u001b[0m         dist_left \u001b[38;5;241m=\u001b[39m \u001b[38;5;28mabs\u001b[39m(event\u001b[38;5;241m.\u001b[39mpos()\u001b[38;5;241m.\u001b[39mx() \u001b[38;5;241m-\u001b[39m act_rect\u001b[38;5;241m.\u001b[39mleft())\n",
      "File \u001b[0;32m~/mambaforge/envs/gpgn-318/lib/python3.11/site-packages/pyrocko/gui/util.py:840\u001b[0m, in \u001b[0;36mColorbarSlider._get_active_rect\u001b[0;34m(self)\u001b[0m\n\u001b[1;32m    838\u001b[0m rect \u001b[38;5;241m=\u001b[39m qc\u001b[38;5;241m.\u001b[39mQRect(\u001b[38;5;28mself\u001b[39m\u001b[38;5;241m.\u001b[39m_window)\n\u001b[1;32m    839\u001b[0m width \u001b[38;5;241m=\u001b[39m rect\u001b[38;5;241m.\u001b[39mwidth()\n\u001b[0;32m--> 840\u001b[0m \u001b[43mrect\u001b[49m\u001b[38;5;241;43m.\u001b[39;49m\u001b[43msetLeft\u001b[49m\u001b[43m(\u001b[49m\u001b[43mwidth\u001b[49m\u001b[43m \u001b[49m\u001b[38;5;241;43m*\u001b[39;49m\u001b[43m \u001b[49m\u001b[38;5;28;43mself\u001b[39;49m\u001b[38;5;241;43m.\u001b[39;49m\u001b[43mclip_min\u001b[49m\u001b[43m)\u001b[49m\n\u001b[1;32m    841\u001b[0m rect\u001b[38;5;241m.\u001b[39msetRight(width \u001b[38;5;241m*\u001b[39m \u001b[38;5;28mself\u001b[39m\u001b[38;5;241m.\u001b[39mclip_max)\n\u001b[1;32m    842\u001b[0m \u001b[38;5;28;01mreturn\u001b[39;00m rect\n",
      "\u001b[0;31mTypeError\u001b[0m: setLeft(self, pos: int): argument 1 has unexpected type 'float'"
     ]
    },
    {
     "ename": "TypeError",
     "evalue": "setLeft(self, pos: int): argument 1 has unexpected type 'float'",
     "output_type": "error",
     "traceback": [
      "\u001b[0;31m---------------------------------------------------------------------------\u001b[0m",
      "\u001b[0;31mTypeError\u001b[0m                                 Traceback (most recent call last)",
      "File \u001b[0;32m~/mambaforge/envs/gpgn-318/lib/python3.11/site-packages/pyrocko/gui/util.py:898\u001b[0m, in \u001b[0;36mColorbarSlider.mouseMoveEvent\u001b[0;34m(self, event)\u001b[0m\n\u001b[1;32m    896\u001b[0m \u001b[38;5;28;01mdef\u001b[39;00m \u001b[38;5;21mmouseMoveEvent\u001b[39m(\u001b[38;5;28mself\u001b[39m, event):\n\u001b[1;32m    897\u001b[0m     \u001b[38;5;124m'\u001b[39m\u001b[38;5;124m'\u001b[39m\n\u001b[0;32m--> 898\u001b[0m     act_rect \u001b[38;5;241m=\u001b[39m \u001b[38;5;28;43mself\u001b[39;49m\u001b[38;5;241;43m.\u001b[39;49m\u001b[43m_get_active_rect\u001b[49m\u001b[43m(\u001b[49m\u001b[43m)\u001b[49m\n\u001b[1;32m    900\u001b[0m     \u001b[38;5;28;01mif\u001b[39;00m \u001b[38;5;129;01mnot\u001b[39;00m \u001b[38;5;28mself\u001b[39m\u001b[38;5;241m.\u001b[39m_component_grabbed:\n\u001b[1;32m    901\u001b[0m         dist_left \u001b[38;5;241m=\u001b[39m \u001b[38;5;28mabs\u001b[39m(event\u001b[38;5;241m.\u001b[39mpos()\u001b[38;5;241m.\u001b[39mx() \u001b[38;5;241m-\u001b[39m act_rect\u001b[38;5;241m.\u001b[39mleft())\n",
      "File \u001b[0;32m~/mambaforge/envs/gpgn-318/lib/python3.11/site-packages/pyrocko/gui/util.py:840\u001b[0m, in \u001b[0;36mColorbarSlider._get_active_rect\u001b[0;34m(self)\u001b[0m\n\u001b[1;32m    838\u001b[0m rect \u001b[38;5;241m=\u001b[39m qc\u001b[38;5;241m.\u001b[39mQRect(\u001b[38;5;28mself\u001b[39m\u001b[38;5;241m.\u001b[39m_window)\n\u001b[1;32m    839\u001b[0m width \u001b[38;5;241m=\u001b[39m rect\u001b[38;5;241m.\u001b[39mwidth()\n\u001b[0;32m--> 840\u001b[0m \u001b[43mrect\u001b[49m\u001b[38;5;241;43m.\u001b[39;49m\u001b[43msetLeft\u001b[49m\u001b[43m(\u001b[49m\u001b[43mwidth\u001b[49m\u001b[43m \u001b[49m\u001b[38;5;241;43m*\u001b[39;49m\u001b[43m \u001b[49m\u001b[38;5;28;43mself\u001b[39;49m\u001b[38;5;241;43m.\u001b[39;49m\u001b[43mclip_min\u001b[49m\u001b[43m)\u001b[49m\n\u001b[1;32m    841\u001b[0m rect\u001b[38;5;241m.\u001b[39msetRight(width \u001b[38;5;241m*\u001b[39m \u001b[38;5;28mself\u001b[39m\u001b[38;5;241m.\u001b[39mclip_max)\n\u001b[1;32m    842\u001b[0m \u001b[38;5;28;01mreturn\u001b[39;00m rect\n",
      "\u001b[0;31mTypeError\u001b[0m: setLeft(self, pos: int): argument 1 has unexpected type 'float'"
     ]
    },
    {
     "ename": "TypeError",
     "evalue": "setLeft(self, pos: int): argument 1 has unexpected type 'float'",
     "output_type": "error",
     "traceback": [
      "\u001b[0;31m---------------------------------------------------------------------------\u001b[0m",
      "\u001b[0;31mTypeError\u001b[0m                                 Traceback (most recent call last)",
      "File \u001b[0;32m~/mambaforge/envs/gpgn-318/lib/python3.11/site-packages/pyrocko/gui/util.py:898\u001b[0m, in \u001b[0;36mColorbarSlider.mouseMoveEvent\u001b[0;34m(self, event)\u001b[0m\n\u001b[1;32m    896\u001b[0m \u001b[38;5;28;01mdef\u001b[39;00m \u001b[38;5;21mmouseMoveEvent\u001b[39m(\u001b[38;5;28mself\u001b[39m, event):\n\u001b[1;32m    897\u001b[0m     \u001b[38;5;124m'\u001b[39m\u001b[38;5;124m'\u001b[39m\n\u001b[0;32m--> 898\u001b[0m     act_rect \u001b[38;5;241m=\u001b[39m \u001b[38;5;28;43mself\u001b[39;49m\u001b[38;5;241;43m.\u001b[39;49m\u001b[43m_get_active_rect\u001b[49m\u001b[43m(\u001b[49m\u001b[43m)\u001b[49m\n\u001b[1;32m    900\u001b[0m     \u001b[38;5;28;01mif\u001b[39;00m \u001b[38;5;129;01mnot\u001b[39;00m \u001b[38;5;28mself\u001b[39m\u001b[38;5;241m.\u001b[39m_component_grabbed:\n\u001b[1;32m    901\u001b[0m         dist_left \u001b[38;5;241m=\u001b[39m \u001b[38;5;28mabs\u001b[39m(event\u001b[38;5;241m.\u001b[39mpos()\u001b[38;5;241m.\u001b[39mx() \u001b[38;5;241m-\u001b[39m act_rect\u001b[38;5;241m.\u001b[39mleft())\n",
      "File \u001b[0;32m~/mambaforge/envs/gpgn-318/lib/python3.11/site-packages/pyrocko/gui/util.py:840\u001b[0m, in \u001b[0;36mColorbarSlider._get_active_rect\u001b[0;34m(self)\u001b[0m\n\u001b[1;32m    838\u001b[0m rect \u001b[38;5;241m=\u001b[39m qc\u001b[38;5;241m.\u001b[39mQRect(\u001b[38;5;28mself\u001b[39m\u001b[38;5;241m.\u001b[39m_window)\n\u001b[1;32m    839\u001b[0m width \u001b[38;5;241m=\u001b[39m rect\u001b[38;5;241m.\u001b[39mwidth()\n\u001b[0;32m--> 840\u001b[0m \u001b[43mrect\u001b[49m\u001b[38;5;241;43m.\u001b[39;49m\u001b[43msetLeft\u001b[49m\u001b[43m(\u001b[49m\u001b[43mwidth\u001b[49m\u001b[43m \u001b[49m\u001b[38;5;241;43m*\u001b[39;49m\u001b[43m \u001b[49m\u001b[38;5;28;43mself\u001b[39;49m\u001b[38;5;241;43m.\u001b[39;49m\u001b[43mclip_min\u001b[49m\u001b[43m)\u001b[49m\n\u001b[1;32m    841\u001b[0m rect\u001b[38;5;241m.\u001b[39msetRight(width \u001b[38;5;241m*\u001b[39m \u001b[38;5;28mself\u001b[39m\u001b[38;5;241m.\u001b[39mclip_max)\n\u001b[1;32m    842\u001b[0m \u001b[38;5;28;01mreturn\u001b[39;00m rect\n",
      "\u001b[0;31mTypeError\u001b[0m: setLeft(self, pos: int): argument 1 has unexpected type 'float'"
     ]
    },
    {
     "ename": "TypeError",
     "evalue": "setLeft(self, pos: int): argument 1 has unexpected type 'float'",
     "output_type": "error",
     "traceback": [
      "\u001b[0;31m---------------------------------------------------------------------------\u001b[0m",
      "\u001b[0;31mTypeError\u001b[0m                                 Traceback (most recent call last)",
      "File \u001b[0;32m~/mambaforge/envs/gpgn-318/lib/python3.11/site-packages/pyrocko/gui/util.py:898\u001b[0m, in \u001b[0;36mColorbarSlider.mouseMoveEvent\u001b[0;34m(self, event)\u001b[0m\n\u001b[1;32m    896\u001b[0m \u001b[38;5;28;01mdef\u001b[39;00m \u001b[38;5;21mmouseMoveEvent\u001b[39m(\u001b[38;5;28mself\u001b[39m, event):\n\u001b[1;32m    897\u001b[0m     \u001b[38;5;124m'\u001b[39m\u001b[38;5;124m'\u001b[39m\n\u001b[0;32m--> 898\u001b[0m     act_rect \u001b[38;5;241m=\u001b[39m \u001b[38;5;28;43mself\u001b[39;49m\u001b[38;5;241;43m.\u001b[39;49m\u001b[43m_get_active_rect\u001b[49m\u001b[43m(\u001b[49m\u001b[43m)\u001b[49m\n\u001b[1;32m    900\u001b[0m     \u001b[38;5;28;01mif\u001b[39;00m \u001b[38;5;129;01mnot\u001b[39;00m \u001b[38;5;28mself\u001b[39m\u001b[38;5;241m.\u001b[39m_component_grabbed:\n\u001b[1;32m    901\u001b[0m         dist_left \u001b[38;5;241m=\u001b[39m \u001b[38;5;28mabs\u001b[39m(event\u001b[38;5;241m.\u001b[39mpos()\u001b[38;5;241m.\u001b[39mx() \u001b[38;5;241m-\u001b[39m act_rect\u001b[38;5;241m.\u001b[39mleft())\n",
      "File \u001b[0;32m~/mambaforge/envs/gpgn-318/lib/python3.11/site-packages/pyrocko/gui/util.py:840\u001b[0m, in \u001b[0;36mColorbarSlider._get_active_rect\u001b[0;34m(self)\u001b[0m\n\u001b[1;32m    838\u001b[0m rect \u001b[38;5;241m=\u001b[39m qc\u001b[38;5;241m.\u001b[39mQRect(\u001b[38;5;28mself\u001b[39m\u001b[38;5;241m.\u001b[39m_window)\n\u001b[1;32m    839\u001b[0m width \u001b[38;5;241m=\u001b[39m rect\u001b[38;5;241m.\u001b[39mwidth()\n\u001b[0;32m--> 840\u001b[0m \u001b[43mrect\u001b[49m\u001b[38;5;241;43m.\u001b[39;49m\u001b[43msetLeft\u001b[49m\u001b[43m(\u001b[49m\u001b[43mwidth\u001b[49m\u001b[43m \u001b[49m\u001b[38;5;241;43m*\u001b[39;49m\u001b[43m \u001b[49m\u001b[38;5;28;43mself\u001b[39;49m\u001b[38;5;241;43m.\u001b[39;49m\u001b[43mclip_min\u001b[49m\u001b[43m)\u001b[49m\n\u001b[1;32m    841\u001b[0m rect\u001b[38;5;241m.\u001b[39msetRight(width \u001b[38;5;241m*\u001b[39m \u001b[38;5;28mself\u001b[39m\u001b[38;5;241m.\u001b[39mclip_max)\n\u001b[1;32m    842\u001b[0m \u001b[38;5;28;01mreturn\u001b[39;00m rect\n",
      "\u001b[0;31mTypeError\u001b[0m: setLeft(self, pos: int): argument 1 has unexpected type 'float'"
     ]
    },
    {
     "ename": "TypeError",
     "evalue": "setLeft(self, pos: int): argument 1 has unexpected type 'float'",
     "output_type": "error",
     "traceback": [
      "\u001b[0;31m---------------------------------------------------------------------------\u001b[0m",
      "\u001b[0;31mTypeError\u001b[0m                                 Traceback (most recent call last)",
      "File \u001b[0;32m~/mambaforge/envs/gpgn-318/lib/python3.11/site-packages/pyrocko/gui/util.py:898\u001b[0m, in \u001b[0;36mColorbarSlider.mouseMoveEvent\u001b[0;34m(self, event)\u001b[0m\n\u001b[1;32m    896\u001b[0m \u001b[38;5;28;01mdef\u001b[39;00m \u001b[38;5;21mmouseMoveEvent\u001b[39m(\u001b[38;5;28mself\u001b[39m, event):\n\u001b[1;32m    897\u001b[0m     \u001b[38;5;124m'\u001b[39m\u001b[38;5;124m'\u001b[39m\n\u001b[0;32m--> 898\u001b[0m     act_rect \u001b[38;5;241m=\u001b[39m \u001b[38;5;28;43mself\u001b[39;49m\u001b[38;5;241;43m.\u001b[39;49m\u001b[43m_get_active_rect\u001b[49m\u001b[43m(\u001b[49m\u001b[43m)\u001b[49m\n\u001b[1;32m    900\u001b[0m     \u001b[38;5;28;01mif\u001b[39;00m \u001b[38;5;129;01mnot\u001b[39;00m \u001b[38;5;28mself\u001b[39m\u001b[38;5;241m.\u001b[39m_component_grabbed:\n\u001b[1;32m    901\u001b[0m         dist_left \u001b[38;5;241m=\u001b[39m \u001b[38;5;28mabs\u001b[39m(event\u001b[38;5;241m.\u001b[39mpos()\u001b[38;5;241m.\u001b[39mx() \u001b[38;5;241m-\u001b[39m act_rect\u001b[38;5;241m.\u001b[39mleft())\n",
      "File \u001b[0;32m~/mambaforge/envs/gpgn-318/lib/python3.11/site-packages/pyrocko/gui/util.py:840\u001b[0m, in \u001b[0;36mColorbarSlider._get_active_rect\u001b[0;34m(self)\u001b[0m\n\u001b[1;32m    838\u001b[0m rect \u001b[38;5;241m=\u001b[39m qc\u001b[38;5;241m.\u001b[39mQRect(\u001b[38;5;28mself\u001b[39m\u001b[38;5;241m.\u001b[39m_window)\n\u001b[1;32m    839\u001b[0m width \u001b[38;5;241m=\u001b[39m rect\u001b[38;5;241m.\u001b[39mwidth()\n\u001b[0;32m--> 840\u001b[0m \u001b[43mrect\u001b[49m\u001b[38;5;241;43m.\u001b[39;49m\u001b[43msetLeft\u001b[49m\u001b[43m(\u001b[49m\u001b[43mwidth\u001b[49m\u001b[43m \u001b[49m\u001b[38;5;241;43m*\u001b[39;49m\u001b[43m \u001b[49m\u001b[38;5;28;43mself\u001b[39;49m\u001b[38;5;241;43m.\u001b[39;49m\u001b[43mclip_min\u001b[49m\u001b[43m)\u001b[49m\n\u001b[1;32m    841\u001b[0m rect\u001b[38;5;241m.\u001b[39msetRight(width \u001b[38;5;241m*\u001b[39m \u001b[38;5;28mself\u001b[39m\u001b[38;5;241m.\u001b[39mclip_max)\n\u001b[1;32m    842\u001b[0m \u001b[38;5;28;01mreturn\u001b[39;00m rect\n",
      "\u001b[0;31mTypeError\u001b[0m: setLeft(self, pos: int): argument 1 has unexpected type 'float'"
     ]
    },
    {
     "name": "stderr",
     "output_type": "stream",
     "text": [
      "QPainter::begin: A paint device can only be painted by one painter at a time.\n",
      "QPainter::setCompositionMode: Painter not active\n"
     ]
    },
    {
     "ename": "TypeError",
     "evalue": "setLeft(self, pos: int): argument 1 has unexpected type 'float'",
     "output_type": "error",
     "traceback": [
      "\u001b[0;31m---------------------------------------------------------------------------\u001b[0m",
      "\u001b[0;31mTypeError\u001b[0m                                 Traceback (most recent call last)",
      "File \u001b[0;32m~/mambaforge/envs/gpgn-318/lib/python3.11/site-packages/pyrocko/gui/util.py:948\u001b[0m, in \u001b[0;36mColorbarSlider.paintEvent\u001b[0;34m(self, e)\u001b[0m\n\u001b[1;32m    942\u001b[0m \u001b[38;5;28mself\u001b[39m\u001b[38;5;241m.\u001b[39m_set_window(p\u001b[38;5;241m.\u001b[39mwindow())\n\u001b[1;32m    944\u001b[0m p\u001b[38;5;241m.\u001b[39mdrawImage(\n\u001b[1;32m    945\u001b[0m     p\u001b[38;5;241m.\u001b[39mwindow(),\n\u001b[1;32m    946\u001b[0m     get_colormap_qimage(\u001b[38;5;28mself\u001b[39m\u001b[38;5;241m.\u001b[39mcmap_name, \u001b[38;5;28mself\u001b[39m\u001b[38;5;241m.\u001b[39mclip_min, \u001b[38;5;28mself\u001b[39m\u001b[38;5;241m.\u001b[39mclip_max))\n\u001b[0;32m--> 948\u001b[0m left_line \u001b[38;5;241m=\u001b[39m \u001b[38;5;28;43mself\u001b[39;49m\u001b[38;5;241;43m.\u001b[39;49m\u001b[43m_get_left_line\u001b[49m\u001b[43m(\u001b[49m\u001b[43m)\u001b[49m\n\u001b[1;32m    949\u001b[0m right_line \u001b[38;5;241m=\u001b[39m \u001b[38;5;28mself\u001b[39m\u001b[38;5;241m.\u001b[39m_get_right_line()\n\u001b[1;32m    951\u001b[0m pen \u001b[38;5;241m=\u001b[39m qg\u001b[38;5;241m.\u001b[39mQPen()\n",
      "File \u001b[0;32m~/mambaforge/envs/gpgn-318/lib/python3.11/site-packages/pyrocko/gui/util.py:824\u001b[0m, in \u001b[0;36mColorbarSlider._get_left_line\u001b[0;34m(self)\u001b[0m\n\u001b[1;32m    823\u001b[0m \u001b[38;5;28;01mdef\u001b[39;00m \u001b[38;5;21m_get_left_line\u001b[39m(\u001b[38;5;28mself\u001b[39m):\n\u001b[0;32m--> 824\u001b[0m     rect \u001b[38;5;241m=\u001b[39m \u001b[38;5;28;43mself\u001b[39;49m\u001b[38;5;241;43m.\u001b[39;49m\u001b[43m_get_active_rect\u001b[49m\u001b[43m(\u001b[49m\u001b[43m)\u001b[49m\n\u001b[1;32m    825\u001b[0m     \u001b[38;5;28;01mif\u001b[39;00m \u001b[38;5;129;01mnot\u001b[39;00m rect:\n\u001b[1;32m    826\u001b[0m         \u001b[38;5;28;01mreturn\u001b[39;00m\n",
      "File \u001b[0;32m~/mambaforge/envs/gpgn-318/lib/python3.11/site-packages/pyrocko/gui/util.py:840\u001b[0m, in \u001b[0;36mColorbarSlider._get_active_rect\u001b[0;34m(self)\u001b[0m\n\u001b[1;32m    838\u001b[0m rect \u001b[38;5;241m=\u001b[39m qc\u001b[38;5;241m.\u001b[39mQRect(\u001b[38;5;28mself\u001b[39m\u001b[38;5;241m.\u001b[39m_window)\n\u001b[1;32m    839\u001b[0m width \u001b[38;5;241m=\u001b[39m rect\u001b[38;5;241m.\u001b[39mwidth()\n\u001b[0;32m--> 840\u001b[0m \u001b[43mrect\u001b[49m\u001b[38;5;241;43m.\u001b[39;49m\u001b[43msetLeft\u001b[49m\u001b[43m(\u001b[49m\u001b[43mwidth\u001b[49m\u001b[43m \u001b[49m\u001b[38;5;241;43m*\u001b[39;49m\u001b[43m \u001b[49m\u001b[38;5;28;43mself\u001b[39;49m\u001b[38;5;241;43m.\u001b[39;49m\u001b[43mclip_min\u001b[49m\u001b[43m)\u001b[49m\n\u001b[1;32m    841\u001b[0m rect\u001b[38;5;241m.\u001b[39msetRight(width \u001b[38;5;241m*\u001b[39m \u001b[38;5;28mself\u001b[39m\u001b[38;5;241m.\u001b[39mclip_max)\n\u001b[1;32m    842\u001b[0m \u001b[38;5;28;01mreturn\u001b[39;00m rect\n",
      "\u001b[0;31mTypeError\u001b[0m: setLeft(self, pos: int): argument 1 has unexpected type 'float'"
     ]
    },
    {
     "name": "stderr",
     "output_type": "stream",
     "text": [
      "QBackingStore::endPaint() called with active painter; did you forget to destroy it or call QPainter::end() on it?\n",
      "QPainter::begin: A paint device can only be painted by one painter at a time.\n",
      "QPainter::setCompositionMode: Painter not active\n"
     ]
    },
    {
     "ename": "TypeError",
     "evalue": "setLeft(self, pos: int): argument 1 has unexpected type 'float'",
     "output_type": "error",
     "traceback": [
      "\u001b[0;31m---------------------------------------------------------------------------\u001b[0m",
      "\u001b[0;31mTypeError\u001b[0m                                 Traceback (most recent call last)",
      "File \u001b[0;32m~/mambaforge/envs/gpgn-318/lib/python3.11/site-packages/pyrocko/gui/util.py:948\u001b[0m, in \u001b[0;36mColorbarSlider.paintEvent\u001b[0;34m(self, e)\u001b[0m\n\u001b[1;32m    942\u001b[0m \u001b[38;5;28mself\u001b[39m\u001b[38;5;241m.\u001b[39m_set_window(p\u001b[38;5;241m.\u001b[39mwindow())\n\u001b[1;32m    944\u001b[0m p\u001b[38;5;241m.\u001b[39mdrawImage(\n\u001b[1;32m    945\u001b[0m     p\u001b[38;5;241m.\u001b[39mwindow(),\n\u001b[1;32m    946\u001b[0m     get_colormap_qimage(\u001b[38;5;28mself\u001b[39m\u001b[38;5;241m.\u001b[39mcmap_name, \u001b[38;5;28mself\u001b[39m\u001b[38;5;241m.\u001b[39mclip_min, \u001b[38;5;28mself\u001b[39m\u001b[38;5;241m.\u001b[39mclip_max))\n\u001b[0;32m--> 948\u001b[0m left_line \u001b[38;5;241m=\u001b[39m \u001b[38;5;28;43mself\u001b[39;49m\u001b[38;5;241;43m.\u001b[39;49m\u001b[43m_get_left_line\u001b[49m\u001b[43m(\u001b[49m\u001b[43m)\u001b[49m\n\u001b[1;32m    949\u001b[0m right_line \u001b[38;5;241m=\u001b[39m \u001b[38;5;28mself\u001b[39m\u001b[38;5;241m.\u001b[39m_get_right_line()\n\u001b[1;32m    951\u001b[0m pen \u001b[38;5;241m=\u001b[39m qg\u001b[38;5;241m.\u001b[39mQPen()\n",
      "File \u001b[0;32m~/mambaforge/envs/gpgn-318/lib/python3.11/site-packages/pyrocko/gui/util.py:824\u001b[0m, in \u001b[0;36mColorbarSlider._get_left_line\u001b[0;34m(self)\u001b[0m\n\u001b[1;32m    823\u001b[0m \u001b[38;5;28;01mdef\u001b[39;00m \u001b[38;5;21m_get_left_line\u001b[39m(\u001b[38;5;28mself\u001b[39m):\n\u001b[0;32m--> 824\u001b[0m     rect \u001b[38;5;241m=\u001b[39m \u001b[38;5;28;43mself\u001b[39;49m\u001b[38;5;241;43m.\u001b[39;49m\u001b[43m_get_active_rect\u001b[49m\u001b[43m(\u001b[49m\u001b[43m)\u001b[49m\n\u001b[1;32m    825\u001b[0m     \u001b[38;5;28;01mif\u001b[39;00m \u001b[38;5;129;01mnot\u001b[39;00m rect:\n\u001b[1;32m    826\u001b[0m         \u001b[38;5;28;01mreturn\u001b[39;00m\n",
      "File \u001b[0;32m~/mambaforge/envs/gpgn-318/lib/python3.11/site-packages/pyrocko/gui/util.py:840\u001b[0m, in \u001b[0;36mColorbarSlider._get_active_rect\u001b[0;34m(self)\u001b[0m\n\u001b[1;32m    838\u001b[0m rect \u001b[38;5;241m=\u001b[39m qc\u001b[38;5;241m.\u001b[39mQRect(\u001b[38;5;28mself\u001b[39m\u001b[38;5;241m.\u001b[39m_window)\n\u001b[1;32m    839\u001b[0m width \u001b[38;5;241m=\u001b[39m rect\u001b[38;5;241m.\u001b[39mwidth()\n\u001b[0;32m--> 840\u001b[0m \u001b[43mrect\u001b[49m\u001b[38;5;241;43m.\u001b[39;49m\u001b[43msetLeft\u001b[49m\u001b[43m(\u001b[49m\u001b[43mwidth\u001b[49m\u001b[43m \u001b[49m\u001b[38;5;241;43m*\u001b[39;49m\u001b[43m \u001b[49m\u001b[38;5;28;43mself\u001b[39;49m\u001b[38;5;241;43m.\u001b[39;49m\u001b[43mclip_min\u001b[49m\u001b[43m)\u001b[49m\n\u001b[1;32m    841\u001b[0m rect\u001b[38;5;241m.\u001b[39msetRight(width \u001b[38;5;241m*\u001b[39m \u001b[38;5;28mself\u001b[39m\u001b[38;5;241m.\u001b[39mclip_max)\n\u001b[1;32m    842\u001b[0m \u001b[38;5;28;01mreturn\u001b[39;00m rect\n",
      "\u001b[0;31mTypeError\u001b[0m: setLeft(self, pos: int): argument 1 has unexpected type 'float'"
     ]
    },
    {
     "name": "stderr",
     "output_type": "stream",
     "text": [
      "QBackingStore::endPaint() called with active painter; did you forget to destroy it or call QPainter::end() on it?\n"
     ]
    },
    {
     "ename": "TypeError",
     "evalue": "setLeft(self, pos: int): argument 1 has unexpected type 'float'",
     "output_type": "error",
     "traceback": [
      "\u001b[0;31m---------------------------------------------------------------------------\u001b[0m",
      "\u001b[0;31mTypeError\u001b[0m                                 Traceback (most recent call last)",
      "File \u001b[0;32m~/mambaforge/envs/gpgn-318/lib/python3.11/site-packages/pyrocko/gui/util.py:898\u001b[0m, in \u001b[0;36mColorbarSlider.mouseMoveEvent\u001b[0;34m(self, event)\u001b[0m\n\u001b[1;32m    896\u001b[0m \u001b[38;5;28;01mdef\u001b[39;00m \u001b[38;5;21mmouseMoveEvent\u001b[39m(\u001b[38;5;28mself\u001b[39m, event):\n\u001b[1;32m    897\u001b[0m     \u001b[38;5;124m'\u001b[39m\u001b[38;5;124m'\u001b[39m\n\u001b[0;32m--> 898\u001b[0m     act_rect \u001b[38;5;241m=\u001b[39m \u001b[38;5;28;43mself\u001b[39;49m\u001b[38;5;241;43m.\u001b[39;49m\u001b[43m_get_active_rect\u001b[49m\u001b[43m(\u001b[49m\u001b[43m)\u001b[49m\n\u001b[1;32m    900\u001b[0m     \u001b[38;5;28;01mif\u001b[39;00m \u001b[38;5;129;01mnot\u001b[39;00m \u001b[38;5;28mself\u001b[39m\u001b[38;5;241m.\u001b[39m_component_grabbed:\n\u001b[1;32m    901\u001b[0m         dist_left \u001b[38;5;241m=\u001b[39m \u001b[38;5;28mabs\u001b[39m(event\u001b[38;5;241m.\u001b[39mpos()\u001b[38;5;241m.\u001b[39mx() \u001b[38;5;241m-\u001b[39m act_rect\u001b[38;5;241m.\u001b[39mleft())\n",
      "File \u001b[0;32m~/mambaforge/envs/gpgn-318/lib/python3.11/site-packages/pyrocko/gui/util.py:840\u001b[0m, in \u001b[0;36mColorbarSlider._get_active_rect\u001b[0;34m(self)\u001b[0m\n\u001b[1;32m    838\u001b[0m rect \u001b[38;5;241m=\u001b[39m qc\u001b[38;5;241m.\u001b[39mQRect(\u001b[38;5;28mself\u001b[39m\u001b[38;5;241m.\u001b[39m_window)\n\u001b[1;32m    839\u001b[0m width \u001b[38;5;241m=\u001b[39m rect\u001b[38;5;241m.\u001b[39mwidth()\n\u001b[0;32m--> 840\u001b[0m \u001b[43mrect\u001b[49m\u001b[38;5;241;43m.\u001b[39;49m\u001b[43msetLeft\u001b[49m\u001b[43m(\u001b[49m\u001b[43mwidth\u001b[49m\u001b[43m \u001b[49m\u001b[38;5;241;43m*\u001b[39;49m\u001b[43m \u001b[49m\u001b[38;5;28;43mself\u001b[39;49m\u001b[38;5;241;43m.\u001b[39;49m\u001b[43mclip_min\u001b[49m\u001b[43m)\u001b[49m\n\u001b[1;32m    841\u001b[0m rect\u001b[38;5;241m.\u001b[39msetRight(width \u001b[38;5;241m*\u001b[39m \u001b[38;5;28mself\u001b[39m\u001b[38;5;241m.\u001b[39mclip_max)\n\u001b[1;32m    842\u001b[0m \u001b[38;5;28;01mreturn\u001b[39;00m rect\n",
      "\u001b[0;31mTypeError\u001b[0m: setLeft(self, pos: int): argument 1 has unexpected type 'float'"
     ]
    },
    {
     "name": "stderr",
     "output_type": "stream",
     "text": [
      "QPainter::begin: A paint device can only be painted by one painter at a time.\n",
      "QPainter::setCompositionMode: Painter not active\n"
     ]
    },
    {
     "ename": "TypeError",
     "evalue": "setLeft(self, pos: int): argument 1 has unexpected type 'float'",
     "output_type": "error",
     "traceback": [
      "\u001b[0;31m---------------------------------------------------------------------------\u001b[0m",
      "\u001b[0;31mTypeError\u001b[0m                                 Traceback (most recent call last)",
      "File \u001b[0;32m~/mambaforge/envs/gpgn-318/lib/python3.11/site-packages/pyrocko/gui/util.py:948\u001b[0m, in \u001b[0;36mColorbarSlider.paintEvent\u001b[0;34m(self, e)\u001b[0m\n\u001b[1;32m    942\u001b[0m \u001b[38;5;28mself\u001b[39m\u001b[38;5;241m.\u001b[39m_set_window(p\u001b[38;5;241m.\u001b[39mwindow())\n\u001b[1;32m    944\u001b[0m p\u001b[38;5;241m.\u001b[39mdrawImage(\n\u001b[1;32m    945\u001b[0m     p\u001b[38;5;241m.\u001b[39mwindow(),\n\u001b[1;32m    946\u001b[0m     get_colormap_qimage(\u001b[38;5;28mself\u001b[39m\u001b[38;5;241m.\u001b[39mcmap_name, \u001b[38;5;28mself\u001b[39m\u001b[38;5;241m.\u001b[39mclip_min, \u001b[38;5;28mself\u001b[39m\u001b[38;5;241m.\u001b[39mclip_max))\n\u001b[0;32m--> 948\u001b[0m left_line \u001b[38;5;241m=\u001b[39m \u001b[38;5;28;43mself\u001b[39;49m\u001b[38;5;241;43m.\u001b[39;49m\u001b[43m_get_left_line\u001b[49m\u001b[43m(\u001b[49m\u001b[43m)\u001b[49m\n\u001b[1;32m    949\u001b[0m right_line \u001b[38;5;241m=\u001b[39m \u001b[38;5;28mself\u001b[39m\u001b[38;5;241m.\u001b[39m_get_right_line()\n\u001b[1;32m    951\u001b[0m pen \u001b[38;5;241m=\u001b[39m qg\u001b[38;5;241m.\u001b[39mQPen()\n",
      "File \u001b[0;32m~/mambaforge/envs/gpgn-318/lib/python3.11/site-packages/pyrocko/gui/util.py:824\u001b[0m, in \u001b[0;36mColorbarSlider._get_left_line\u001b[0;34m(self)\u001b[0m\n\u001b[1;32m    823\u001b[0m \u001b[38;5;28;01mdef\u001b[39;00m \u001b[38;5;21m_get_left_line\u001b[39m(\u001b[38;5;28mself\u001b[39m):\n\u001b[0;32m--> 824\u001b[0m     rect \u001b[38;5;241m=\u001b[39m \u001b[38;5;28;43mself\u001b[39;49m\u001b[38;5;241;43m.\u001b[39;49m\u001b[43m_get_active_rect\u001b[49m\u001b[43m(\u001b[49m\u001b[43m)\u001b[49m\n\u001b[1;32m    825\u001b[0m     \u001b[38;5;28;01mif\u001b[39;00m \u001b[38;5;129;01mnot\u001b[39;00m rect:\n\u001b[1;32m    826\u001b[0m         \u001b[38;5;28;01mreturn\u001b[39;00m\n",
      "File \u001b[0;32m~/mambaforge/envs/gpgn-318/lib/python3.11/site-packages/pyrocko/gui/util.py:840\u001b[0m, in \u001b[0;36mColorbarSlider._get_active_rect\u001b[0;34m(self)\u001b[0m\n\u001b[1;32m    838\u001b[0m rect \u001b[38;5;241m=\u001b[39m qc\u001b[38;5;241m.\u001b[39mQRect(\u001b[38;5;28mself\u001b[39m\u001b[38;5;241m.\u001b[39m_window)\n\u001b[1;32m    839\u001b[0m width \u001b[38;5;241m=\u001b[39m rect\u001b[38;5;241m.\u001b[39mwidth()\n\u001b[0;32m--> 840\u001b[0m \u001b[43mrect\u001b[49m\u001b[38;5;241;43m.\u001b[39;49m\u001b[43msetLeft\u001b[49m\u001b[43m(\u001b[49m\u001b[43mwidth\u001b[49m\u001b[43m \u001b[49m\u001b[38;5;241;43m*\u001b[39;49m\u001b[43m \u001b[49m\u001b[38;5;28;43mself\u001b[39;49m\u001b[38;5;241;43m.\u001b[39;49m\u001b[43mclip_min\u001b[49m\u001b[43m)\u001b[49m\n\u001b[1;32m    841\u001b[0m rect\u001b[38;5;241m.\u001b[39msetRight(width \u001b[38;5;241m*\u001b[39m \u001b[38;5;28mself\u001b[39m\u001b[38;5;241m.\u001b[39mclip_max)\n\u001b[1;32m    842\u001b[0m \u001b[38;5;28;01mreturn\u001b[39;00m rect\n",
      "\u001b[0;31mTypeError\u001b[0m: setLeft(self, pos: int): argument 1 has unexpected type 'float'"
     ]
    },
    {
     "name": "stderr",
     "output_type": "stream",
     "text": [
      "QBackingStore::endPaint() called with active painter; did you forget to destroy it or call QPainter::end() on it?\n",
      "QPainter::begin: A paint device can only be painted by one painter at a time.\n",
      "QPainter::setCompositionMode: Painter not active\n",
      "QBackingStore::endPaint() called with active painter; did you forget to destroy it or call QPainter::end() on it?\n",
      "QPainter::begin: A paint device can only be painted by one painter at a time.\n",
      "QPainter::setCompositionMode: Painter not active\n",
      "QBackingStore::endPaint() called with active painter; did you forget to destroy it or call QPainter::end() on it?\n",
      "QPainter::begin: A paint device can only be painted by one painter at a time.\n",
      "QPainter::setCompositionMode: Painter not active\n",
      "QBackingStore::endPaint() called with active painter; did you forget to destroy it or call QPainter::end() on it?\n",
      "QPainter::begin: A paint device can only be painted by one painter at a time.\n",
      "QPainter::setCompositionMode: Painter not active\n"
     ]
    },
    {
     "ename": "TypeError",
     "evalue": "setLeft(self, pos: int): argument 1 has unexpected type 'float'",
     "output_type": "error",
     "traceback": [
      "\u001b[0;31m---------------------------------------------------------------------------\u001b[0m",
      "\u001b[0;31mTypeError\u001b[0m                                 Traceback (most recent call last)",
      "File \u001b[0;32m~/mambaforge/envs/gpgn-318/lib/python3.11/site-packages/pyrocko/gui/util.py:948\u001b[0m, in \u001b[0;36mColorbarSlider.paintEvent\u001b[0;34m(self, e)\u001b[0m\n\u001b[1;32m    942\u001b[0m \u001b[38;5;28mself\u001b[39m\u001b[38;5;241m.\u001b[39m_set_window(p\u001b[38;5;241m.\u001b[39mwindow())\n\u001b[1;32m    944\u001b[0m p\u001b[38;5;241m.\u001b[39mdrawImage(\n\u001b[1;32m    945\u001b[0m     p\u001b[38;5;241m.\u001b[39mwindow(),\n\u001b[1;32m    946\u001b[0m     get_colormap_qimage(\u001b[38;5;28mself\u001b[39m\u001b[38;5;241m.\u001b[39mcmap_name, \u001b[38;5;28mself\u001b[39m\u001b[38;5;241m.\u001b[39mclip_min, \u001b[38;5;28mself\u001b[39m\u001b[38;5;241m.\u001b[39mclip_max))\n\u001b[0;32m--> 948\u001b[0m left_line \u001b[38;5;241m=\u001b[39m \u001b[38;5;28;43mself\u001b[39;49m\u001b[38;5;241;43m.\u001b[39;49m\u001b[43m_get_left_line\u001b[49m\u001b[43m(\u001b[49m\u001b[43m)\u001b[49m\n\u001b[1;32m    949\u001b[0m right_line \u001b[38;5;241m=\u001b[39m \u001b[38;5;28mself\u001b[39m\u001b[38;5;241m.\u001b[39m_get_right_line()\n\u001b[1;32m    951\u001b[0m pen \u001b[38;5;241m=\u001b[39m qg\u001b[38;5;241m.\u001b[39mQPen()\n",
      "File \u001b[0;32m~/mambaforge/envs/gpgn-318/lib/python3.11/site-packages/pyrocko/gui/util.py:824\u001b[0m, in \u001b[0;36mColorbarSlider._get_left_line\u001b[0;34m(self)\u001b[0m\n\u001b[1;32m    823\u001b[0m \u001b[38;5;28;01mdef\u001b[39;00m \u001b[38;5;21m_get_left_line\u001b[39m(\u001b[38;5;28mself\u001b[39m):\n\u001b[0;32m--> 824\u001b[0m     rect \u001b[38;5;241m=\u001b[39m \u001b[38;5;28;43mself\u001b[39;49m\u001b[38;5;241;43m.\u001b[39;49m\u001b[43m_get_active_rect\u001b[49m\u001b[43m(\u001b[49m\u001b[43m)\u001b[49m\n\u001b[1;32m    825\u001b[0m     \u001b[38;5;28;01mif\u001b[39;00m \u001b[38;5;129;01mnot\u001b[39;00m rect:\n\u001b[1;32m    826\u001b[0m         \u001b[38;5;28;01mreturn\u001b[39;00m\n",
      "File \u001b[0;32m~/mambaforge/envs/gpgn-318/lib/python3.11/site-packages/pyrocko/gui/util.py:840\u001b[0m, in \u001b[0;36mColorbarSlider._get_active_rect\u001b[0;34m(self)\u001b[0m\n\u001b[1;32m    838\u001b[0m rect \u001b[38;5;241m=\u001b[39m qc\u001b[38;5;241m.\u001b[39mQRect(\u001b[38;5;28mself\u001b[39m\u001b[38;5;241m.\u001b[39m_window)\n\u001b[1;32m    839\u001b[0m width \u001b[38;5;241m=\u001b[39m rect\u001b[38;5;241m.\u001b[39mwidth()\n\u001b[0;32m--> 840\u001b[0m \u001b[43mrect\u001b[49m\u001b[38;5;241;43m.\u001b[39;49m\u001b[43msetLeft\u001b[49m\u001b[43m(\u001b[49m\u001b[43mwidth\u001b[49m\u001b[43m \u001b[49m\u001b[38;5;241;43m*\u001b[39;49m\u001b[43m \u001b[49m\u001b[38;5;28;43mself\u001b[39;49m\u001b[38;5;241;43m.\u001b[39;49m\u001b[43mclip_min\u001b[49m\u001b[43m)\u001b[49m\n\u001b[1;32m    841\u001b[0m rect\u001b[38;5;241m.\u001b[39msetRight(width \u001b[38;5;241m*\u001b[39m \u001b[38;5;28mself\u001b[39m\u001b[38;5;241m.\u001b[39mclip_max)\n\u001b[1;32m    842\u001b[0m \u001b[38;5;28;01mreturn\u001b[39;00m rect\n",
      "\u001b[0;31mTypeError\u001b[0m: setLeft(self, pos: int): argument 1 has unexpected type 'float'"
     ]
    },
    {
     "name": "stderr",
     "output_type": "stream",
     "text": [
      "QBackingStore::endPaint() called with active painter; did you forget to destroy it or call QPainter::end() on it?\n",
      "QPainter::begin: A paint device can only be painted by one painter at a time.\n",
      "QPainter::setCompositionMode: Painter not active\n",
      "QBackingStore::endPaint() called with active painter; did you forget to destroy it or call QPainter::end() on it?\n",
      "QPainter::begin: A paint device can only be painted by one painter at a time.\n",
      "QPainter::setCompositionMode: Painter not active\n",
      "QBackingStore::endPaint() called with active painter; did you forget to destroy it or call QPainter::end() on it?\n",
      "QPainter::begin: A paint device can only be painted by one painter at a time.\n",
      "QPainter::setCompositionMode: Painter not active\n"
     ]
    },
    {
     "ename": "TypeError",
     "evalue": "setLeft(self, pos: int): argument 1 has unexpected type 'float'",
     "output_type": "error",
     "traceback": [
      "\u001b[0;31m---------------------------------------------------------------------------\u001b[0m",
      "\u001b[0;31mTypeError\u001b[0m                                 Traceback (most recent call last)",
      "File \u001b[0;32m~/mambaforge/envs/gpgn-318/lib/python3.11/site-packages/pyrocko/gui/util.py:948\u001b[0m, in \u001b[0;36mColorbarSlider.paintEvent\u001b[0;34m(self, e)\u001b[0m\n\u001b[1;32m    942\u001b[0m \u001b[38;5;28mself\u001b[39m\u001b[38;5;241m.\u001b[39m_set_window(p\u001b[38;5;241m.\u001b[39mwindow())\n\u001b[1;32m    944\u001b[0m p\u001b[38;5;241m.\u001b[39mdrawImage(\n\u001b[1;32m    945\u001b[0m     p\u001b[38;5;241m.\u001b[39mwindow(),\n\u001b[1;32m    946\u001b[0m     get_colormap_qimage(\u001b[38;5;28mself\u001b[39m\u001b[38;5;241m.\u001b[39mcmap_name, \u001b[38;5;28mself\u001b[39m\u001b[38;5;241m.\u001b[39mclip_min, \u001b[38;5;28mself\u001b[39m\u001b[38;5;241m.\u001b[39mclip_max))\n\u001b[0;32m--> 948\u001b[0m left_line \u001b[38;5;241m=\u001b[39m \u001b[38;5;28;43mself\u001b[39;49m\u001b[38;5;241;43m.\u001b[39;49m\u001b[43m_get_left_line\u001b[49m\u001b[43m(\u001b[49m\u001b[43m)\u001b[49m\n\u001b[1;32m    949\u001b[0m right_line \u001b[38;5;241m=\u001b[39m \u001b[38;5;28mself\u001b[39m\u001b[38;5;241m.\u001b[39m_get_right_line()\n\u001b[1;32m    951\u001b[0m pen \u001b[38;5;241m=\u001b[39m qg\u001b[38;5;241m.\u001b[39mQPen()\n",
      "File \u001b[0;32m~/mambaforge/envs/gpgn-318/lib/python3.11/site-packages/pyrocko/gui/util.py:824\u001b[0m, in \u001b[0;36mColorbarSlider._get_left_line\u001b[0;34m(self)\u001b[0m\n\u001b[1;32m    823\u001b[0m \u001b[38;5;28;01mdef\u001b[39;00m \u001b[38;5;21m_get_left_line\u001b[39m(\u001b[38;5;28mself\u001b[39m):\n\u001b[0;32m--> 824\u001b[0m     rect \u001b[38;5;241m=\u001b[39m \u001b[38;5;28;43mself\u001b[39;49m\u001b[38;5;241;43m.\u001b[39;49m\u001b[43m_get_active_rect\u001b[49m\u001b[43m(\u001b[49m\u001b[43m)\u001b[49m\n\u001b[1;32m    825\u001b[0m     \u001b[38;5;28;01mif\u001b[39;00m \u001b[38;5;129;01mnot\u001b[39;00m rect:\n\u001b[1;32m    826\u001b[0m         \u001b[38;5;28;01mreturn\u001b[39;00m\n",
      "File \u001b[0;32m~/mambaforge/envs/gpgn-318/lib/python3.11/site-packages/pyrocko/gui/util.py:840\u001b[0m, in \u001b[0;36mColorbarSlider._get_active_rect\u001b[0;34m(self)\u001b[0m\n\u001b[1;32m    838\u001b[0m rect \u001b[38;5;241m=\u001b[39m qc\u001b[38;5;241m.\u001b[39mQRect(\u001b[38;5;28mself\u001b[39m\u001b[38;5;241m.\u001b[39m_window)\n\u001b[1;32m    839\u001b[0m width \u001b[38;5;241m=\u001b[39m rect\u001b[38;5;241m.\u001b[39mwidth()\n\u001b[0;32m--> 840\u001b[0m \u001b[43mrect\u001b[49m\u001b[38;5;241;43m.\u001b[39;49m\u001b[43msetLeft\u001b[49m\u001b[43m(\u001b[49m\u001b[43mwidth\u001b[49m\u001b[43m \u001b[49m\u001b[38;5;241;43m*\u001b[39;49m\u001b[43m \u001b[49m\u001b[38;5;28;43mself\u001b[39;49m\u001b[38;5;241;43m.\u001b[39;49m\u001b[43mclip_min\u001b[49m\u001b[43m)\u001b[49m\n\u001b[1;32m    841\u001b[0m rect\u001b[38;5;241m.\u001b[39msetRight(width \u001b[38;5;241m*\u001b[39m \u001b[38;5;28mself\u001b[39m\u001b[38;5;241m.\u001b[39mclip_max)\n\u001b[1;32m    842\u001b[0m \u001b[38;5;28;01mreturn\u001b[39;00m rect\n",
      "\u001b[0;31mTypeError\u001b[0m: setLeft(self, pos: int): argument 1 has unexpected type 'float'"
     ]
    },
    {
     "name": "stderr",
     "output_type": "stream",
     "text": [
      "QBackingStore::endPaint() called with active painter; did you forget to destroy it or call QPainter::end() on it?\n",
      "QPainter::begin: A paint device can only be painted by one painter at a time.\n",
      "QPainter::setCompositionMode: Painter not active\n",
      "QBackingStore::endPaint() called with active painter; did you forget to destroy it or call QPainter::end() on it?\n",
      "QPainter::begin: A paint device can only be painted by one painter at a time.\n",
      "QPainter::setCompositionMode: Painter not active\n",
      "QBackingStore::endPaint() called with active painter; did you forget to destroy it or call QPainter::end() on it?\n",
      "QPainter::begin: A paint device can only be painted by one painter at a time.\n",
      "QPainter::setCompositionMode: Painter not active\n",
      "QBackingStore::endPaint() called with active painter; did you forget to destroy it or call QPainter::end() on it?\n",
      "QPainter::begin: A paint device can only be painted by one painter at a time.\n",
      "QPainter::setCompositionMode: Painter not active\n",
      "QBackingStore::endPaint() called with active painter; did you forget to destroy it or call QPainter::end() on it?\n",
      "QPainter::begin: A paint device can only be painted by one painter at a time.\n",
      "QPainter::setCompositionMode: Painter not active\n"
     ]
    },
    {
     "ename": "TypeError",
     "evalue": "setLeft(self, pos: int): argument 1 has unexpected type 'float'",
     "output_type": "error",
     "traceback": [
      "\u001b[0;31m---------------------------------------------------------------------------\u001b[0m",
      "\u001b[0;31mTypeError\u001b[0m                                 Traceback (most recent call last)",
      "File \u001b[0;32m~/mambaforge/envs/gpgn-318/lib/python3.11/site-packages/pyrocko/gui/util.py:948\u001b[0m, in \u001b[0;36mColorbarSlider.paintEvent\u001b[0;34m(self, e)\u001b[0m\n\u001b[1;32m    942\u001b[0m \u001b[38;5;28mself\u001b[39m\u001b[38;5;241m.\u001b[39m_set_window(p\u001b[38;5;241m.\u001b[39mwindow())\n\u001b[1;32m    944\u001b[0m p\u001b[38;5;241m.\u001b[39mdrawImage(\n\u001b[1;32m    945\u001b[0m     p\u001b[38;5;241m.\u001b[39mwindow(),\n\u001b[1;32m    946\u001b[0m     get_colormap_qimage(\u001b[38;5;28mself\u001b[39m\u001b[38;5;241m.\u001b[39mcmap_name, \u001b[38;5;28mself\u001b[39m\u001b[38;5;241m.\u001b[39mclip_min, \u001b[38;5;28mself\u001b[39m\u001b[38;5;241m.\u001b[39mclip_max))\n\u001b[0;32m--> 948\u001b[0m left_line \u001b[38;5;241m=\u001b[39m \u001b[38;5;28;43mself\u001b[39;49m\u001b[38;5;241;43m.\u001b[39;49m\u001b[43m_get_left_line\u001b[49m\u001b[43m(\u001b[49m\u001b[43m)\u001b[49m\n\u001b[1;32m    949\u001b[0m right_line \u001b[38;5;241m=\u001b[39m \u001b[38;5;28mself\u001b[39m\u001b[38;5;241m.\u001b[39m_get_right_line()\n\u001b[1;32m    951\u001b[0m pen \u001b[38;5;241m=\u001b[39m qg\u001b[38;5;241m.\u001b[39mQPen()\n",
      "File \u001b[0;32m~/mambaforge/envs/gpgn-318/lib/python3.11/site-packages/pyrocko/gui/util.py:824\u001b[0m, in \u001b[0;36mColorbarSlider._get_left_line\u001b[0;34m(self)\u001b[0m\n\u001b[1;32m    823\u001b[0m \u001b[38;5;28;01mdef\u001b[39;00m \u001b[38;5;21m_get_left_line\u001b[39m(\u001b[38;5;28mself\u001b[39m):\n\u001b[0;32m--> 824\u001b[0m     rect \u001b[38;5;241m=\u001b[39m \u001b[38;5;28;43mself\u001b[39;49m\u001b[38;5;241;43m.\u001b[39;49m\u001b[43m_get_active_rect\u001b[49m\u001b[43m(\u001b[49m\u001b[43m)\u001b[49m\n\u001b[1;32m    825\u001b[0m     \u001b[38;5;28;01mif\u001b[39;00m \u001b[38;5;129;01mnot\u001b[39;00m rect:\n\u001b[1;32m    826\u001b[0m         \u001b[38;5;28;01mreturn\u001b[39;00m\n",
      "File \u001b[0;32m~/mambaforge/envs/gpgn-318/lib/python3.11/site-packages/pyrocko/gui/util.py:840\u001b[0m, in \u001b[0;36mColorbarSlider._get_active_rect\u001b[0;34m(self)\u001b[0m\n\u001b[1;32m    838\u001b[0m rect \u001b[38;5;241m=\u001b[39m qc\u001b[38;5;241m.\u001b[39mQRect(\u001b[38;5;28mself\u001b[39m\u001b[38;5;241m.\u001b[39m_window)\n\u001b[1;32m    839\u001b[0m width \u001b[38;5;241m=\u001b[39m rect\u001b[38;5;241m.\u001b[39mwidth()\n\u001b[0;32m--> 840\u001b[0m \u001b[43mrect\u001b[49m\u001b[38;5;241;43m.\u001b[39;49m\u001b[43msetLeft\u001b[49m\u001b[43m(\u001b[49m\u001b[43mwidth\u001b[49m\u001b[43m \u001b[49m\u001b[38;5;241;43m*\u001b[39;49m\u001b[43m \u001b[49m\u001b[38;5;28;43mself\u001b[39;49m\u001b[38;5;241;43m.\u001b[39;49m\u001b[43mclip_min\u001b[49m\u001b[43m)\u001b[49m\n\u001b[1;32m    841\u001b[0m rect\u001b[38;5;241m.\u001b[39msetRight(width \u001b[38;5;241m*\u001b[39m \u001b[38;5;28mself\u001b[39m\u001b[38;5;241m.\u001b[39mclip_max)\n\u001b[1;32m    842\u001b[0m \u001b[38;5;28;01mreturn\u001b[39;00m rect\n",
      "\u001b[0;31mTypeError\u001b[0m: setLeft(self, pos: int): argument 1 has unexpected type 'float'"
     ]
    },
    {
     "name": "stderr",
     "output_type": "stream",
     "text": [
      "QBackingStore::endPaint() called with active painter; did you forget to destroy it or call QPainter::end() on it?\n",
      "QPainter::begin: A paint device can only be painted by one painter at a time.\n",
      "QPainter::setCompositionMode: Painter not active\n",
      "QBackingStore::endPaint() called with active painter; did you forget to destroy it or call QPainter::end() on it?\n",
      "QPainter::begin: A paint device can only be painted by one painter at a time.\n",
      "QPainter::setCompositionMode: Painter not active\n",
      "QBackingStore::endPaint() called with active painter; did you forget to destroy it or call QPainter::end() on it?\n",
      "QPainter::begin: A paint device can only be painted by one painter at a time.\n",
      "QPainter::setCompositionMode: Painter not active\n",
      "QBackingStore::endPaint() called with active painter; did you forget to destroy it or call QPainter::end() on it?\n",
      "QPainter::begin: A paint device can only be painted by one painter at a time.\n",
      "QPainter::setCompositionMode: Painter not active\n",
      "QBackingStore::endPaint() called with active painter; did you forget to destroy it or call QPainter::end() on it?\n",
      "QPainter::begin: A paint device can only be painted by one painter at a time.\n",
      "QPainter::setCompositionMode: Painter not active\n",
      "QBackingStore::endPaint() called with active painter; did you forget to destroy it or call QPainter::end() on it?\n",
      "QPainter::begin: A paint device can only be painted by one painter at a time.\n",
      "QPainter::setCompositionMode: Painter not active\n",
      "QBackingStore::endPaint() called with active painter; did you forget to destroy it or call QPainter::end() on it?\n",
      "QPainter::begin: A paint device can only be painted by one painter at a time.\n",
      "QPainter::setCompositionMode: Painter not active\n",
      "QBackingStore::endPaint() called with active painter; did you forget to destroy it or call QPainter::end() on it?\n",
      "QPainter::begin: A paint device can only be painted by one painter at a time.\n",
      "QPainter::setCompositionMode: Painter not active\n",
      "QBackingStore::endPaint() called with active painter; did you forget to destroy it or call QPainter::end() on it?\n",
      "QPainter::begin: A paint device can only be painted by one painter at a time.\n",
      "QPainter::setCompositionMode: Painter not active\n",
      "QBackingStore::endPaint() called with active painter; did you forget to destroy it or call QPainter::end() on it?\n",
      "QPainter::begin: A paint device can only be painted by one painter at a time.\n",
      "QPainter::setCompositionMode: Painter not active\n",
      "QBackingStore::endPaint() called with active painter; did you forget to destroy it or call QPainter::end() on it?\n",
      "QPainter::begin: A paint device can only be painted by one painter at a time.\n",
      "QPainter::setCompositionMode: Painter not active\n",
      "QBackingStore::endPaint() called with active painter; did you forget to destroy it or call QPainter::end() on it?\n",
      "QPainter::begin: A paint device can only be painted by one painter at a time.\n",
      "QPainter::setCompositionMode: Painter not active\n",
      "QBackingStore::endPaint() called with active painter; did you forget to destroy it or call QPainter::end() on it?\n",
      "QPainter::begin: A paint device can only be painted by one painter at a time.\n",
      "QPainter::setCompositionMode: Painter not active\n",
      "QBackingStore::endPaint() called with active painter; did you forget to destroy it or call QPainter::end() on it?\n",
      "QPainter::begin: A paint device can only be painted by one painter at a time.\n",
      "QPainter::setCompositionMode: Painter not active\n",
      "QBackingStore::endPaint() called with active painter; did you forget to destroy it or call QPainter::end() on it?\n",
      "QPainter::begin: A paint device can only be painted by one painter at a time.\n",
      "QPainter::setCompositionMode: Painter not active\n",
      "QBackingStore::endPaint() called with active painter; did you forget to destroy it or call QPainter::end() on it?\n",
      "QPainter::begin: A paint device can only be painted by one painter at a time.\n",
      "QPainter::setCompositionMode: Painter not active\n",
      "QBackingStore::endPaint() called with active painter; did you forget to destroy it or call QPainter::end() on it?\n",
      "QPainter::begin: A paint device can only be painted by one painter at a time.\n",
      "QPainter::setCompositionMode: Painter not active\n",
      "QBackingStore::endPaint() called with active painter; did you forget to destroy it or call QPainter::end() on it?\n",
      "QPainter::begin: A paint device can only be painted by one painter at a time.\n",
      "QPainter::setCompositionMode: Painter not active\n",
      "QBackingStore::endPaint() called with active painter; did you forget to destroy it or call QPainter::end() on it?\n",
      "QPainter::begin: A paint device can only be painted by one painter at a time.\n",
      "QPainter::setCompositionMode: Painter not active\n",
      "QBackingStore::endPaint() called with active painter; did you forget to destroy it or call QPainter::end() on it?\n",
      "QPainter::begin: A paint device can only be painted by one painter at a time.\n",
      "QPainter::setCompositionMode: Painter not active\n",
      "QBackingStore::endPaint() called with active painter; did you forget to destroy it or call QPainter::end() on it?\n",
      "QPainter::begin: A paint device can only be painted by one painter at a time.\n",
      "QPainter::setCompositionMode: Painter not active\n",
      "QBackingStore::endPaint() called with active painter; did you forget to destroy it or call QPainter::end() on it?\n",
      "QPainter::begin: A paint device can only be painted by one painter at a time.\n",
      "QPainter::setCompositionMode: Painter not active\n",
      "QBackingStore::endPaint() called with active painter; did you forget to destroy it or call QPainter::end() on it?\n",
      "QPainter::begin: A paint device can only be painted by one painter at a time.\n",
      "QPainter::setCompositionMode: Painter not active\n",
      "QBackingStore::endPaint() called with active painter; did you forget to destroy it or call QPainter::end() on it?\n",
      "QPainter::begin: A paint device can only be painted by one painter at a time.\n",
      "QPainter::setCompositionMode: Painter not active\n",
      "QBackingStore::endPaint() called with active painter; did you forget to destroy it or call QPainter::end() on it?\n",
      "QPainter::begin: A paint device can only be painted by one painter at a time.\n",
      "QPainter::setCompositionMode: Painter not active\n",
      "QBackingStore::endPaint() called with active painter; did you forget to destroy it or call QPainter::end() on it?\n",
      "QPainter::begin: A paint device can only be painted by one painter at a time.\n",
      "QPainter::setCompositionMode: Painter not active\n",
      "QBackingStore::endPaint() called with active painter; did you forget to destroy it or call QPainter::end() on it?\n",
      "QPainter::begin: A paint device can only be painted by one painter at a time.\n",
      "QPainter::setCompositionMode: Painter not active\n",
      "QBackingStore::endPaint() called with active painter; did you forget to destroy it or call QPainter::end() on it?\n",
      "QPainter::begin: A paint device can only be painted by one painter at a time.\n",
      "QPainter::setCompositionMode: Painter not active\n",
      "QBackingStore::endPaint() called with active painter; did you forget to destroy it or call QPainter::end() on it?\n",
      "QPainter::begin: A paint device can only be painted by one painter at a time.\n",
      "QPainter::setCompositionMode: Painter not active\n"
     ]
    },
    {
     "ename": "TypeError",
     "evalue": "setLeft(self, pos: int): argument 1 has unexpected type 'float'",
     "output_type": "error",
     "traceback": [
      "\u001b[0;31m---------------------------------------------------------------------------\u001b[0m",
      "\u001b[0;31mTypeError\u001b[0m                                 Traceback (most recent call last)",
      "File \u001b[0;32m~/mambaforge/envs/gpgn-318/lib/python3.11/site-packages/pyrocko/gui/util.py:948\u001b[0m, in \u001b[0;36mColorbarSlider.paintEvent\u001b[0;34m(self, e)\u001b[0m\n\u001b[1;32m    942\u001b[0m \u001b[38;5;28mself\u001b[39m\u001b[38;5;241m.\u001b[39m_set_window(p\u001b[38;5;241m.\u001b[39mwindow())\n\u001b[1;32m    944\u001b[0m p\u001b[38;5;241m.\u001b[39mdrawImage(\n\u001b[1;32m    945\u001b[0m     p\u001b[38;5;241m.\u001b[39mwindow(),\n\u001b[1;32m    946\u001b[0m     get_colormap_qimage(\u001b[38;5;28mself\u001b[39m\u001b[38;5;241m.\u001b[39mcmap_name, \u001b[38;5;28mself\u001b[39m\u001b[38;5;241m.\u001b[39mclip_min, \u001b[38;5;28mself\u001b[39m\u001b[38;5;241m.\u001b[39mclip_max))\n\u001b[0;32m--> 948\u001b[0m left_line \u001b[38;5;241m=\u001b[39m \u001b[38;5;28;43mself\u001b[39;49m\u001b[38;5;241;43m.\u001b[39;49m\u001b[43m_get_left_line\u001b[49m\u001b[43m(\u001b[49m\u001b[43m)\u001b[49m\n\u001b[1;32m    949\u001b[0m right_line \u001b[38;5;241m=\u001b[39m \u001b[38;5;28mself\u001b[39m\u001b[38;5;241m.\u001b[39m_get_right_line()\n\u001b[1;32m    951\u001b[0m pen \u001b[38;5;241m=\u001b[39m qg\u001b[38;5;241m.\u001b[39mQPen()\n",
      "File \u001b[0;32m~/mambaforge/envs/gpgn-318/lib/python3.11/site-packages/pyrocko/gui/util.py:824\u001b[0m, in \u001b[0;36mColorbarSlider._get_left_line\u001b[0;34m(self)\u001b[0m\n\u001b[1;32m    823\u001b[0m \u001b[38;5;28;01mdef\u001b[39;00m \u001b[38;5;21m_get_left_line\u001b[39m(\u001b[38;5;28mself\u001b[39m):\n\u001b[0;32m--> 824\u001b[0m     rect \u001b[38;5;241m=\u001b[39m \u001b[38;5;28;43mself\u001b[39;49m\u001b[38;5;241;43m.\u001b[39;49m\u001b[43m_get_active_rect\u001b[49m\u001b[43m(\u001b[49m\u001b[43m)\u001b[49m\n\u001b[1;32m    825\u001b[0m     \u001b[38;5;28;01mif\u001b[39;00m \u001b[38;5;129;01mnot\u001b[39;00m rect:\n\u001b[1;32m    826\u001b[0m         \u001b[38;5;28;01mreturn\u001b[39;00m\n",
      "File \u001b[0;32m~/mambaforge/envs/gpgn-318/lib/python3.11/site-packages/pyrocko/gui/util.py:840\u001b[0m, in \u001b[0;36mColorbarSlider._get_active_rect\u001b[0;34m(self)\u001b[0m\n\u001b[1;32m    838\u001b[0m rect \u001b[38;5;241m=\u001b[39m qc\u001b[38;5;241m.\u001b[39mQRect(\u001b[38;5;28mself\u001b[39m\u001b[38;5;241m.\u001b[39m_window)\n\u001b[1;32m    839\u001b[0m width \u001b[38;5;241m=\u001b[39m rect\u001b[38;5;241m.\u001b[39mwidth()\n\u001b[0;32m--> 840\u001b[0m \u001b[43mrect\u001b[49m\u001b[38;5;241;43m.\u001b[39;49m\u001b[43msetLeft\u001b[49m\u001b[43m(\u001b[49m\u001b[43mwidth\u001b[49m\u001b[43m \u001b[49m\u001b[38;5;241;43m*\u001b[39;49m\u001b[43m \u001b[49m\u001b[38;5;28;43mself\u001b[39;49m\u001b[38;5;241;43m.\u001b[39;49m\u001b[43mclip_min\u001b[49m\u001b[43m)\u001b[49m\n\u001b[1;32m    841\u001b[0m rect\u001b[38;5;241m.\u001b[39msetRight(width \u001b[38;5;241m*\u001b[39m \u001b[38;5;28mself\u001b[39m\u001b[38;5;241m.\u001b[39mclip_max)\n\u001b[1;32m    842\u001b[0m \u001b[38;5;28;01mreturn\u001b[39;00m rect\n",
      "\u001b[0;31mTypeError\u001b[0m: setLeft(self, pos: int): argument 1 has unexpected type 'float'"
     ]
    },
    {
     "ename": "TypeError",
     "evalue": "setLeft(self, pos: int): argument 1 has unexpected type 'float'",
     "output_type": "error",
     "traceback": [
      "\u001b[0;31m---------------------------------------------------------------------------\u001b[0m",
      "\u001b[0;31mTypeError\u001b[0m                                 Traceback (most recent call last)",
      "File \u001b[0;32m~/mambaforge/envs/gpgn-318/lib/python3.11/site-packages/pyrocko/gui/util.py:948\u001b[0m, in \u001b[0;36mColorbarSlider.paintEvent\u001b[0;34m(self, e)\u001b[0m\n\u001b[1;32m    942\u001b[0m \u001b[38;5;28mself\u001b[39m\u001b[38;5;241m.\u001b[39m_set_window(p\u001b[38;5;241m.\u001b[39mwindow())\n\u001b[1;32m    944\u001b[0m p\u001b[38;5;241m.\u001b[39mdrawImage(\n\u001b[1;32m    945\u001b[0m     p\u001b[38;5;241m.\u001b[39mwindow(),\n\u001b[1;32m    946\u001b[0m     get_colormap_qimage(\u001b[38;5;28mself\u001b[39m\u001b[38;5;241m.\u001b[39mcmap_name, \u001b[38;5;28mself\u001b[39m\u001b[38;5;241m.\u001b[39mclip_min, \u001b[38;5;28mself\u001b[39m\u001b[38;5;241m.\u001b[39mclip_max))\n\u001b[0;32m--> 948\u001b[0m left_line \u001b[38;5;241m=\u001b[39m \u001b[38;5;28;43mself\u001b[39;49m\u001b[38;5;241;43m.\u001b[39;49m\u001b[43m_get_left_line\u001b[49m\u001b[43m(\u001b[49m\u001b[43m)\u001b[49m\n\u001b[1;32m    949\u001b[0m right_line \u001b[38;5;241m=\u001b[39m \u001b[38;5;28mself\u001b[39m\u001b[38;5;241m.\u001b[39m_get_right_line()\n\u001b[1;32m    951\u001b[0m pen \u001b[38;5;241m=\u001b[39m qg\u001b[38;5;241m.\u001b[39mQPen()\n",
      "File \u001b[0;32m~/mambaforge/envs/gpgn-318/lib/python3.11/site-packages/pyrocko/gui/util.py:824\u001b[0m, in \u001b[0;36mColorbarSlider._get_left_line\u001b[0;34m(self)\u001b[0m\n\u001b[1;32m    823\u001b[0m \u001b[38;5;28;01mdef\u001b[39;00m \u001b[38;5;21m_get_left_line\u001b[39m(\u001b[38;5;28mself\u001b[39m):\n\u001b[0;32m--> 824\u001b[0m     rect \u001b[38;5;241m=\u001b[39m \u001b[38;5;28;43mself\u001b[39;49m\u001b[38;5;241;43m.\u001b[39;49m\u001b[43m_get_active_rect\u001b[49m\u001b[43m(\u001b[49m\u001b[43m)\u001b[49m\n\u001b[1;32m    825\u001b[0m     \u001b[38;5;28;01mif\u001b[39;00m \u001b[38;5;129;01mnot\u001b[39;00m rect:\n\u001b[1;32m    826\u001b[0m         \u001b[38;5;28;01mreturn\u001b[39;00m\n",
      "File \u001b[0;32m~/mambaforge/envs/gpgn-318/lib/python3.11/site-packages/pyrocko/gui/util.py:840\u001b[0m, in \u001b[0;36mColorbarSlider._get_active_rect\u001b[0;34m(self)\u001b[0m\n\u001b[1;32m    838\u001b[0m rect \u001b[38;5;241m=\u001b[39m qc\u001b[38;5;241m.\u001b[39mQRect(\u001b[38;5;28mself\u001b[39m\u001b[38;5;241m.\u001b[39m_window)\n\u001b[1;32m    839\u001b[0m width \u001b[38;5;241m=\u001b[39m rect\u001b[38;5;241m.\u001b[39mwidth()\n\u001b[0;32m--> 840\u001b[0m \u001b[43mrect\u001b[49m\u001b[38;5;241;43m.\u001b[39;49m\u001b[43msetLeft\u001b[49m\u001b[43m(\u001b[49m\u001b[43mwidth\u001b[49m\u001b[43m \u001b[49m\u001b[38;5;241;43m*\u001b[39;49m\u001b[43m \u001b[49m\u001b[38;5;28;43mself\u001b[39;49m\u001b[38;5;241;43m.\u001b[39;49m\u001b[43mclip_min\u001b[49m\u001b[43m)\u001b[49m\n\u001b[1;32m    841\u001b[0m rect\u001b[38;5;241m.\u001b[39msetRight(width \u001b[38;5;241m*\u001b[39m \u001b[38;5;28mself\u001b[39m\u001b[38;5;241m.\u001b[39mclip_max)\n\u001b[1;32m    842\u001b[0m \u001b[38;5;28;01mreturn\u001b[39;00m rect\n",
      "\u001b[0;31mTypeError\u001b[0m: setLeft(self, pos: int): argument 1 has unexpected type 'float'"
     ]
    },
    {
     "name": "stderr",
     "output_type": "stream",
     "text": [
      "QBackingStore::endPaint() called with active painter; did you forget to destroy it or call QPainter::end() on it?\n"
     ]
    },
    {
     "data": {
      "text/plain": [
       "\"\\n# do something with the traces:\\nnew_traces = []\\nfor tr in traces:\\n    new = tr.copy()\\n    new.whiten()\\n    # to allow the viewer to distinguish the traces\\n    new.set_location('whitened')\\n    new_traces.append(new)\\n\\ntrace.snuffle(traces + new_traces)\\n\\n# it is also possible to 'snuffle' a pile:\\np = pile.make_pile(['../data/bb_seismic/BB01.XX..EH1.2024.138'])\\np.snuffle()\\n\""
      ]
     },
     "execution_count": 1,
     "metadata": {},
     "output_type": "execute_result"
    }
   ],
   "source": [
    "\n",
    "traces = io.load('../data/mines_fc24/BOAT/BOAT.C0..HHN.2022.141')\n",
    "#traces[0].snuffle() # look at a single trace\n",
    "trace.snuffle(traces) # look at a bunch of traces\n",
    "'''\n",
    "# do something with the traces:\n",
    "new_traces = []\n",
    "for tr in traces:\n",
    "    new = tr.copy()\n",
    "    new.whiten()\n",
    "    # to allow the viewer to distinguish the traces\n",
    "    new.set_location('whitened')\n",
    "    new_traces.append(new)\n",
    "\n",
    "trace.snuffle(traces + new_traces)\n",
    "\n",
    "# it is also possible to 'snuffle' a pile:\n",
    "p = pile.make_pile(['../data/bb_seismic/BB01.XX..EH1.2024.138'])\n",
    "p.snuffle()\n",
    "'''"
   ]
  },
  {
   "cell_type": "code",
   "execution_count": null,
   "id": "c0b04b20-b272-4d22-b47b-902541994f29",
   "metadata": {},
   "outputs": [
    {
     "name": "stderr",
     "output_type": "stream",
     "text": [
      "selecting files... done. 24 files selected.\n"
     ]
    }
   ],
   "source": [
    "def read_file_names(file_path):\n",
    "    file_names = []\n",
    "    with open(file_path, 'r') as file:\n",
    "        for line in file:\n",
    "            # Split each line into individual file names using spaces as delimiter\n",
    "            names = line.strip().split()\n",
    "            # Add each file name to the list\n",
    "            file_names.extend(names)\n",
    "    return file_names\n",
    "\n",
    "# Example usage:\n",
    "file_path = '../easyquake/input_files/SHIP.in'  # Replace 'file_names.txt' with the path to your text file\n",
    "file_names_list = read_file_names(file_path)\n",
    "\n",
    "p = pile.make_pile(file_names_list) # concatenating multiple miniseed files to a pile object\n",
    "p.snuffle() # make a snuffle plot"
   ]
  },
  {
   "cell_type": "code",
   "execution_count": null,
   "id": "521dcf08-671c-43da-a119-e2e4d5207397",
   "metadata": {},
   "outputs": [],
   "source": []
  }
 ],
 "metadata": {
  "kernelspec": {
   "display_name": "Python 3 (ipykernel)",
   "language": "python",
   "name": "python3"
  },
  "language_info": {
   "codemirror_mode": {
    "name": "ipython",
    "version": 3
   },
   "file_extension": ".py",
   "mimetype": "text/x-python",
   "name": "python",
   "nbconvert_exporter": "python",
   "pygments_lexer": "ipython3",
   "version": "3.7.13"
  }
 },
 "nbformat": 4,
 "nbformat_minor": 5
}
