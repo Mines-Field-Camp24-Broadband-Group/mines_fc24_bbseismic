{
 "cells": [
  {
   "cell_type": "markdown",
   "id": "3bad7d87-ea4c-4a9e-bae4-29b55ed48e56",
   "metadata": {},
   "source": [
    "# Processing and Analyzing Broadband Seismometer Data\n",
    "\n",
    "Nathan Bigelow\n",
    "nathanbigelow@mines.edu\n",
    "\n",
    "## Important Notes For Data Analysis:\n",
    "\n",
    "### File notations (e.g. 'HH1'):\n",
    "- First letter: Band Code\n",
    "- Second letter: Instrument Code\n",
    "- Third letter: component direction\n",
    "\n",
    "### - BB01\n",
    "- 9 files total: 3 traces (138,142,144) for each of the 3 component traces (x,y,z), denoted as (EH1,EH2,EHZ)\n",
    "- 138: starts 5/17 @ 16:18 to 16:22\n",
    "- 142: starts 5/21 @ 00:22 to 00:23\n",
    "- 144: starts 5/23 @ 16:30 to 16:30\n",
    "\n",
    "### - BB02\n",
    "- 9 files total: 3 for each component (1,2,Z) and 3 for each channel (HH,LH,VM)\n",
    "- 138: starts 5/17 @ 02:03 to 03:53\n",
    "\n",
    "### - BB03\n",
    "- 9 files total: 3 for each component (1,2,Z) and 3 for each channel (HH,LH,VM)\n",
    "- 138: starts 5/17 @ 16:49 to 17:41"
   ]
  },
  {
   "cell_type": "code",
   "execution_count": null,
   "id": "2f2978ec-842d-448f-99d4-53f1b76b487a",
   "metadata": {},
   "outputs": [],
   "source": [
    "from pyrocko import io, trace, pile\n",
    "\n",
    "traces = io.load('../data/mines_fc24/BOAT/BOAT.C0..HHN.2022.141')\n",
    "#traces[0].snuffle() # look at a single trace\n",
    "trace.snuffle(traces) # look at a bunch of traces\n",
    "'''\n",
    "# do something with the traces:\n",
    "new_traces = []\n",
    "for tr in traces:\n",
    "    new = tr.copy()\n",
    "    new.whiten()\n",
    "    # to allow the viewer to distinguish the traces\n",
    "    new.set_location('whitened')\n",
    "    new_traces.append(new)\n",
    "\n",
    "trace.snuffle(traces + new_traces)\n",
    "\n",
    "# it is also possible to 'snuffle' a pile:\n",
    "p = pile.make_pile(['../data/bb_seismic/BB01.XX..EH1.2024.138'])\n",
    "p.snuffle()\n",
    "'''"
   ]
  },
  {
   "cell_type": "code",
   "execution_count": null,
   "id": "4e035f99-3632-4bd0-808f-a0d3576c7ff2",
   "metadata": {},
   "outputs": [],
   "source": []
  }
 ],
 "metadata": {
  "kernelspec": {
   "display_name": "Python 3 (ipykernel)",
   "language": "python",
   "name": "python3"
  },
  "language_info": {
   "codemirror_mode": {
    "name": "ipython",
    "version": 3
   },
   "file_extension": ".py",
   "mimetype": "text/x-python",
   "name": "python",
   "nbconvert_exporter": "python",
   "pygments_lexer": "ipython3",
   "version": "3.11.5"
  }
 },
 "nbformat": 4,
 "nbformat_minor": 5
}
